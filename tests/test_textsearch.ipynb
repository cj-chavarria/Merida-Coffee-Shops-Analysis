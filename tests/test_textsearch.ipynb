{
 "cells": [
  {
   "cell_type": "code",
   "execution_count": 2,
   "id": "cdda14e2",
   "metadata": {},
   "outputs": [],
   "source": [
    "import requests\n",
    "import pandas as pd\n",
    "import time\n",
    "from dotenv import load_dotenv\n",
    "import os"
   ]
  },
  {
   "cell_type": "code",
   "execution_count": 3,
   "id": "29e0645e",
   "metadata": {},
   "outputs": [],
   "source": [
    "load_dotenv()\n",
    "API_KEY = os.getenv('API_KEY')"
   ]
  },
  {
   "cell_type": "code",
   "execution_count": 4,
   "id": "d02b3005",
   "metadata": {},
   "outputs": [],
   "source": [
    "lat = 20.969900035287143\n",
    "lng = -89.62284583095014"
   ]
  },
  {
   "cell_type": "code",
   "execution_count": 5,
   "id": "403d5874",
   "metadata": {},
   "outputs": [],
   "source": [
    "search_url =  'https://places.googleapis.com/v1/places:searchText'"
   ]
  },
  {
   "cell_type": "code",
   "execution_count": 6,
   "id": "f910d2b7",
   "metadata": {},
   "outputs": [],
   "source": [
    "json = {\n",
    "    'textQuery' : 'cafeterias',\n",
    "    'locationBias': {\n",
    "        'circle':{\n",
    "            'center':{\n",
    "                \"latitude\": 21.039350342656476,\n",
    "                \"longitude\":-89.64255462519296\n",
    "            },\n",
    "            'radius' : 100\n",
    "        }\n",
    "    }\n",
    "}\n",
    "\n",
    "headers = {\n",
    "    'Content-Type': 'application/json',\n",
    "    'X-Goog-Api-Key': API_KEY,\n",
    "    'X-Goog-FieldMask': 'places.id,places.displayName,places.formattedAddress'\n",
    "}"
   ]
  },
  {
   "cell_type": "code",
   "execution_count": 7,
   "id": "afb59263",
   "metadata": {},
   "outputs": [],
   "source": [
    "response = requests.post(url=search_url, json=json, headers= headers)\n",
    "data = response.json()"
   ]
  },
  {
   "cell_type": "code",
   "execution_count": 8,
   "id": "3b6b81b8",
   "metadata": {},
   "outputs": [
    {
     "name": "stdout",
     "output_type": "stream",
     "text": [
      "{'places': [{'id': 'ChIJrYL12Ed0Vo8RVAMMAa51vMk', 'formattedAddress': 'C. 50 257, Francisco de Montejo, 97203 Mérida, Yuc., Mexico', 'displayName': {'text': 'La Barrita', 'languageCode': 'es'}}, {'id': 'ChIJcdRLT9V1Vo8Rl_AfdAGQTb0', 'formattedAddress': 'C. 43 B-x 54 y 56, Francisco de Montejo, 97203 Mérida, Yuc., Mexico', 'displayName': {'text': 'Astoria Café', 'languageCode': 'es'}}, {'id': 'ChIJuxT0gZh1Vo8RfPSYtVjVuF0', 'formattedAddress': 'Calle 20A, Residencial Galerías, C. 5A 297, entre calles, Xcumpich, 97204 Mérida, Yuc., Mexico', 'displayName': {'text': 'Trecaffé - Mérida', 'languageCode': 'es'}}, {'id': 'ChIJL5s9WE91Vo8ReLpPtT-0FwA', 'formattedAddress': 'C. 51 entre 44 y 46, Francisco de Montejo, 97203 Mérida, Yuc., Mexico', 'displayName': {'text': 'Shiro café', 'languageCode': 'es'}}, {'id': 'ChIJocFqncN3Vo8ReNsTCTJunnE', 'formattedAddress': 'Baltia Apartments, Calle 61 142, Montes de Amé, 97115 Mérida, Yuc., Mexico', 'displayName': {'text': 'Buen Confidente', 'languageCode': 'es'}}, {'id': 'ChIJuztrftB1Vo8RwlAQEp-lbOM', 'formattedAddress': 'Plaza paraiso, AV NO CONTAMINACION Local11, Sin Nombre de Col 27, 97203 Mérida, Yuc., Mexico', 'displayName': {'text': 'Bori cafe y comida coreana Merida', 'languageCode': 'es'}}, {'id': 'ChIJAzKX_Ll3Vo8R63vaa88ppnU', 'formattedAddress': 'Av. del Rogers Hall 151, Campestre, 97120 Mérida, Yuc., Mexico', 'displayName': {'text': 'Artesanal Bakery Coffee Shop', 'languageCode': 'es'}}, {'id': 'ChIJU845rWZ1Vo8RY65St4l5jT4', 'formattedAddress': 'C. 58, Francisco de Montejo II, 97203 Mérida, Yuc., Mexico', 'displayName': {'text': 'Café Esencia del Sembrador', 'languageCode': 'es'}}, {'id': 'ChIJDbtUZep1Vo8RHGKUNubML9s', 'formattedAddress': 'PLAZA ALTANA, LOCAL 11 Y 12, Pinzón II, 97205 Mérida, Yuc., Mexico', 'displayName': {'text': 'BLUÜM Barra de especialidad & brunch', 'languageCode': 'es'}}, {'id': 'ChIJ65ptbzl0Vo8RARZ7ZD3-BVc', 'formattedAddress': 'C. 43 176, Pinzón II, 97205 Mérida, Yuc., Mexico', 'displayName': {'text': 'Snow Drop. Cafeteria Coreana', 'languageCode': 'es'}}, {'id': 'ChIJVUqO71t3Vo8Rwn2qOYqu2V0', 'formattedAddress': 'Calle 49 308, Villas la Hacienda, 97119 Mérida, Yuc., Mexico', 'displayName': {'text': 'Atentamente - Jornada de Café', 'languageCode': 'es'}}, {'id': 'ChIJAw8S1kVxVo8RDWBuSt2VV_Y', 'formattedAddress': 'C. 58 444, Parque Santa Lucia, Centro, 97000 Mérida, Yuc., Mexico', 'displayName': {'text': 'Tinoc Café', 'languageCode': 'en'}}, {'id': 'ChIJG7soCCJ3Vo8RTQhyFqCDeE8', 'formattedAddress': 'C. 60 326 Col, Alcalá Martín, 97050 Mérida, Yuc., Mexico', 'displayName': {'text': 'Kadus Bistro', 'languageCode': 'en'}}, {'id': 'ChIJz2EwQ95xVo8RsIKO31bDjk0', 'formattedAddress': 'P.º de Montejo 433, Zona Paseo Montejo, Centro, 97000 Mérida, Yuc., Mexico', 'displayName': {'text': 'JUSTO Bread Studio', 'languageCode': 'es'}}, {'id': 'ChIJi9Co2_R1Vo8RrghscydPLe4', 'formattedAddress': 'Av. Xcumpich 310-Local 3, Juan B Sosa, 97205 Mérida, Yuc., Mexico', 'displayName': {'text': 'Zapote café', 'languageCode': 'es'}}, {'id': 'ChIJNYka6x53Vo8RpSHjzMgyE5E', 'formattedAddress': 'C. 37A 335-Local 2, entre Calle 24, Montealbán, 97114 Mérida, Yuc., Mexico', 'displayName': {'text': 'Vandola – Café de Especialidad | Coffee Shop', 'languageCode': 'es'}}, {'id': 'ChIJoXjwq8F1Vo8RuFcQVyx_CUc', 'formattedAddress': 'Calle 61 no299 local A. Por 48 y 50 colonia unidad habitacional, revolución Unidad habitacional revolución, Calle 61 299, Cordemex, 97110 Mérida, Yuc., Mexico', 'displayName': {'text': 'Condesa Barra de Café', 'languageCode': 'es'}}, {'id': 'ChIJC2Re97t3Vo8Rss1cv7K5ESA', 'formattedAddress': 'Av Jose Diaz Bolio 121-LOCAL 1, Col. México, México, 97125 Mérida, Yuc., Mexico', 'displayName': {'text': 'Cafetería Arista Barista Norte | Coffee Shop Artesanal en Mérida con café de especialidad', 'languageCode': 'es'}}, {'id': 'ChIJK-JJQdxzVo8R0COO1YkuUZg', 'formattedAddress': 'C. 59 584, entre 72 y 74, Barrio de Santiago, Centro, 97000 Mérida, Yuc., Mexico', 'displayName': {'text': 'Café Montejo', 'languageCode': 'en'}}, {'id': 'ChIJ6zJ11Nl3Vo8RrnvECvVAsA4', 'formattedAddress': 'Prol. Paseo Montejo 331, Benito Juárez Nte., 97119 Mérida, Yuc., Mexico', 'displayName': {'text': 'Luun Brunch & Coffee', 'languageCode': 'es'}}]}\n",
      "200\n"
     ]
    }
   ],
   "source": [
    "print(data)\n",
    "print(response.status_code)"
   ]
  },
  {
   "cell_type": "code",
   "execution_count": 9,
   "id": "4816af44",
   "metadata": {},
   "outputs": [
    {
     "data": {
      "application/vnd.microsoft.datawrangler.viewer.v0+json": {
       "columns": [
        {
         "name": "index",
         "rawType": "int64",
         "type": "integer"
        },
        {
         "name": "id",
         "rawType": "object",
         "type": "string"
        },
        {
         "name": "formattedAddress",
         "rawType": "object",
         "type": "string"
        },
        {
         "name": "displayName",
         "rawType": "object",
         "type": "unknown"
        }
       ],
       "ref": "d6bea3fb-82cc-4c06-8c73-dc37d0d76572",
       "rows": [
        [
         "0",
         "ChIJrYL12Ed0Vo8RVAMMAa51vMk",
         "C. 50 257, Francisco de Montejo, 97203 Mérida, Yuc., Mexico",
         "{'text': 'La Barrita', 'languageCode': 'es'}"
        ],
        [
         "1",
         "ChIJcdRLT9V1Vo8Rl_AfdAGQTb0",
         "C. 43 B-x 54 y 56, Francisco de Montejo, 97203 Mérida, Yuc., Mexico",
         "{'text': 'Astoria Café', 'languageCode': 'es'}"
        ],
        [
         "2",
         "ChIJuxT0gZh1Vo8RfPSYtVjVuF0",
         "Calle 20A, Residencial Galerías, C. 5A 297, entre calles, Xcumpich, 97204 Mérida, Yuc., Mexico",
         "{'text': 'Trecaffé - Mérida', 'languageCode': 'es'}"
        ],
        [
         "3",
         "ChIJL5s9WE91Vo8ReLpPtT-0FwA",
         "C. 51 entre 44 y 46, Francisco de Montejo, 97203 Mérida, Yuc., Mexico",
         "{'text': 'Shiro café', 'languageCode': 'es'}"
        ],
        [
         "4",
         "ChIJocFqncN3Vo8ReNsTCTJunnE",
         "Baltia Apartments, Calle 61 142, Montes de Amé, 97115 Mérida, Yuc., Mexico",
         "{'text': 'Buen Confidente', 'languageCode': 'es'}"
        ],
        [
         "5",
         "ChIJuztrftB1Vo8RwlAQEp-lbOM",
         "Plaza paraiso, AV NO CONTAMINACION Local11, Sin Nombre de Col 27, 97203 Mérida, Yuc., Mexico",
         "{'text': 'Bori cafe y comida coreana Merida', 'languageCode': 'es'}"
        ],
        [
         "6",
         "ChIJAzKX_Ll3Vo8R63vaa88ppnU",
         "Av. del Rogers Hall 151, Campestre, 97120 Mérida, Yuc., Mexico",
         "{'text': 'Artesanal Bakery Coffee Shop', 'languageCode': 'es'}"
        ],
        [
         "7",
         "ChIJU845rWZ1Vo8RY65St4l5jT4",
         "C. 58, Francisco de Montejo II, 97203 Mérida, Yuc., Mexico",
         "{'text': 'Café Esencia del Sembrador', 'languageCode': 'es'}"
        ],
        [
         "8",
         "ChIJDbtUZep1Vo8RHGKUNubML9s",
         "PLAZA ALTANA, LOCAL 11 Y 12, Pinzón II, 97205 Mérida, Yuc., Mexico",
         "{'text': 'BLUÜM Barra de especialidad & brunch', 'languageCode': 'es'}"
        ],
        [
         "9",
         "ChIJ65ptbzl0Vo8RARZ7ZD3-BVc",
         "C. 43 176, Pinzón II, 97205 Mérida, Yuc., Mexico",
         "{'text': 'Snow Drop. Cafeteria Coreana', 'languageCode': 'es'}"
        ],
        [
         "10",
         "ChIJVUqO71t3Vo8Rwn2qOYqu2V0",
         "Calle 49 308, Villas la Hacienda, 97119 Mérida, Yuc., Mexico",
         "{'text': 'Atentamente - Jornada de Café', 'languageCode': 'es'}"
        ],
        [
         "11",
         "ChIJAw8S1kVxVo8RDWBuSt2VV_Y",
         "C. 58 444, Parque Santa Lucia, Centro, 97000 Mérida, Yuc., Mexico",
         "{'text': 'Tinoc Café', 'languageCode': 'en'}"
        ],
        [
         "12",
         "ChIJG7soCCJ3Vo8RTQhyFqCDeE8",
         "C. 60 326 Col, Alcalá Martín, 97050 Mérida, Yuc., Mexico",
         "{'text': 'Kadus Bistro', 'languageCode': 'en'}"
        ],
        [
         "13",
         "ChIJz2EwQ95xVo8RsIKO31bDjk0",
         "P.º de Montejo 433, Zona Paseo Montejo, Centro, 97000 Mérida, Yuc., Mexico",
         "{'text': 'JUSTO Bread Studio', 'languageCode': 'es'}"
        ],
        [
         "14",
         "ChIJi9Co2_R1Vo8RrghscydPLe4",
         "Av. Xcumpich 310-Local 3, Juan B Sosa, 97205 Mérida, Yuc., Mexico",
         "{'text': 'Zapote café', 'languageCode': 'es'}"
        ],
        [
         "15",
         "ChIJNYka6x53Vo8RpSHjzMgyE5E",
         "C. 37A 335-Local 2, entre Calle 24, Montealbán, 97114 Mérida, Yuc., Mexico",
         "{'text': 'Vandola – Café de Especialidad | Coffee Shop', 'languageCode': 'es'}"
        ],
        [
         "16",
         "ChIJoXjwq8F1Vo8RuFcQVyx_CUc",
         "Calle 61 no299 local A. Por 48 y 50 colonia unidad habitacional, revolución Unidad habitacional revolución, Calle 61 299, Cordemex, 97110 Mérida, Yuc., Mexico",
         "{'text': 'Condesa Barra de Café', 'languageCode': 'es'}"
        ],
        [
         "17",
         "ChIJC2Re97t3Vo8Rss1cv7K5ESA",
         "Av Jose Diaz Bolio 121-LOCAL 1, Col. México, México, 97125 Mérida, Yuc., Mexico",
         "{'text': 'Cafetería Arista Barista Norte | Coffee Shop Artesanal en Mérida con café de especialidad', 'languageCode': 'es'}"
        ],
        [
         "18",
         "ChIJK-JJQdxzVo8R0COO1YkuUZg",
         "C. 59 584, entre 72 y 74, Barrio de Santiago, Centro, 97000 Mérida, Yuc., Mexico",
         "{'text': 'Café Montejo', 'languageCode': 'en'}"
        ],
        [
         "19",
         "ChIJ6zJ11Nl3Vo8RrnvECvVAsA4",
         "Prol. Paseo Montejo 331, Benito Juárez Nte., 97119 Mérida, Yuc., Mexico",
         "{'text': 'Luun Brunch & Coffee', 'languageCode': 'es'}"
        ]
       ],
       "shape": {
        "columns": 3,
        "rows": 20
       }
      },
      "text/html": [
       "<div>\n",
       "<style scoped>\n",
       "    .dataframe tbody tr th:only-of-type {\n",
       "        vertical-align: middle;\n",
       "    }\n",
       "\n",
       "    .dataframe tbody tr th {\n",
       "        vertical-align: top;\n",
       "    }\n",
       "\n",
       "    .dataframe thead th {\n",
       "        text-align: right;\n",
       "    }\n",
       "</style>\n",
       "<table border=\"1\" class=\"dataframe\">\n",
       "  <thead>\n",
       "    <tr style=\"text-align: right;\">\n",
       "      <th></th>\n",
       "      <th>id</th>\n",
       "      <th>formattedAddress</th>\n",
       "      <th>displayName</th>\n",
       "    </tr>\n",
       "  </thead>\n",
       "  <tbody>\n",
       "    <tr>\n",
       "      <th>0</th>\n",
       "      <td>ChIJrYL12Ed0Vo8RVAMMAa51vMk</td>\n",
       "      <td>C. 50 257, Francisco de Montejo, 97203 Mérida,...</td>\n",
       "      <td>{'text': 'La Barrita', 'languageCode': 'es'}</td>\n",
       "    </tr>\n",
       "    <tr>\n",
       "      <th>1</th>\n",
       "      <td>ChIJcdRLT9V1Vo8Rl_AfdAGQTb0</td>\n",
       "      <td>C. 43 B-x 54 y 56, Francisco de Montejo, 97203...</td>\n",
       "      <td>{'text': 'Astoria Café', 'languageCode': 'es'}</td>\n",
       "    </tr>\n",
       "    <tr>\n",
       "      <th>2</th>\n",
       "      <td>ChIJuxT0gZh1Vo8RfPSYtVjVuF0</td>\n",
       "      <td>Calle 20A, Residencial Galerías, C. 5A 297, en...</td>\n",
       "      <td>{'text': 'Trecaffé - Mérida', 'languageCode': ...</td>\n",
       "    </tr>\n",
       "    <tr>\n",
       "      <th>3</th>\n",
       "      <td>ChIJL5s9WE91Vo8ReLpPtT-0FwA</td>\n",
       "      <td>C. 51 entre 44 y 46, Francisco de Montejo, 972...</td>\n",
       "      <td>{'text': 'Shiro café', 'languageCode': 'es'}</td>\n",
       "    </tr>\n",
       "    <tr>\n",
       "      <th>4</th>\n",
       "      <td>ChIJocFqncN3Vo8ReNsTCTJunnE</td>\n",
       "      <td>Baltia Apartments, Calle 61 142, Montes de Amé...</td>\n",
       "      <td>{'text': 'Buen Confidente', 'languageCode': 'es'}</td>\n",
       "    </tr>\n",
       "    <tr>\n",
       "      <th>5</th>\n",
       "      <td>ChIJuztrftB1Vo8RwlAQEp-lbOM</td>\n",
       "      <td>Plaza paraiso, AV NO CONTAMINACION Local11, Si...</td>\n",
       "      <td>{'text': 'Bori cafe y comida coreana Merida', ...</td>\n",
       "    </tr>\n",
       "    <tr>\n",
       "      <th>6</th>\n",
       "      <td>ChIJAzKX_Ll3Vo8R63vaa88ppnU</td>\n",
       "      <td>Av. del Rogers Hall 151, Campestre, 97120 Méri...</td>\n",
       "      <td>{'text': 'Artesanal Bakery Coffee Shop', 'lang...</td>\n",
       "    </tr>\n",
       "    <tr>\n",
       "      <th>7</th>\n",
       "      <td>ChIJU845rWZ1Vo8RY65St4l5jT4</td>\n",
       "      <td>C. 58, Francisco de Montejo II, 97203 Mérida, ...</td>\n",
       "      <td>{'text': 'Café Esencia del Sembrador', 'langua...</td>\n",
       "    </tr>\n",
       "    <tr>\n",
       "      <th>8</th>\n",
       "      <td>ChIJDbtUZep1Vo8RHGKUNubML9s</td>\n",
       "      <td>PLAZA ALTANA, LOCAL 11 Y 12, Pinzón II, 97205 ...</td>\n",
       "      <td>{'text': 'BLUÜM Barra de especialidad &amp; brunch...</td>\n",
       "    </tr>\n",
       "    <tr>\n",
       "      <th>9</th>\n",
       "      <td>ChIJ65ptbzl0Vo8RARZ7ZD3-BVc</td>\n",
       "      <td>C. 43 176, Pinzón II, 97205 Mérida, Yuc., Mexico</td>\n",
       "      <td>{'text': 'Snow Drop. Cafeteria Coreana', 'lang...</td>\n",
       "    </tr>\n",
       "    <tr>\n",
       "      <th>10</th>\n",
       "      <td>ChIJVUqO71t3Vo8Rwn2qOYqu2V0</td>\n",
       "      <td>Calle 49 308, Villas la Hacienda, 97119 Mérida...</td>\n",
       "      <td>{'text': 'Atentamente - Jornada de Café', 'lan...</td>\n",
       "    </tr>\n",
       "    <tr>\n",
       "      <th>11</th>\n",
       "      <td>ChIJAw8S1kVxVo8RDWBuSt2VV_Y</td>\n",
       "      <td>C. 58 444, Parque Santa Lucia, Centro, 97000 M...</td>\n",
       "      <td>{'text': 'Tinoc Café', 'languageCode': 'en'}</td>\n",
       "    </tr>\n",
       "    <tr>\n",
       "      <th>12</th>\n",
       "      <td>ChIJG7soCCJ3Vo8RTQhyFqCDeE8</td>\n",
       "      <td>C. 60 326 Col, Alcalá Martín, 97050 Mérida, Yu...</td>\n",
       "      <td>{'text': 'Kadus Bistro', 'languageCode': 'en'}</td>\n",
       "    </tr>\n",
       "    <tr>\n",
       "      <th>13</th>\n",
       "      <td>ChIJz2EwQ95xVo8RsIKO31bDjk0</td>\n",
       "      <td>P.º de Montejo 433, Zona Paseo Montejo, Centro...</td>\n",
       "      <td>{'text': 'JUSTO Bread Studio', 'languageCode':...</td>\n",
       "    </tr>\n",
       "    <tr>\n",
       "      <th>14</th>\n",
       "      <td>ChIJi9Co2_R1Vo8RrghscydPLe4</td>\n",
       "      <td>Av. Xcumpich 310-Local 3, Juan B Sosa, 97205 M...</td>\n",
       "      <td>{'text': 'Zapote café', 'languageCode': 'es'}</td>\n",
       "    </tr>\n",
       "    <tr>\n",
       "      <th>15</th>\n",
       "      <td>ChIJNYka6x53Vo8RpSHjzMgyE5E</td>\n",
       "      <td>C. 37A 335-Local 2, entre Calle 24, Montealbán...</td>\n",
       "      <td>{'text': 'Vandola – Café de Especialidad | Cof...</td>\n",
       "    </tr>\n",
       "    <tr>\n",
       "      <th>16</th>\n",
       "      <td>ChIJoXjwq8F1Vo8RuFcQVyx_CUc</td>\n",
       "      <td>Calle 61 no299 local A. Por 48 y 50 colonia un...</td>\n",
       "      <td>{'text': 'Condesa Barra de Café', 'languageCod...</td>\n",
       "    </tr>\n",
       "    <tr>\n",
       "      <th>17</th>\n",
       "      <td>ChIJC2Re97t3Vo8Rss1cv7K5ESA</td>\n",
       "      <td>Av Jose Diaz Bolio 121-LOCAL 1, Col. México, M...</td>\n",
       "      <td>{'text': 'Cafetería Arista Barista Norte | Cof...</td>\n",
       "    </tr>\n",
       "    <tr>\n",
       "      <th>18</th>\n",
       "      <td>ChIJK-JJQdxzVo8R0COO1YkuUZg</td>\n",
       "      <td>C. 59 584, entre 72 y 74, Barrio de Santiago, ...</td>\n",
       "      <td>{'text': 'Café Montejo', 'languageCode': 'en'}</td>\n",
       "    </tr>\n",
       "    <tr>\n",
       "      <th>19</th>\n",
       "      <td>ChIJ6zJ11Nl3Vo8RrnvECvVAsA4</td>\n",
       "      <td>Prol. Paseo Montejo 331, Benito Juárez Nte., 9...</td>\n",
       "      <td>{'text': 'Luun Brunch &amp; Coffee', 'languageCode...</td>\n",
       "    </tr>\n",
       "  </tbody>\n",
       "</table>\n",
       "</div>"
      ],
      "text/plain": [
       "                             id  \\\n",
       "0   ChIJrYL12Ed0Vo8RVAMMAa51vMk   \n",
       "1   ChIJcdRLT9V1Vo8Rl_AfdAGQTb0   \n",
       "2   ChIJuxT0gZh1Vo8RfPSYtVjVuF0   \n",
       "3   ChIJL5s9WE91Vo8ReLpPtT-0FwA   \n",
       "4   ChIJocFqncN3Vo8ReNsTCTJunnE   \n",
       "5   ChIJuztrftB1Vo8RwlAQEp-lbOM   \n",
       "6   ChIJAzKX_Ll3Vo8R63vaa88ppnU   \n",
       "7   ChIJU845rWZ1Vo8RY65St4l5jT4   \n",
       "8   ChIJDbtUZep1Vo8RHGKUNubML9s   \n",
       "9   ChIJ65ptbzl0Vo8RARZ7ZD3-BVc   \n",
       "10  ChIJVUqO71t3Vo8Rwn2qOYqu2V0   \n",
       "11  ChIJAw8S1kVxVo8RDWBuSt2VV_Y   \n",
       "12  ChIJG7soCCJ3Vo8RTQhyFqCDeE8   \n",
       "13  ChIJz2EwQ95xVo8RsIKO31bDjk0   \n",
       "14  ChIJi9Co2_R1Vo8RrghscydPLe4   \n",
       "15  ChIJNYka6x53Vo8RpSHjzMgyE5E   \n",
       "16  ChIJoXjwq8F1Vo8RuFcQVyx_CUc   \n",
       "17  ChIJC2Re97t3Vo8Rss1cv7K5ESA   \n",
       "18  ChIJK-JJQdxzVo8R0COO1YkuUZg   \n",
       "19  ChIJ6zJ11Nl3Vo8RrnvECvVAsA4   \n",
       "\n",
       "                                     formattedAddress  \\\n",
       "0   C. 50 257, Francisco de Montejo, 97203 Mérida,...   \n",
       "1   C. 43 B-x 54 y 56, Francisco de Montejo, 97203...   \n",
       "2   Calle 20A, Residencial Galerías, C. 5A 297, en...   \n",
       "3   C. 51 entre 44 y 46, Francisco de Montejo, 972...   \n",
       "4   Baltia Apartments, Calle 61 142, Montes de Amé...   \n",
       "5   Plaza paraiso, AV NO CONTAMINACION Local11, Si...   \n",
       "6   Av. del Rogers Hall 151, Campestre, 97120 Méri...   \n",
       "7   C. 58, Francisco de Montejo II, 97203 Mérida, ...   \n",
       "8   PLAZA ALTANA, LOCAL 11 Y 12, Pinzón II, 97205 ...   \n",
       "9    C. 43 176, Pinzón II, 97205 Mérida, Yuc., Mexico   \n",
       "10  Calle 49 308, Villas la Hacienda, 97119 Mérida...   \n",
       "11  C. 58 444, Parque Santa Lucia, Centro, 97000 M...   \n",
       "12  C. 60 326 Col, Alcalá Martín, 97050 Mérida, Yu...   \n",
       "13  P.º de Montejo 433, Zona Paseo Montejo, Centro...   \n",
       "14  Av. Xcumpich 310-Local 3, Juan B Sosa, 97205 M...   \n",
       "15  C. 37A 335-Local 2, entre Calle 24, Montealbán...   \n",
       "16  Calle 61 no299 local A. Por 48 y 50 colonia un...   \n",
       "17  Av Jose Diaz Bolio 121-LOCAL 1, Col. México, M...   \n",
       "18  C. 59 584, entre 72 y 74, Barrio de Santiago, ...   \n",
       "19  Prol. Paseo Montejo 331, Benito Juárez Nte., 9...   \n",
       "\n",
       "                                          displayName  \n",
       "0        {'text': 'La Barrita', 'languageCode': 'es'}  \n",
       "1      {'text': 'Astoria Café', 'languageCode': 'es'}  \n",
       "2   {'text': 'Trecaffé - Mérida', 'languageCode': ...  \n",
       "3        {'text': 'Shiro café', 'languageCode': 'es'}  \n",
       "4   {'text': 'Buen Confidente', 'languageCode': 'es'}  \n",
       "5   {'text': 'Bori cafe y comida coreana Merida', ...  \n",
       "6   {'text': 'Artesanal Bakery Coffee Shop', 'lang...  \n",
       "7   {'text': 'Café Esencia del Sembrador', 'langua...  \n",
       "8   {'text': 'BLUÜM Barra de especialidad & brunch...  \n",
       "9   {'text': 'Snow Drop. Cafeteria Coreana', 'lang...  \n",
       "10  {'text': 'Atentamente - Jornada de Café', 'lan...  \n",
       "11       {'text': 'Tinoc Café', 'languageCode': 'en'}  \n",
       "12     {'text': 'Kadus Bistro', 'languageCode': 'en'}  \n",
       "13  {'text': 'JUSTO Bread Studio', 'languageCode':...  \n",
       "14      {'text': 'Zapote café', 'languageCode': 'es'}  \n",
       "15  {'text': 'Vandola – Café de Especialidad | Cof...  \n",
       "16  {'text': 'Condesa Barra de Café', 'languageCod...  \n",
       "17  {'text': 'Cafetería Arista Barista Norte | Cof...  \n",
       "18     {'text': 'Café Montejo', 'languageCode': 'en'}  \n",
       "19  {'text': 'Luun Brunch & Coffee', 'languageCode...  "
      ]
     },
     "execution_count": 9,
     "metadata": {},
     "output_type": "execute_result"
    }
   ],
   "source": [
    "df_search = pd.DataFrame(data['places'])\n",
    "df_search"
   ]
  },
  {
   "cell_type": "code",
   "execution_count": 10,
   "id": "87699830",
   "metadata": {},
   "outputs": [],
   "source": [
    "df_search['displayName'] = [name['text'] for name in df_search['displayName']]"
   ]
  },
  {
   "cell_type": "code",
   "execution_count": 11,
   "id": "6bec1650",
   "metadata": {},
   "outputs": [
    {
     "data": {
      "application/vnd.microsoft.datawrangler.viewer.v0+json": {
       "columns": [
        {
         "name": "index",
         "rawType": "int64",
         "type": "integer"
        },
        {
         "name": "id",
         "rawType": "object",
         "type": "string"
        },
        {
         "name": "formattedAddress",
         "rawType": "object",
         "type": "string"
        },
        {
         "name": "displayName",
         "rawType": "object",
         "type": "string"
        }
       ],
       "ref": "690cf7bf-c554-4d43-a179-47246e34983e",
       "rows": [
        [
         "0",
         "ChIJrYL12Ed0Vo8RVAMMAa51vMk",
         "C. 50 257, Francisco de Montejo, 97203 Mérida, Yuc., Mexico",
         "La Barrita"
        ],
        [
         "1",
         "ChIJcdRLT9V1Vo8Rl_AfdAGQTb0",
         "C. 43 B-x 54 y 56, Francisco de Montejo, 97203 Mérida, Yuc., Mexico",
         "Astoria Café"
        ],
        [
         "2",
         "ChIJuxT0gZh1Vo8RfPSYtVjVuF0",
         "Calle 20A, Residencial Galerías, C. 5A 297, entre calles, Xcumpich, 97204 Mérida, Yuc., Mexico",
         "Trecaffé - Mérida"
        ],
        [
         "3",
         "ChIJL5s9WE91Vo8ReLpPtT-0FwA",
         "C. 51 entre 44 y 46, Francisco de Montejo, 97203 Mérida, Yuc., Mexico",
         "Shiro café"
        ],
        [
         "4",
         "ChIJocFqncN3Vo8ReNsTCTJunnE",
         "Baltia Apartments, Calle 61 142, Montes de Amé, 97115 Mérida, Yuc., Mexico",
         "Buen Confidente"
        ],
        [
         "5",
         "ChIJuztrftB1Vo8RwlAQEp-lbOM",
         "Plaza paraiso, AV NO CONTAMINACION Local11, Sin Nombre de Col 27, 97203 Mérida, Yuc., Mexico",
         "Bori cafe y comida coreana Merida"
        ],
        [
         "6",
         "ChIJAzKX_Ll3Vo8R63vaa88ppnU",
         "Av. del Rogers Hall 151, Campestre, 97120 Mérida, Yuc., Mexico",
         "Artesanal Bakery Coffee Shop"
        ],
        [
         "7",
         "ChIJU845rWZ1Vo8RY65St4l5jT4",
         "C. 58, Francisco de Montejo II, 97203 Mérida, Yuc., Mexico",
         "Café Esencia del Sembrador"
        ],
        [
         "8",
         "ChIJDbtUZep1Vo8RHGKUNubML9s",
         "PLAZA ALTANA, LOCAL 11 Y 12, Pinzón II, 97205 Mérida, Yuc., Mexico",
         "BLUÜM Barra de especialidad & brunch"
        ],
        [
         "9",
         "ChIJ65ptbzl0Vo8RARZ7ZD3-BVc",
         "C. 43 176, Pinzón II, 97205 Mérida, Yuc., Mexico",
         "Snow Drop. Cafeteria Coreana"
        ],
        [
         "10",
         "ChIJVUqO71t3Vo8Rwn2qOYqu2V0",
         "Calle 49 308, Villas la Hacienda, 97119 Mérida, Yuc., Mexico",
         "Atentamente - Jornada de Café"
        ],
        [
         "11",
         "ChIJAw8S1kVxVo8RDWBuSt2VV_Y",
         "C. 58 444, Parque Santa Lucia, Centro, 97000 Mérida, Yuc., Mexico",
         "Tinoc Café"
        ],
        [
         "12",
         "ChIJG7soCCJ3Vo8RTQhyFqCDeE8",
         "C. 60 326 Col, Alcalá Martín, 97050 Mérida, Yuc., Mexico",
         "Kadus Bistro"
        ],
        [
         "13",
         "ChIJz2EwQ95xVo8RsIKO31bDjk0",
         "P.º de Montejo 433, Zona Paseo Montejo, Centro, 97000 Mérida, Yuc., Mexico",
         "JUSTO Bread Studio"
        ],
        [
         "14",
         "ChIJi9Co2_R1Vo8RrghscydPLe4",
         "Av. Xcumpich 310-Local 3, Juan B Sosa, 97205 Mérida, Yuc., Mexico",
         "Zapote café"
        ],
        [
         "15",
         "ChIJNYka6x53Vo8RpSHjzMgyE5E",
         "C. 37A 335-Local 2, entre Calle 24, Montealbán, 97114 Mérida, Yuc., Mexico",
         "Vandola – Café de Especialidad | Coffee Shop"
        ],
        [
         "16",
         "ChIJoXjwq8F1Vo8RuFcQVyx_CUc",
         "Calle 61 no299 local A. Por 48 y 50 colonia unidad habitacional, revolución Unidad habitacional revolución, Calle 61 299, Cordemex, 97110 Mérida, Yuc., Mexico",
         "Condesa Barra de Café"
        ],
        [
         "17",
         "ChIJC2Re97t3Vo8Rss1cv7K5ESA",
         "Av Jose Diaz Bolio 121-LOCAL 1, Col. México, México, 97125 Mérida, Yuc., Mexico",
         "Cafetería Arista Barista Norte | Coffee Shop Artesanal en Mérida con café de especialidad"
        ],
        [
         "18",
         "ChIJK-JJQdxzVo8R0COO1YkuUZg",
         "C. 59 584, entre 72 y 74, Barrio de Santiago, Centro, 97000 Mérida, Yuc., Mexico",
         "Café Montejo"
        ],
        [
         "19",
         "ChIJ6zJ11Nl3Vo8RrnvECvVAsA4",
         "Prol. Paseo Montejo 331, Benito Juárez Nte., 97119 Mérida, Yuc., Mexico",
         "Luun Brunch & Coffee"
        ]
       ],
       "shape": {
        "columns": 3,
        "rows": 20
       }
      },
      "text/html": [
       "<div>\n",
       "<style scoped>\n",
       "    .dataframe tbody tr th:only-of-type {\n",
       "        vertical-align: middle;\n",
       "    }\n",
       "\n",
       "    .dataframe tbody tr th {\n",
       "        vertical-align: top;\n",
       "    }\n",
       "\n",
       "    .dataframe thead th {\n",
       "        text-align: right;\n",
       "    }\n",
       "</style>\n",
       "<table border=\"1\" class=\"dataframe\">\n",
       "  <thead>\n",
       "    <tr style=\"text-align: right;\">\n",
       "      <th></th>\n",
       "      <th>id</th>\n",
       "      <th>formattedAddress</th>\n",
       "      <th>displayName</th>\n",
       "    </tr>\n",
       "  </thead>\n",
       "  <tbody>\n",
       "    <tr>\n",
       "      <th>0</th>\n",
       "      <td>ChIJrYL12Ed0Vo8RVAMMAa51vMk</td>\n",
       "      <td>C. 50 257, Francisco de Montejo, 97203 Mérida,...</td>\n",
       "      <td>La Barrita</td>\n",
       "    </tr>\n",
       "    <tr>\n",
       "      <th>1</th>\n",
       "      <td>ChIJcdRLT9V1Vo8Rl_AfdAGQTb0</td>\n",
       "      <td>C. 43 B-x 54 y 56, Francisco de Montejo, 97203...</td>\n",
       "      <td>Astoria Café</td>\n",
       "    </tr>\n",
       "    <tr>\n",
       "      <th>2</th>\n",
       "      <td>ChIJuxT0gZh1Vo8RfPSYtVjVuF0</td>\n",
       "      <td>Calle 20A, Residencial Galerías, C. 5A 297, en...</td>\n",
       "      <td>Trecaffé - Mérida</td>\n",
       "    </tr>\n",
       "    <tr>\n",
       "      <th>3</th>\n",
       "      <td>ChIJL5s9WE91Vo8ReLpPtT-0FwA</td>\n",
       "      <td>C. 51 entre 44 y 46, Francisco de Montejo, 972...</td>\n",
       "      <td>Shiro café</td>\n",
       "    </tr>\n",
       "    <tr>\n",
       "      <th>4</th>\n",
       "      <td>ChIJocFqncN3Vo8ReNsTCTJunnE</td>\n",
       "      <td>Baltia Apartments, Calle 61 142, Montes de Amé...</td>\n",
       "      <td>Buen Confidente</td>\n",
       "    </tr>\n",
       "    <tr>\n",
       "      <th>5</th>\n",
       "      <td>ChIJuztrftB1Vo8RwlAQEp-lbOM</td>\n",
       "      <td>Plaza paraiso, AV NO CONTAMINACION Local11, Si...</td>\n",
       "      <td>Bori cafe y comida coreana Merida</td>\n",
       "    </tr>\n",
       "    <tr>\n",
       "      <th>6</th>\n",
       "      <td>ChIJAzKX_Ll3Vo8R63vaa88ppnU</td>\n",
       "      <td>Av. del Rogers Hall 151, Campestre, 97120 Méri...</td>\n",
       "      <td>Artesanal Bakery Coffee Shop</td>\n",
       "    </tr>\n",
       "    <tr>\n",
       "      <th>7</th>\n",
       "      <td>ChIJU845rWZ1Vo8RY65St4l5jT4</td>\n",
       "      <td>C. 58, Francisco de Montejo II, 97203 Mérida, ...</td>\n",
       "      <td>Café Esencia del Sembrador</td>\n",
       "    </tr>\n",
       "    <tr>\n",
       "      <th>8</th>\n",
       "      <td>ChIJDbtUZep1Vo8RHGKUNubML9s</td>\n",
       "      <td>PLAZA ALTANA, LOCAL 11 Y 12, Pinzón II, 97205 ...</td>\n",
       "      <td>BLUÜM Barra de especialidad &amp; brunch</td>\n",
       "    </tr>\n",
       "    <tr>\n",
       "      <th>9</th>\n",
       "      <td>ChIJ65ptbzl0Vo8RARZ7ZD3-BVc</td>\n",
       "      <td>C. 43 176, Pinzón II, 97205 Mérida, Yuc., Mexico</td>\n",
       "      <td>Snow Drop. Cafeteria Coreana</td>\n",
       "    </tr>\n",
       "    <tr>\n",
       "      <th>10</th>\n",
       "      <td>ChIJVUqO71t3Vo8Rwn2qOYqu2V0</td>\n",
       "      <td>Calle 49 308, Villas la Hacienda, 97119 Mérida...</td>\n",
       "      <td>Atentamente - Jornada de Café</td>\n",
       "    </tr>\n",
       "    <tr>\n",
       "      <th>11</th>\n",
       "      <td>ChIJAw8S1kVxVo8RDWBuSt2VV_Y</td>\n",
       "      <td>C. 58 444, Parque Santa Lucia, Centro, 97000 M...</td>\n",
       "      <td>Tinoc Café</td>\n",
       "    </tr>\n",
       "    <tr>\n",
       "      <th>12</th>\n",
       "      <td>ChIJG7soCCJ3Vo8RTQhyFqCDeE8</td>\n",
       "      <td>C. 60 326 Col, Alcalá Martín, 97050 Mérida, Yu...</td>\n",
       "      <td>Kadus Bistro</td>\n",
       "    </tr>\n",
       "    <tr>\n",
       "      <th>13</th>\n",
       "      <td>ChIJz2EwQ95xVo8RsIKO31bDjk0</td>\n",
       "      <td>P.º de Montejo 433, Zona Paseo Montejo, Centro...</td>\n",
       "      <td>JUSTO Bread Studio</td>\n",
       "    </tr>\n",
       "    <tr>\n",
       "      <th>14</th>\n",
       "      <td>ChIJi9Co2_R1Vo8RrghscydPLe4</td>\n",
       "      <td>Av. Xcumpich 310-Local 3, Juan B Sosa, 97205 M...</td>\n",
       "      <td>Zapote café</td>\n",
       "    </tr>\n",
       "    <tr>\n",
       "      <th>15</th>\n",
       "      <td>ChIJNYka6x53Vo8RpSHjzMgyE5E</td>\n",
       "      <td>C. 37A 335-Local 2, entre Calle 24, Montealbán...</td>\n",
       "      <td>Vandola – Café de Especialidad | Coffee Shop</td>\n",
       "    </tr>\n",
       "    <tr>\n",
       "      <th>16</th>\n",
       "      <td>ChIJoXjwq8F1Vo8RuFcQVyx_CUc</td>\n",
       "      <td>Calle 61 no299 local A. Por 48 y 50 colonia un...</td>\n",
       "      <td>Condesa Barra de Café</td>\n",
       "    </tr>\n",
       "    <tr>\n",
       "      <th>17</th>\n",
       "      <td>ChIJC2Re97t3Vo8Rss1cv7K5ESA</td>\n",
       "      <td>Av Jose Diaz Bolio 121-LOCAL 1, Col. México, M...</td>\n",
       "      <td>Cafetería Arista Barista Norte | Coffee Shop A...</td>\n",
       "    </tr>\n",
       "    <tr>\n",
       "      <th>18</th>\n",
       "      <td>ChIJK-JJQdxzVo8R0COO1YkuUZg</td>\n",
       "      <td>C. 59 584, entre 72 y 74, Barrio de Santiago, ...</td>\n",
       "      <td>Café Montejo</td>\n",
       "    </tr>\n",
       "    <tr>\n",
       "      <th>19</th>\n",
       "      <td>ChIJ6zJ11Nl3Vo8RrnvECvVAsA4</td>\n",
       "      <td>Prol. Paseo Montejo 331, Benito Juárez Nte., 9...</td>\n",
       "      <td>Luun Brunch &amp; Coffee</td>\n",
       "    </tr>\n",
       "  </tbody>\n",
       "</table>\n",
       "</div>"
      ],
      "text/plain": [
       "                             id  \\\n",
       "0   ChIJrYL12Ed0Vo8RVAMMAa51vMk   \n",
       "1   ChIJcdRLT9V1Vo8Rl_AfdAGQTb0   \n",
       "2   ChIJuxT0gZh1Vo8RfPSYtVjVuF0   \n",
       "3   ChIJL5s9WE91Vo8ReLpPtT-0FwA   \n",
       "4   ChIJocFqncN3Vo8ReNsTCTJunnE   \n",
       "5   ChIJuztrftB1Vo8RwlAQEp-lbOM   \n",
       "6   ChIJAzKX_Ll3Vo8R63vaa88ppnU   \n",
       "7   ChIJU845rWZ1Vo8RY65St4l5jT4   \n",
       "8   ChIJDbtUZep1Vo8RHGKUNubML9s   \n",
       "9   ChIJ65ptbzl0Vo8RARZ7ZD3-BVc   \n",
       "10  ChIJVUqO71t3Vo8Rwn2qOYqu2V0   \n",
       "11  ChIJAw8S1kVxVo8RDWBuSt2VV_Y   \n",
       "12  ChIJG7soCCJ3Vo8RTQhyFqCDeE8   \n",
       "13  ChIJz2EwQ95xVo8RsIKO31bDjk0   \n",
       "14  ChIJi9Co2_R1Vo8RrghscydPLe4   \n",
       "15  ChIJNYka6x53Vo8RpSHjzMgyE5E   \n",
       "16  ChIJoXjwq8F1Vo8RuFcQVyx_CUc   \n",
       "17  ChIJC2Re97t3Vo8Rss1cv7K5ESA   \n",
       "18  ChIJK-JJQdxzVo8R0COO1YkuUZg   \n",
       "19  ChIJ6zJ11Nl3Vo8RrnvECvVAsA4   \n",
       "\n",
       "                                     formattedAddress  \\\n",
       "0   C. 50 257, Francisco de Montejo, 97203 Mérida,...   \n",
       "1   C. 43 B-x 54 y 56, Francisco de Montejo, 97203...   \n",
       "2   Calle 20A, Residencial Galerías, C. 5A 297, en...   \n",
       "3   C. 51 entre 44 y 46, Francisco de Montejo, 972...   \n",
       "4   Baltia Apartments, Calle 61 142, Montes de Amé...   \n",
       "5   Plaza paraiso, AV NO CONTAMINACION Local11, Si...   \n",
       "6   Av. del Rogers Hall 151, Campestre, 97120 Méri...   \n",
       "7   C. 58, Francisco de Montejo II, 97203 Mérida, ...   \n",
       "8   PLAZA ALTANA, LOCAL 11 Y 12, Pinzón II, 97205 ...   \n",
       "9    C. 43 176, Pinzón II, 97205 Mérida, Yuc., Mexico   \n",
       "10  Calle 49 308, Villas la Hacienda, 97119 Mérida...   \n",
       "11  C. 58 444, Parque Santa Lucia, Centro, 97000 M...   \n",
       "12  C. 60 326 Col, Alcalá Martín, 97050 Mérida, Yu...   \n",
       "13  P.º de Montejo 433, Zona Paseo Montejo, Centro...   \n",
       "14  Av. Xcumpich 310-Local 3, Juan B Sosa, 97205 M...   \n",
       "15  C. 37A 335-Local 2, entre Calle 24, Montealbán...   \n",
       "16  Calle 61 no299 local A. Por 48 y 50 colonia un...   \n",
       "17  Av Jose Diaz Bolio 121-LOCAL 1, Col. México, M...   \n",
       "18  C. 59 584, entre 72 y 74, Barrio de Santiago, ...   \n",
       "19  Prol. Paseo Montejo 331, Benito Juárez Nte., 9...   \n",
       "\n",
       "                                          displayName  \n",
       "0                                          La Barrita  \n",
       "1                                        Astoria Café  \n",
       "2                                   Trecaffé - Mérida  \n",
       "3                                          Shiro café  \n",
       "4                                     Buen Confidente  \n",
       "5                   Bori cafe y comida coreana Merida  \n",
       "6                        Artesanal Bakery Coffee Shop  \n",
       "7                          Café Esencia del Sembrador  \n",
       "8                BLUÜM Barra de especialidad & brunch  \n",
       "9                        Snow Drop. Cafeteria Coreana  \n",
       "10                      Atentamente - Jornada de Café  \n",
       "11                                         Tinoc Café  \n",
       "12                                       Kadus Bistro  \n",
       "13                                 JUSTO Bread Studio  \n",
       "14                                        Zapote café  \n",
       "15       Vandola – Café de Especialidad | Coffee Shop  \n",
       "16                              Condesa Barra de Café  \n",
       "17  Cafetería Arista Barista Norte | Coffee Shop A...  \n",
       "18                                       Café Montejo  \n",
       "19                               Luun Brunch & Coffee  "
      ]
     },
     "execution_count": 11,
     "metadata": {},
     "output_type": "execute_result"
    }
   ],
   "source": [
    "df_search"
   ]
  }
 ],
 "metadata": {
  "kernelspec": {
   "display_name": "Merida Coffee Shops Analysis (3.13.8)",
   "language": "python",
   "name": "python3"
  },
  "language_info": {
   "codemirror_mode": {
    "name": "ipython",
    "version": 3
   },
   "file_extension": ".py",
   "mimetype": "text/x-python",
   "name": "python",
   "nbconvert_exporter": "python",
   "pygments_lexer": "ipython3",
   "version": "3.13.8"
  }
 },
 "nbformat": 4,
 "nbformat_minor": 5
}
