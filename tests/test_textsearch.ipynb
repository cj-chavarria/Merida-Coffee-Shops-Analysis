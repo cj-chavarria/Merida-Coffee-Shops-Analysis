{
 "cells": [
  {
   "cell_type": "code",
   "execution_count": 1,
   "id": "cdda14e2",
   "metadata": {},
   "outputs": [],
   "source": [
    "import requests\n",
    "import pandas as pd\n",
    "import time\n",
    "from dotenv import load_dotenv\n",
    "import os"
   ]
  },
  {
   "cell_type": "code",
   "execution_count": 2,
   "id": "29e0645e",
   "metadata": {},
   "outputs": [],
   "source": [
    "load_dotenv()\n",
    "API_KEY = os.getenv('API_KEY')"
   ]
  },
  {
   "cell_type": "code",
   "execution_count": 3,
   "id": "d02b3005",
   "metadata": {},
   "outputs": [],
   "source": [
    "lat = 20.969900035287143\n",
    "lng = -89.62284583095014"
   ]
  },
  {
   "cell_type": "code",
   "execution_count": 4,
   "id": "403d5874",
   "metadata": {},
   "outputs": [],
   "source": [
    "search_url =  'https://places.googleapis.com/v1/places:searchText'"
   ]
  },
  {
   "cell_type": "code",
   "execution_count": 63,
   "id": "f910d2b7",
   "metadata": {},
   "outputs": [],
   "source": [
    "json = {\n",
    "    'textQuery' : 'cafeterias',\n",
    "    'locationBias': {\n",
    "        'circle':{\n",
    "            'center':{\n",
    "                \"latitude\": 21.039350342656476,\n",
    "                \"longitude\":-89.64255462519296\n",
    "            },\n",
    "            'radius' : 100\n",
    "        }\n",
    "    }\n",
    "}\n",
    "\n",
    "headers = {\n",
    "    'Content-Type': 'application/json',\n",
    "    'X-Goog-Api-Key': API_KEY,\n",
    "    'X-Goog-FieldMask': 'places.id,places.displayName,places.formattedAddress'\n",
    "}"
   ]
  },
  {
   "cell_type": "code",
   "execution_count": 64,
   "id": "afb59263",
   "metadata": {},
   "outputs": [],
   "source": [
    "response = requests.post(url=search_url, json=json, headers= headers)\n",
    "\n",
    "data = response.json()"
   ]
  },
  {
   "cell_type": "code",
   "execution_count": 65,
   "id": "3b6b81b8",
   "metadata": {},
   "outputs": [
    {
     "name": "stdout",
     "output_type": "stream",
     "text": [
      "{'places': [{'id': 'ChIJrYL12Ed0Vo8RVAMMAa51vMk', 'formattedAddress': 'C. 50 257, Francisco de Montejo, 97203 Mérida, Yuc., Mexico', 'displayName': {'text': 'La Barrita', 'languageCode': 'es'}}, {'id': 'ChIJcdRLT9V1Vo8Rl_AfdAGQTb0', 'formattedAddress': 'C. 43 B-x 54 y 56, Francisco de Montejo, 97203 Mérida, Yuc., Mexico', 'displayName': {'text': 'Astoria Café', 'languageCode': 'es'}}, {'id': 'ChIJWQABciZxVo8RMP4s8yMyzwg', 'formattedAddress': 'C. 41 251C, Fraccionamiento La Castellana, La Castellana, 97203 Mérida, Yuc., Mexico', 'displayName': {'text': 'Rosagante', 'languageCode': 'en'}}, {'id': 'ChIJuxT0gZh1Vo8RfPSYtVjVuF0', 'formattedAddress': 'Calle 20A, Residencial Galerías, C. 5A 297, entre calles, Xcumpich, 97204 Mérida, Yuc., Mexico', 'displayName': {'text': 'Trecaffé - Mérida', 'languageCode': 'es'}}, {'id': 'ChIJL4q0ExZ1Vo8RRWCExwtslbc', 'formattedAddress': '97203, Francisco de Montejo III, 97203 Mérida, Yuc., Mexico', 'displayName': {'text': 'Café Kii', 'languageCode': 'es'}}, {'id': 'ChIJocFqncN3Vo8ReNsTCTJunnE', 'formattedAddress': 'Baltia Apartments, Calle 61 142, Montes de Amé, 97115 Mérida, Yuc., Mexico', 'displayName': {'text': 'Buen Confidente', 'languageCode': 'es'}}, {'id': 'ChIJuwmA6fF3Vo8Rw8JuvDFpzXg', 'formattedAddress': 'Calle 40 Esquina con Calle 79 Temozón Norte, Temozon Norte, Sin Nombre de Col 27, 97302 Mérida, Yuc., Mexico', 'displayName': {'text': 'Aliberada Café - Desayunos & Brunch Mérida Yucatán', 'languageCode': 'es'}}, {'id': 'ChIJuztrftB1Vo8RwlAQEp-lbOM', 'formattedAddress': 'Plaza paraiso, AV NO CONTAMINACION Local11, Sin Nombre de Col 27, 97203 Mérida, Yuc., Mexico', 'displayName': {'text': 'Bori cafe y comida coreana Merida', 'languageCode': 'es'}}, {'id': 'ChIJ_Zno1BJzVo8RMRRcDJFUx5w', 'formattedAddress': 'C. 58 393, entre calle 37 y calle 39, Zona Paseo Montejo, Centro, 97000 Mérida, Yuc., Mexico', 'displayName': {'text': 'María & Montejo, Rituales de Café', 'languageCode': 'es'}}, {'id': 'ChIJJ9dYL9h1Vo8R1kAp_VEoDLY', 'formattedAddress': 'Interior del Jardín Botánico Regional Roger Orellana (CICY, C. 49 130, Chuburná de Hidalgo, 97205 Mérida, Yuc., Mexico', 'displayName': {'text': 'Cafesia', 'languageCode': 'es'}}, {'id': 'ChIJp3dDnS9xVo8RN8SKr9598Nk', 'formattedAddress': '40 218 x 67 esquina, Montes de Amé, 97115 Mérida, Yuc., Mexico', 'displayName': {'text': 'Querida Rosa Café Norte', 'languageCode': 'en'}}, {'id': 'ChIJO6PlWMp3Vo8RU9wIXO6xt20', 'formattedAddress': 'C. 23 321, San Ramón Nte, 97117 Mérida, Yuc., Mexico', 'displayName': {'text': 'Vous Amour', 'languageCode': 'es'}}, {'id': 'ChIJAzKX_Ll3Vo8R63vaa88ppnU', 'formattedAddress': 'Av. del Rogers Hall 151, Campestre, 97120 Mérida, Yuc., Mexico', 'displayName': {'text': 'Artesanal Bakery Coffee Shop', 'languageCode': 'es'}}, {'id': 'ChIJU845rWZ1Vo8RY65St4l5jT4', 'formattedAddress': 'C. 58, Francisco de Montejo II, 97203 Mérida, Yuc., Mexico', 'displayName': {'text': 'Café Esencia del Sembrador', 'languageCode': 'es'}}, {'id': 'ChIJVUqO71t3Vo8Rwn2qOYqu2V0', 'formattedAddress': 'Calle 49 308, Villas la Hacienda, 97119 Mérida, Yuc., Mexico', 'displayName': {'text': 'Atentamente - Jornada de Café', 'languageCode': 'es'}}, {'id': 'ChIJDbtUZep1Vo8RHGKUNubML9s', 'formattedAddress': 'PLAZA ALTANA, LOCAL 11 Y 12, Pinzón II, 97205 Mérida, Yuc., Mexico', 'displayName': {'text': 'BLUÜM Barra de especialidad & brunch', 'languageCode': 'es'}}, {'id': 'ChIJ65ptbzl0Vo8RARZ7ZD3-BVc', 'formattedAddress': 'C. 43 176, Pinzón II, 97205 Mérida, Yuc., Mexico', 'displayName': {'text': 'Snow Drop. Cafeteria Coreana', 'languageCode': 'es'}}, {'id': 'ChIJAw8S1kVxVo8RDWBuSt2VV_Y', 'formattedAddress': 'C. 58 444, Parque Santa Lucia, Centro, 97000 Mérida, Yuc., Mexico', 'displayName': {'text': 'Tinoc Café', 'languageCode': 'en'}}, {'id': 'ChIJGVfyrhhxVo8R8HY82pkUbBE', 'formattedAddress': 'C. 27 279, Miguel Alemán, 97148 Mérida, Yuc., Mexico', 'displayName': {'text': 'Cafetería Fluffy - Brunch, bakery, coffee', 'languageCode': 'en'}}, {'id': 'ChIJG7soCCJ3Vo8RTQhyFqCDeE8', 'formattedAddress': 'C. 60 326 Col, Alcalá Martín, 97050 Mérida, Yuc., Mexico', 'displayName': {'text': 'Kadus Bistro', 'languageCode': 'en'}}]}\n"
     ]
    }
   ],
   "source": [
    "print(data)"
   ]
  },
  {
   "cell_type": "code",
   "execution_count": 66,
   "id": "4816af44",
   "metadata": {},
   "outputs": [
    {
     "data": {
      "application/vnd.microsoft.datawrangler.viewer.v0+json": {
       "columns": [
        {
         "name": "index",
         "rawType": "int64",
         "type": "integer"
        },
        {
         "name": "id",
         "rawType": "object",
         "type": "string"
        },
        {
         "name": "formattedAddress",
         "rawType": "object",
         "type": "string"
        },
        {
         "name": "displayName",
         "rawType": "object",
         "type": "unknown"
        }
       ],
       "ref": "91a724d1-0e1c-43f5-9302-7e6ca616781e",
       "rows": [
        [
         "0",
         "ChIJrYL12Ed0Vo8RVAMMAa51vMk",
         "C. 50 257, Francisco de Montejo, 97203 Mérida, Yuc., Mexico",
         "{'text': 'La Barrita', 'languageCode': 'es'}"
        ],
        [
         "1",
         "ChIJcdRLT9V1Vo8Rl_AfdAGQTb0",
         "C. 43 B-x 54 y 56, Francisco de Montejo, 97203 Mérida, Yuc., Mexico",
         "{'text': 'Astoria Café', 'languageCode': 'es'}"
        ],
        [
         "2",
         "ChIJWQABciZxVo8RMP4s8yMyzwg",
         "C. 41 251C, Fraccionamiento La Castellana, La Castellana, 97203 Mérida, Yuc., Mexico",
         "{'text': 'Rosagante', 'languageCode': 'en'}"
        ],
        [
         "3",
         "ChIJuxT0gZh1Vo8RfPSYtVjVuF0",
         "Calle 20A, Residencial Galerías, C. 5A 297, entre calles, Xcumpich, 97204 Mérida, Yuc., Mexico",
         "{'text': 'Trecaffé - Mérida', 'languageCode': 'es'}"
        ],
        [
         "4",
         "ChIJL4q0ExZ1Vo8RRWCExwtslbc",
         "97203, Francisco de Montejo III, 97203 Mérida, Yuc., Mexico",
         "{'text': 'Café Kii', 'languageCode': 'es'}"
        ],
        [
         "5",
         "ChIJocFqncN3Vo8ReNsTCTJunnE",
         "Baltia Apartments, Calle 61 142, Montes de Amé, 97115 Mérida, Yuc., Mexico",
         "{'text': 'Buen Confidente', 'languageCode': 'es'}"
        ],
        [
         "6",
         "ChIJuwmA6fF3Vo8Rw8JuvDFpzXg",
         "Calle 40 Esquina con Calle 79 Temozón Norte, Temozon Norte, Sin Nombre de Col 27, 97302 Mérida, Yuc., Mexico",
         "{'text': 'Aliberada Café - Desayunos & Brunch Mérida Yucatán', 'languageCode': 'es'}"
        ],
        [
         "7",
         "ChIJuztrftB1Vo8RwlAQEp-lbOM",
         "Plaza paraiso, AV NO CONTAMINACION Local11, Sin Nombre de Col 27, 97203 Mérida, Yuc., Mexico",
         "{'text': 'Bori cafe y comida coreana Merida', 'languageCode': 'es'}"
        ],
        [
         "8",
         "ChIJ_Zno1BJzVo8RMRRcDJFUx5w",
         "C. 58 393, entre calle 37 y calle 39, Zona Paseo Montejo, Centro, 97000 Mérida, Yuc., Mexico",
         "{'text': 'María & Montejo, Rituales de Café', 'languageCode': 'es'}"
        ],
        [
         "9",
         "ChIJJ9dYL9h1Vo8R1kAp_VEoDLY",
         "Interior del Jardín Botánico Regional Roger Orellana (CICY, C. 49 130, Chuburná de Hidalgo, 97205 Mérida, Yuc., Mexico",
         "{'text': 'Cafesia', 'languageCode': 'es'}"
        ],
        [
         "10",
         "ChIJp3dDnS9xVo8RN8SKr9598Nk",
         "40 218 x 67 esquina, Montes de Amé, 97115 Mérida, Yuc., Mexico",
         "{'text': 'Querida Rosa Café Norte', 'languageCode': 'en'}"
        ],
        [
         "11",
         "ChIJO6PlWMp3Vo8RU9wIXO6xt20",
         "C. 23 321, San Ramón Nte, 97117 Mérida, Yuc., Mexico",
         "{'text': 'Vous Amour', 'languageCode': 'es'}"
        ],
        [
         "12",
         "ChIJAzKX_Ll3Vo8R63vaa88ppnU",
         "Av. del Rogers Hall 151, Campestre, 97120 Mérida, Yuc., Mexico",
         "{'text': 'Artesanal Bakery Coffee Shop', 'languageCode': 'es'}"
        ],
        [
         "13",
         "ChIJU845rWZ1Vo8RY65St4l5jT4",
         "C. 58, Francisco de Montejo II, 97203 Mérida, Yuc., Mexico",
         "{'text': 'Café Esencia del Sembrador', 'languageCode': 'es'}"
        ],
        [
         "14",
         "ChIJVUqO71t3Vo8Rwn2qOYqu2V0",
         "Calle 49 308, Villas la Hacienda, 97119 Mérida, Yuc., Mexico",
         "{'text': 'Atentamente - Jornada de Café', 'languageCode': 'es'}"
        ],
        [
         "15",
         "ChIJDbtUZep1Vo8RHGKUNubML9s",
         "PLAZA ALTANA, LOCAL 11 Y 12, Pinzón II, 97205 Mérida, Yuc., Mexico",
         "{'text': 'BLUÜM Barra de especialidad & brunch', 'languageCode': 'es'}"
        ],
        [
         "16",
         "ChIJ65ptbzl0Vo8RARZ7ZD3-BVc",
         "C. 43 176, Pinzón II, 97205 Mérida, Yuc., Mexico",
         "{'text': 'Snow Drop. Cafeteria Coreana', 'languageCode': 'es'}"
        ],
        [
         "17",
         "ChIJAw8S1kVxVo8RDWBuSt2VV_Y",
         "C. 58 444, Parque Santa Lucia, Centro, 97000 Mérida, Yuc., Mexico",
         "{'text': 'Tinoc Café', 'languageCode': 'en'}"
        ],
        [
         "18",
         "ChIJGVfyrhhxVo8R8HY82pkUbBE",
         "C. 27 279, Miguel Alemán, 97148 Mérida, Yuc., Mexico",
         "{'text': 'Cafetería Fluffy - Brunch, bakery, coffee', 'languageCode': 'en'}"
        ],
        [
         "19",
         "ChIJG7soCCJ3Vo8RTQhyFqCDeE8",
         "C. 60 326 Col, Alcalá Martín, 97050 Mérida, Yuc., Mexico",
         "{'text': 'Kadus Bistro', 'languageCode': 'en'}"
        ]
       ],
       "shape": {
        "columns": 3,
        "rows": 20
       }
      },
      "text/html": [
       "<div>\n",
       "<style scoped>\n",
       "    .dataframe tbody tr th:only-of-type {\n",
       "        vertical-align: middle;\n",
       "    }\n",
       "\n",
       "    .dataframe tbody tr th {\n",
       "        vertical-align: top;\n",
       "    }\n",
       "\n",
       "    .dataframe thead th {\n",
       "        text-align: right;\n",
       "    }\n",
       "</style>\n",
       "<table border=\"1\" class=\"dataframe\">\n",
       "  <thead>\n",
       "    <tr style=\"text-align: right;\">\n",
       "      <th></th>\n",
       "      <th>id</th>\n",
       "      <th>formattedAddress</th>\n",
       "      <th>displayName</th>\n",
       "    </tr>\n",
       "  </thead>\n",
       "  <tbody>\n",
       "    <tr>\n",
       "      <th>0</th>\n",
       "      <td>ChIJrYL12Ed0Vo8RVAMMAa51vMk</td>\n",
       "      <td>C. 50 257, Francisco de Montejo, 97203 Mérida,...</td>\n",
       "      <td>{'text': 'La Barrita', 'languageCode': 'es'}</td>\n",
       "    </tr>\n",
       "    <tr>\n",
       "      <th>1</th>\n",
       "      <td>ChIJcdRLT9V1Vo8Rl_AfdAGQTb0</td>\n",
       "      <td>C. 43 B-x 54 y 56, Francisco de Montejo, 97203...</td>\n",
       "      <td>{'text': 'Astoria Café', 'languageCode': 'es'}</td>\n",
       "    </tr>\n",
       "    <tr>\n",
       "      <th>2</th>\n",
       "      <td>ChIJWQABciZxVo8RMP4s8yMyzwg</td>\n",
       "      <td>C. 41 251C, Fraccionamiento La Castellana, La ...</td>\n",
       "      <td>{'text': 'Rosagante', 'languageCode': 'en'}</td>\n",
       "    </tr>\n",
       "    <tr>\n",
       "      <th>3</th>\n",
       "      <td>ChIJuxT0gZh1Vo8RfPSYtVjVuF0</td>\n",
       "      <td>Calle 20A, Residencial Galerías, C. 5A 297, en...</td>\n",
       "      <td>{'text': 'Trecaffé - Mérida', 'languageCode': ...</td>\n",
       "    </tr>\n",
       "    <tr>\n",
       "      <th>4</th>\n",
       "      <td>ChIJL4q0ExZ1Vo8RRWCExwtslbc</td>\n",
       "      <td>97203, Francisco de Montejo III, 97203 Mérida,...</td>\n",
       "      <td>{'text': 'Café Kii', 'languageCode': 'es'}</td>\n",
       "    </tr>\n",
       "    <tr>\n",
       "      <th>5</th>\n",
       "      <td>ChIJocFqncN3Vo8ReNsTCTJunnE</td>\n",
       "      <td>Baltia Apartments, Calle 61 142, Montes de Amé...</td>\n",
       "      <td>{'text': 'Buen Confidente', 'languageCode': 'es'}</td>\n",
       "    </tr>\n",
       "    <tr>\n",
       "      <th>6</th>\n",
       "      <td>ChIJuwmA6fF3Vo8Rw8JuvDFpzXg</td>\n",
       "      <td>Calle 40 Esquina con Calle 79 Temozón Norte, T...</td>\n",
       "      <td>{'text': 'Aliberada Café - Desayunos &amp; Brunch ...</td>\n",
       "    </tr>\n",
       "    <tr>\n",
       "      <th>7</th>\n",
       "      <td>ChIJuztrftB1Vo8RwlAQEp-lbOM</td>\n",
       "      <td>Plaza paraiso, AV NO CONTAMINACION Local11, Si...</td>\n",
       "      <td>{'text': 'Bori cafe y comida coreana Merida', ...</td>\n",
       "    </tr>\n",
       "    <tr>\n",
       "      <th>8</th>\n",
       "      <td>ChIJ_Zno1BJzVo8RMRRcDJFUx5w</td>\n",
       "      <td>C. 58 393, entre calle 37 y calle 39, Zona Pas...</td>\n",
       "      <td>{'text': 'María &amp; Montejo, Rituales de Café', ...</td>\n",
       "    </tr>\n",
       "    <tr>\n",
       "      <th>9</th>\n",
       "      <td>ChIJJ9dYL9h1Vo8R1kAp_VEoDLY</td>\n",
       "      <td>Interior del Jardín Botánico Regional Roger Or...</td>\n",
       "      <td>{'text': 'Cafesia', 'languageCode': 'es'}</td>\n",
       "    </tr>\n",
       "    <tr>\n",
       "      <th>10</th>\n",
       "      <td>ChIJp3dDnS9xVo8RN8SKr9598Nk</td>\n",
       "      <td>40 218 x 67 esquina, Montes de Amé, 97115 Méri...</td>\n",
       "      <td>{'text': 'Querida Rosa Café Norte', 'languageC...</td>\n",
       "    </tr>\n",
       "    <tr>\n",
       "      <th>11</th>\n",
       "      <td>ChIJO6PlWMp3Vo8RU9wIXO6xt20</td>\n",
       "      <td>C. 23 321, San Ramón Nte, 97117 Mérida, Yuc., ...</td>\n",
       "      <td>{'text': 'Vous Amour', 'languageCode': 'es'}</td>\n",
       "    </tr>\n",
       "    <tr>\n",
       "      <th>12</th>\n",
       "      <td>ChIJAzKX_Ll3Vo8R63vaa88ppnU</td>\n",
       "      <td>Av. del Rogers Hall 151, Campestre, 97120 Méri...</td>\n",
       "      <td>{'text': 'Artesanal Bakery Coffee Shop', 'lang...</td>\n",
       "    </tr>\n",
       "    <tr>\n",
       "      <th>13</th>\n",
       "      <td>ChIJU845rWZ1Vo8RY65St4l5jT4</td>\n",
       "      <td>C. 58, Francisco de Montejo II, 97203 Mérida, ...</td>\n",
       "      <td>{'text': 'Café Esencia del Sembrador', 'langua...</td>\n",
       "    </tr>\n",
       "    <tr>\n",
       "      <th>14</th>\n",
       "      <td>ChIJVUqO71t3Vo8Rwn2qOYqu2V0</td>\n",
       "      <td>Calle 49 308, Villas la Hacienda, 97119 Mérida...</td>\n",
       "      <td>{'text': 'Atentamente - Jornada de Café', 'lan...</td>\n",
       "    </tr>\n",
       "    <tr>\n",
       "      <th>15</th>\n",
       "      <td>ChIJDbtUZep1Vo8RHGKUNubML9s</td>\n",
       "      <td>PLAZA ALTANA, LOCAL 11 Y 12, Pinzón II, 97205 ...</td>\n",
       "      <td>{'text': 'BLUÜM Barra de especialidad &amp; brunch...</td>\n",
       "    </tr>\n",
       "    <tr>\n",
       "      <th>16</th>\n",
       "      <td>ChIJ65ptbzl0Vo8RARZ7ZD3-BVc</td>\n",
       "      <td>C. 43 176, Pinzón II, 97205 Mérida, Yuc., Mexico</td>\n",
       "      <td>{'text': 'Snow Drop. Cafeteria Coreana', 'lang...</td>\n",
       "    </tr>\n",
       "    <tr>\n",
       "      <th>17</th>\n",
       "      <td>ChIJAw8S1kVxVo8RDWBuSt2VV_Y</td>\n",
       "      <td>C. 58 444, Parque Santa Lucia, Centro, 97000 M...</td>\n",
       "      <td>{'text': 'Tinoc Café', 'languageCode': 'en'}</td>\n",
       "    </tr>\n",
       "    <tr>\n",
       "      <th>18</th>\n",
       "      <td>ChIJGVfyrhhxVo8R8HY82pkUbBE</td>\n",
       "      <td>C. 27 279, Miguel Alemán, 97148 Mérida, Yuc., ...</td>\n",
       "      <td>{'text': 'Cafetería Fluffy - Brunch, bakery, c...</td>\n",
       "    </tr>\n",
       "    <tr>\n",
       "      <th>19</th>\n",
       "      <td>ChIJG7soCCJ3Vo8RTQhyFqCDeE8</td>\n",
       "      <td>C. 60 326 Col, Alcalá Martín, 97050 Mérida, Yu...</td>\n",
       "      <td>{'text': 'Kadus Bistro', 'languageCode': 'en'}</td>\n",
       "    </tr>\n",
       "  </tbody>\n",
       "</table>\n",
       "</div>"
      ],
      "text/plain": [
       "                             id  \\\n",
       "0   ChIJrYL12Ed0Vo8RVAMMAa51vMk   \n",
       "1   ChIJcdRLT9V1Vo8Rl_AfdAGQTb0   \n",
       "2   ChIJWQABciZxVo8RMP4s8yMyzwg   \n",
       "3   ChIJuxT0gZh1Vo8RfPSYtVjVuF0   \n",
       "4   ChIJL4q0ExZ1Vo8RRWCExwtslbc   \n",
       "5   ChIJocFqncN3Vo8ReNsTCTJunnE   \n",
       "6   ChIJuwmA6fF3Vo8Rw8JuvDFpzXg   \n",
       "7   ChIJuztrftB1Vo8RwlAQEp-lbOM   \n",
       "8   ChIJ_Zno1BJzVo8RMRRcDJFUx5w   \n",
       "9   ChIJJ9dYL9h1Vo8R1kAp_VEoDLY   \n",
       "10  ChIJp3dDnS9xVo8RN8SKr9598Nk   \n",
       "11  ChIJO6PlWMp3Vo8RU9wIXO6xt20   \n",
       "12  ChIJAzKX_Ll3Vo8R63vaa88ppnU   \n",
       "13  ChIJU845rWZ1Vo8RY65St4l5jT4   \n",
       "14  ChIJVUqO71t3Vo8Rwn2qOYqu2V0   \n",
       "15  ChIJDbtUZep1Vo8RHGKUNubML9s   \n",
       "16  ChIJ65ptbzl0Vo8RARZ7ZD3-BVc   \n",
       "17  ChIJAw8S1kVxVo8RDWBuSt2VV_Y   \n",
       "18  ChIJGVfyrhhxVo8R8HY82pkUbBE   \n",
       "19  ChIJG7soCCJ3Vo8RTQhyFqCDeE8   \n",
       "\n",
       "                                     formattedAddress  \\\n",
       "0   C. 50 257, Francisco de Montejo, 97203 Mérida,...   \n",
       "1   C. 43 B-x 54 y 56, Francisco de Montejo, 97203...   \n",
       "2   C. 41 251C, Fraccionamiento La Castellana, La ...   \n",
       "3   Calle 20A, Residencial Galerías, C. 5A 297, en...   \n",
       "4   97203, Francisco de Montejo III, 97203 Mérida,...   \n",
       "5   Baltia Apartments, Calle 61 142, Montes de Amé...   \n",
       "6   Calle 40 Esquina con Calle 79 Temozón Norte, T...   \n",
       "7   Plaza paraiso, AV NO CONTAMINACION Local11, Si...   \n",
       "8   C. 58 393, entre calle 37 y calle 39, Zona Pas...   \n",
       "9   Interior del Jardín Botánico Regional Roger Or...   \n",
       "10  40 218 x 67 esquina, Montes de Amé, 97115 Méri...   \n",
       "11  C. 23 321, San Ramón Nte, 97117 Mérida, Yuc., ...   \n",
       "12  Av. del Rogers Hall 151, Campestre, 97120 Méri...   \n",
       "13  C. 58, Francisco de Montejo II, 97203 Mérida, ...   \n",
       "14  Calle 49 308, Villas la Hacienda, 97119 Mérida...   \n",
       "15  PLAZA ALTANA, LOCAL 11 Y 12, Pinzón II, 97205 ...   \n",
       "16   C. 43 176, Pinzón II, 97205 Mérida, Yuc., Mexico   \n",
       "17  C. 58 444, Parque Santa Lucia, Centro, 97000 M...   \n",
       "18  C. 27 279, Miguel Alemán, 97148 Mérida, Yuc., ...   \n",
       "19  C. 60 326 Col, Alcalá Martín, 97050 Mérida, Yu...   \n",
       "\n",
       "                                          displayName  \n",
       "0        {'text': 'La Barrita', 'languageCode': 'es'}  \n",
       "1      {'text': 'Astoria Café', 'languageCode': 'es'}  \n",
       "2         {'text': 'Rosagante', 'languageCode': 'en'}  \n",
       "3   {'text': 'Trecaffé - Mérida', 'languageCode': ...  \n",
       "4          {'text': 'Café Kii', 'languageCode': 'es'}  \n",
       "5   {'text': 'Buen Confidente', 'languageCode': 'es'}  \n",
       "6   {'text': 'Aliberada Café - Desayunos & Brunch ...  \n",
       "7   {'text': 'Bori cafe y comida coreana Merida', ...  \n",
       "8   {'text': 'María & Montejo, Rituales de Café', ...  \n",
       "9           {'text': 'Cafesia', 'languageCode': 'es'}  \n",
       "10  {'text': 'Querida Rosa Café Norte', 'languageC...  \n",
       "11       {'text': 'Vous Amour', 'languageCode': 'es'}  \n",
       "12  {'text': 'Artesanal Bakery Coffee Shop', 'lang...  \n",
       "13  {'text': 'Café Esencia del Sembrador', 'langua...  \n",
       "14  {'text': 'Atentamente - Jornada de Café', 'lan...  \n",
       "15  {'text': 'BLUÜM Barra de especialidad & brunch...  \n",
       "16  {'text': 'Snow Drop. Cafeteria Coreana', 'lang...  \n",
       "17       {'text': 'Tinoc Café', 'languageCode': 'en'}  \n",
       "18  {'text': 'Cafetería Fluffy - Brunch, bakery, c...  \n",
       "19     {'text': 'Kadus Bistro', 'languageCode': 'en'}  "
      ]
     },
     "execution_count": 66,
     "metadata": {},
     "output_type": "execute_result"
    }
   ],
   "source": [
    "df_search = pd.DataFrame(data['places'])\n",
    "df_search"
   ]
  },
  {
   "cell_type": "code",
   "execution_count": 67,
   "id": "87699830",
   "metadata": {},
   "outputs": [],
   "source": [
    "df_search['displayName'] = [name['text'] for name in df_search['displayName']]"
   ]
  },
  {
   "cell_type": "code",
   "execution_count": 68,
   "id": "6bec1650",
   "metadata": {},
   "outputs": [
    {
     "data": {
      "application/vnd.microsoft.datawrangler.viewer.v0+json": {
       "columns": [
        {
         "name": "index",
         "rawType": "int64",
         "type": "integer"
        },
        {
         "name": "id",
         "rawType": "object",
         "type": "string"
        },
        {
         "name": "formattedAddress",
         "rawType": "object",
         "type": "string"
        },
        {
         "name": "displayName",
         "rawType": "object",
         "type": "string"
        }
       ],
       "ref": "f5929a31-9d88-4aaa-b791-5bb816b8156a",
       "rows": [
        [
         "0",
         "ChIJrYL12Ed0Vo8RVAMMAa51vMk",
         "C. 50 257, Francisco de Montejo, 97203 Mérida, Yuc., Mexico",
         "La Barrita"
        ],
        [
         "1",
         "ChIJcdRLT9V1Vo8Rl_AfdAGQTb0",
         "C. 43 B-x 54 y 56, Francisco de Montejo, 97203 Mérida, Yuc., Mexico",
         "Astoria Café"
        ],
        [
         "2",
         "ChIJWQABciZxVo8RMP4s8yMyzwg",
         "C. 41 251C, Fraccionamiento La Castellana, La Castellana, 97203 Mérida, Yuc., Mexico",
         "Rosagante"
        ],
        [
         "3",
         "ChIJuxT0gZh1Vo8RfPSYtVjVuF0",
         "Calle 20A, Residencial Galerías, C. 5A 297, entre calles, Xcumpich, 97204 Mérida, Yuc., Mexico",
         "Trecaffé - Mérida"
        ],
        [
         "4",
         "ChIJL4q0ExZ1Vo8RRWCExwtslbc",
         "97203, Francisco de Montejo III, 97203 Mérida, Yuc., Mexico",
         "Café Kii"
        ],
        [
         "5",
         "ChIJocFqncN3Vo8ReNsTCTJunnE",
         "Baltia Apartments, Calle 61 142, Montes de Amé, 97115 Mérida, Yuc., Mexico",
         "Buen Confidente"
        ],
        [
         "6",
         "ChIJuwmA6fF3Vo8Rw8JuvDFpzXg",
         "Calle 40 Esquina con Calle 79 Temozón Norte, Temozon Norte, Sin Nombre de Col 27, 97302 Mérida, Yuc., Mexico",
         "Aliberada Café - Desayunos & Brunch Mérida Yucatán"
        ],
        [
         "7",
         "ChIJuztrftB1Vo8RwlAQEp-lbOM",
         "Plaza paraiso, AV NO CONTAMINACION Local11, Sin Nombre de Col 27, 97203 Mérida, Yuc., Mexico",
         "Bori cafe y comida coreana Merida"
        ],
        [
         "8",
         "ChIJ_Zno1BJzVo8RMRRcDJFUx5w",
         "C. 58 393, entre calle 37 y calle 39, Zona Paseo Montejo, Centro, 97000 Mérida, Yuc., Mexico",
         "María & Montejo, Rituales de Café"
        ],
        [
         "9",
         "ChIJJ9dYL9h1Vo8R1kAp_VEoDLY",
         "Interior del Jardín Botánico Regional Roger Orellana (CICY, C. 49 130, Chuburná de Hidalgo, 97205 Mérida, Yuc., Mexico",
         "Cafesia"
        ],
        [
         "10",
         "ChIJp3dDnS9xVo8RN8SKr9598Nk",
         "40 218 x 67 esquina, Montes de Amé, 97115 Mérida, Yuc., Mexico",
         "Querida Rosa Café Norte"
        ],
        [
         "11",
         "ChIJO6PlWMp3Vo8RU9wIXO6xt20",
         "C. 23 321, San Ramón Nte, 97117 Mérida, Yuc., Mexico",
         "Vous Amour"
        ],
        [
         "12",
         "ChIJAzKX_Ll3Vo8R63vaa88ppnU",
         "Av. del Rogers Hall 151, Campestre, 97120 Mérida, Yuc., Mexico",
         "Artesanal Bakery Coffee Shop"
        ],
        [
         "13",
         "ChIJU845rWZ1Vo8RY65St4l5jT4",
         "C. 58, Francisco de Montejo II, 97203 Mérida, Yuc., Mexico",
         "Café Esencia del Sembrador"
        ],
        [
         "14",
         "ChIJVUqO71t3Vo8Rwn2qOYqu2V0",
         "Calle 49 308, Villas la Hacienda, 97119 Mérida, Yuc., Mexico",
         "Atentamente - Jornada de Café"
        ],
        [
         "15",
         "ChIJDbtUZep1Vo8RHGKUNubML9s",
         "PLAZA ALTANA, LOCAL 11 Y 12, Pinzón II, 97205 Mérida, Yuc., Mexico",
         "BLUÜM Barra de especialidad & brunch"
        ],
        [
         "16",
         "ChIJ65ptbzl0Vo8RARZ7ZD3-BVc",
         "C. 43 176, Pinzón II, 97205 Mérida, Yuc., Mexico",
         "Snow Drop. Cafeteria Coreana"
        ],
        [
         "17",
         "ChIJAw8S1kVxVo8RDWBuSt2VV_Y",
         "C. 58 444, Parque Santa Lucia, Centro, 97000 Mérida, Yuc., Mexico",
         "Tinoc Café"
        ],
        [
         "18",
         "ChIJGVfyrhhxVo8R8HY82pkUbBE",
         "C. 27 279, Miguel Alemán, 97148 Mérida, Yuc., Mexico",
         "Cafetería Fluffy - Brunch, bakery, coffee"
        ],
        [
         "19",
         "ChIJG7soCCJ3Vo8RTQhyFqCDeE8",
         "C. 60 326 Col, Alcalá Martín, 97050 Mérida, Yuc., Mexico",
         "Kadus Bistro"
        ]
       ],
       "shape": {
        "columns": 3,
        "rows": 20
       }
      },
      "text/html": [
       "<div>\n",
       "<style scoped>\n",
       "    .dataframe tbody tr th:only-of-type {\n",
       "        vertical-align: middle;\n",
       "    }\n",
       "\n",
       "    .dataframe tbody tr th {\n",
       "        vertical-align: top;\n",
       "    }\n",
       "\n",
       "    .dataframe thead th {\n",
       "        text-align: right;\n",
       "    }\n",
       "</style>\n",
       "<table border=\"1\" class=\"dataframe\">\n",
       "  <thead>\n",
       "    <tr style=\"text-align: right;\">\n",
       "      <th></th>\n",
       "      <th>id</th>\n",
       "      <th>formattedAddress</th>\n",
       "      <th>displayName</th>\n",
       "    </tr>\n",
       "  </thead>\n",
       "  <tbody>\n",
       "    <tr>\n",
       "      <th>0</th>\n",
       "      <td>ChIJrYL12Ed0Vo8RVAMMAa51vMk</td>\n",
       "      <td>C. 50 257, Francisco de Montejo, 97203 Mérida,...</td>\n",
       "      <td>La Barrita</td>\n",
       "    </tr>\n",
       "    <tr>\n",
       "      <th>1</th>\n",
       "      <td>ChIJcdRLT9V1Vo8Rl_AfdAGQTb0</td>\n",
       "      <td>C. 43 B-x 54 y 56, Francisco de Montejo, 97203...</td>\n",
       "      <td>Astoria Café</td>\n",
       "    </tr>\n",
       "    <tr>\n",
       "      <th>2</th>\n",
       "      <td>ChIJWQABciZxVo8RMP4s8yMyzwg</td>\n",
       "      <td>C. 41 251C, Fraccionamiento La Castellana, La ...</td>\n",
       "      <td>Rosagante</td>\n",
       "    </tr>\n",
       "    <tr>\n",
       "      <th>3</th>\n",
       "      <td>ChIJuxT0gZh1Vo8RfPSYtVjVuF0</td>\n",
       "      <td>Calle 20A, Residencial Galerías, C. 5A 297, en...</td>\n",
       "      <td>Trecaffé - Mérida</td>\n",
       "    </tr>\n",
       "    <tr>\n",
       "      <th>4</th>\n",
       "      <td>ChIJL4q0ExZ1Vo8RRWCExwtslbc</td>\n",
       "      <td>97203, Francisco de Montejo III, 97203 Mérida,...</td>\n",
       "      <td>Café Kii</td>\n",
       "    </tr>\n",
       "    <tr>\n",
       "      <th>5</th>\n",
       "      <td>ChIJocFqncN3Vo8ReNsTCTJunnE</td>\n",
       "      <td>Baltia Apartments, Calle 61 142, Montes de Amé...</td>\n",
       "      <td>Buen Confidente</td>\n",
       "    </tr>\n",
       "    <tr>\n",
       "      <th>6</th>\n",
       "      <td>ChIJuwmA6fF3Vo8Rw8JuvDFpzXg</td>\n",
       "      <td>Calle 40 Esquina con Calle 79 Temozón Norte, T...</td>\n",
       "      <td>Aliberada Café - Desayunos &amp; Brunch Mérida Yuc...</td>\n",
       "    </tr>\n",
       "    <tr>\n",
       "      <th>7</th>\n",
       "      <td>ChIJuztrftB1Vo8RwlAQEp-lbOM</td>\n",
       "      <td>Plaza paraiso, AV NO CONTAMINACION Local11, Si...</td>\n",
       "      <td>Bori cafe y comida coreana Merida</td>\n",
       "    </tr>\n",
       "    <tr>\n",
       "      <th>8</th>\n",
       "      <td>ChIJ_Zno1BJzVo8RMRRcDJFUx5w</td>\n",
       "      <td>C. 58 393, entre calle 37 y calle 39, Zona Pas...</td>\n",
       "      <td>María &amp; Montejo, Rituales de Café</td>\n",
       "    </tr>\n",
       "    <tr>\n",
       "      <th>9</th>\n",
       "      <td>ChIJJ9dYL9h1Vo8R1kAp_VEoDLY</td>\n",
       "      <td>Interior del Jardín Botánico Regional Roger Or...</td>\n",
       "      <td>Cafesia</td>\n",
       "    </tr>\n",
       "    <tr>\n",
       "      <th>10</th>\n",
       "      <td>ChIJp3dDnS9xVo8RN8SKr9598Nk</td>\n",
       "      <td>40 218 x 67 esquina, Montes de Amé, 97115 Méri...</td>\n",
       "      <td>Querida Rosa Café Norte</td>\n",
       "    </tr>\n",
       "    <tr>\n",
       "      <th>11</th>\n",
       "      <td>ChIJO6PlWMp3Vo8RU9wIXO6xt20</td>\n",
       "      <td>C. 23 321, San Ramón Nte, 97117 Mérida, Yuc., ...</td>\n",
       "      <td>Vous Amour</td>\n",
       "    </tr>\n",
       "    <tr>\n",
       "      <th>12</th>\n",
       "      <td>ChIJAzKX_Ll3Vo8R63vaa88ppnU</td>\n",
       "      <td>Av. del Rogers Hall 151, Campestre, 97120 Méri...</td>\n",
       "      <td>Artesanal Bakery Coffee Shop</td>\n",
       "    </tr>\n",
       "    <tr>\n",
       "      <th>13</th>\n",
       "      <td>ChIJU845rWZ1Vo8RY65St4l5jT4</td>\n",
       "      <td>C. 58, Francisco de Montejo II, 97203 Mérida, ...</td>\n",
       "      <td>Café Esencia del Sembrador</td>\n",
       "    </tr>\n",
       "    <tr>\n",
       "      <th>14</th>\n",
       "      <td>ChIJVUqO71t3Vo8Rwn2qOYqu2V0</td>\n",
       "      <td>Calle 49 308, Villas la Hacienda, 97119 Mérida...</td>\n",
       "      <td>Atentamente - Jornada de Café</td>\n",
       "    </tr>\n",
       "    <tr>\n",
       "      <th>15</th>\n",
       "      <td>ChIJDbtUZep1Vo8RHGKUNubML9s</td>\n",
       "      <td>PLAZA ALTANA, LOCAL 11 Y 12, Pinzón II, 97205 ...</td>\n",
       "      <td>BLUÜM Barra de especialidad &amp; brunch</td>\n",
       "    </tr>\n",
       "    <tr>\n",
       "      <th>16</th>\n",
       "      <td>ChIJ65ptbzl0Vo8RARZ7ZD3-BVc</td>\n",
       "      <td>C. 43 176, Pinzón II, 97205 Mérida, Yuc., Mexico</td>\n",
       "      <td>Snow Drop. Cafeteria Coreana</td>\n",
       "    </tr>\n",
       "    <tr>\n",
       "      <th>17</th>\n",
       "      <td>ChIJAw8S1kVxVo8RDWBuSt2VV_Y</td>\n",
       "      <td>C. 58 444, Parque Santa Lucia, Centro, 97000 M...</td>\n",
       "      <td>Tinoc Café</td>\n",
       "    </tr>\n",
       "    <tr>\n",
       "      <th>18</th>\n",
       "      <td>ChIJGVfyrhhxVo8R8HY82pkUbBE</td>\n",
       "      <td>C. 27 279, Miguel Alemán, 97148 Mérida, Yuc., ...</td>\n",
       "      <td>Cafetería Fluffy - Brunch, bakery, coffee</td>\n",
       "    </tr>\n",
       "    <tr>\n",
       "      <th>19</th>\n",
       "      <td>ChIJG7soCCJ3Vo8RTQhyFqCDeE8</td>\n",
       "      <td>C. 60 326 Col, Alcalá Martín, 97050 Mérida, Yu...</td>\n",
       "      <td>Kadus Bistro</td>\n",
       "    </tr>\n",
       "  </tbody>\n",
       "</table>\n",
       "</div>"
      ],
      "text/plain": [
       "                             id  \\\n",
       "0   ChIJrYL12Ed0Vo8RVAMMAa51vMk   \n",
       "1   ChIJcdRLT9V1Vo8Rl_AfdAGQTb0   \n",
       "2   ChIJWQABciZxVo8RMP4s8yMyzwg   \n",
       "3   ChIJuxT0gZh1Vo8RfPSYtVjVuF0   \n",
       "4   ChIJL4q0ExZ1Vo8RRWCExwtslbc   \n",
       "5   ChIJocFqncN3Vo8ReNsTCTJunnE   \n",
       "6   ChIJuwmA6fF3Vo8Rw8JuvDFpzXg   \n",
       "7   ChIJuztrftB1Vo8RwlAQEp-lbOM   \n",
       "8   ChIJ_Zno1BJzVo8RMRRcDJFUx5w   \n",
       "9   ChIJJ9dYL9h1Vo8R1kAp_VEoDLY   \n",
       "10  ChIJp3dDnS9xVo8RN8SKr9598Nk   \n",
       "11  ChIJO6PlWMp3Vo8RU9wIXO6xt20   \n",
       "12  ChIJAzKX_Ll3Vo8R63vaa88ppnU   \n",
       "13  ChIJU845rWZ1Vo8RY65St4l5jT4   \n",
       "14  ChIJVUqO71t3Vo8Rwn2qOYqu2V0   \n",
       "15  ChIJDbtUZep1Vo8RHGKUNubML9s   \n",
       "16  ChIJ65ptbzl0Vo8RARZ7ZD3-BVc   \n",
       "17  ChIJAw8S1kVxVo8RDWBuSt2VV_Y   \n",
       "18  ChIJGVfyrhhxVo8R8HY82pkUbBE   \n",
       "19  ChIJG7soCCJ3Vo8RTQhyFqCDeE8   \n",
       "\n",
       "                                     formattedAddress  \\\n",
       "0   C. 50 257, Francisco de Montejo, 97203 Mérida,...   \n",
       "1   C. 43 B-x 54 y 56, Francisco de Montejo, 97203...   \n",
       "2   C. 41 251C, Fraccionamiento La Castellana, La ...   \n",
       "3   Calle 20A, Residencial Galerías, C. 5A 297, en...   \n",
       "4   97203, Francisco de Montejo III, 97203 Mérida,...   \n",
       "5   Baltia Apartments, Calle 61 142, Montes de Amé...   \n",
       "6   Calle 40 Esquina con Calle 79 Temozón Norte, T...   \n",
       "7   Plaza paraiso, AV NO CONTAMINACION Local11, Si...   \n",
       "8   C. 58 393, entre calle 37 y calle 39, Zona Pas...   \n",
       "9   Interior del Jardín Botánico Regional Roger Or...   \n",
       "10  40 218 x 67 esquina, Montes de Amé, 97115 Méri...   \n",
       "11  C. 23 321, San Ramón Nte, 97117 Mérida, Yuc., ...   \n",
       "12  Av. del Rogers Hall 151, Campestre, 97120 Méri...   \n",
       "13  C. 58, Francisco de Montejo II, 97203 Mérida, ...   \n",
       "14  Calle 49 308, Villas la Hacienda, 97119 Mérida...   \n",
       "15  PLAZA ALTANA, LOCAL 11 Y 12, Pinzón II, 97205 ...   \n",
       "16   C. 43 176, Pinzón II, 97205 Mérida, Yuc., Mexico   \n",
       "17  C. 58 444, Parque Santa Lucia, Centro, 97000 M...   \n",
       "18  C. 27 279, Miguel Alemán, 97148 Mérida, Yuc., ...   \n",
       "19  C. 60 326 Col, Alcalá Martín, 97050 Mérida, Yu...   \n",
       "\n",
       "                                          displayName  \n",
       "0                                          La Barrita  \n",
       "1                                        Astoria Café  \n",
       "2                                           Rosagante  \n",
       "3                                   Trecaffé - Mérida  \n",
       "4                                            Café Kii  \n",
       "5                                     Buen Confidente  \n",
       "6   Aliberada Café - Desayunos & Brunch Mérida Yuc...  \n",
       "7                   Bori cafe y comida coreana Merida  \n",
       "8                   María & Montejo, Rituales de Café  \n",
       "9                                             Cafesia  \n",
       "10                            Querida Rosa Café Norte  \n",
       "11                                         Vous Amour  \n",
       "12                       Artesanal Bakery Coffee Shop  \n",
       "13                         Café Esencia del Sembrador  \n",
       "14                      Atentamente - Jornada de Café  \n",
       "15               BLUÜM Barra de especialidad & brunch  \n",
       "16                       Snow Drop. Cafeteria Coreana  \n",
       "17                                         Tinoc Café  \n",
       "18          Cafetería Fluffy - Brunch, bakery, coffee  \n",
       "19                                       Kadus Bistro  "
      ]
     },
     "execution_count": 68,
     "metadata": {},
     "output_type": "execute_result"
    }
   ],
   "source": [
    "df_search"
   ]
  }
 ],
 "metadata": {
  "kernelspec": {
   "display_name": "Python 3 (ipykernel)",
   "language": "python",
   "name": "python3"
  }
 },
 "nbformat": 4,
 "nbformat_minor": 5
}
