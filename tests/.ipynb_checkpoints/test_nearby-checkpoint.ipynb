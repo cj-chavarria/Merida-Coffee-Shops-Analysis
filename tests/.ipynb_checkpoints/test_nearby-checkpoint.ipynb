{
 "cells": [
  {
   "cell_type": "code",
   "execution_count": 1,
   "id": "dd5d974d",
   "metadata": {},
   "outputs": [],
   "source": [
    "import requests\n",
    "import pandas as pd\n",
    "from dotenv import load_dotenv\n",
    "import os"
   ]
  },
  {
   "cell_type": "code",
   "execution_count": 2,
   "id": "9457e492",
   "metadata": {},
   "outputs": [],
   "source": [
    "load_dotenv()\n",
    "API_KEY = os.getenv('API_KEY')"
   ]
  },
  {
   "cell_type": "code",
   "execution_count": 3,
   "id": "8248a49b",
   "metadata": {},
   "outputs": [],
   "source": [
    "lat = 20.969900035287143\n",
    "lng = -89.62284583095014"
   ]
  },
  {
   "cell_type": "code",
   "execution_count": 4,
   "id": "64de8270",
   "metadata": {},
   "outputs": [],
   "source": [
    "nearby_url = 'https://places.googleapis.com/v1/places:searchNearby'"
   ]
  },
  {
   "cell_type": "code",
   "execution_count": 5,
   "id": "f1d1cd3e",
   "metadata": {},
   "outputs": [],
   "source": [
    "json = {\n",
    "    \"includedTypes\": [\"cafeteria\",\"coffee_shop\", \"cat_cafe\", \"tea_house\"],\n",
    "    \"excludedTypes\" : [\"restaurant\"],\n",
    "    \"locationRestriction\": {\n",
    "        \"circle\": {\n",
    "        \"center\": {\n",
    "            \"latitude\": 20.969900035287143,\n",
    "            \"longitude\": -89.62284583095014\n",
    "            },\n",
    "        \"radius\": 500\n",
    "        }\n",
    "    }\n",
    "}\n",
    "\n",
    "headers = {\n",
    "    'Content-Type': 'application/json',\n",
    "    'X-Goog-Api-Key': API_KEY,\n",
    "    'X-Goog-FieldMask': 'places.name,places.displayName,places.formattedAddress'\n",
    "}\n"
   ]
  },
  {
   "cell_type": "code",
   "execution_count": 6,
   "id": "7fed7372",
   "metadata": {},
   "outputs": [],
   "source": [
    "response = requests.post(url=nearby_url, json=json, headers= headers)\n",
    "\n",
    "data = response.json()"
   ]
  },
  {
   "cell_type": "code",
   "execution_count": 7,
   "id": "053e882e",
   "metadata": {},
   "outputs": [
    {
     "name": "stdout",
     "output_type": "stream",
     "text": [
      "{'places': [{'name': 'places/ChIJAw8S1kVxVo8RDWBuSt2VV_Y', 'formattedAddress': 'C. 58 444, Parque Santa Lucia, Centro, 97000 Mérida, Yuc., Mexico', 'displayName': {'text': 'Tinoc Café', 'languageCode': 'en'}}, {'name': 'places/ChIJx2AFEfBxVo8Ro3AiOHdbKww', 'formattedAddress': 'Calle 62. 479 x 55 y 57 Centro, Second floor, Santa Lucía, Centro, 97000 Mérida, Yuc., Mexico', 'displayName': {'text': 'Sempere libros y café', 'languageCode': 'es'}}, {'name': 'places/ChIJdQW0C2FxVo8RdDeZhP_88pU', 'formattedAddress': 'C. 60 491-x 55 y 57, Parque Santa Lucia, Centro, 97000 Mérida, Yuc., Mexico', 'displayName': {'text': 'Márago Coffee', 'languageCode': 'en'}}, {'name': 'places/ChIJZUg8Id9zVo8Rxq9mXIr-Yac', 'formattedAddress': 'Calle 59 #538 por 66 y 68, Barrio de Santiago, Centro, 97000 Mérida, Yuc., Mexico', 'displayName': {'text': 'Manifesto Casa Tostadora Calabrese', 'languageCode': 'es'}}, {'name': 'places/ChIJuePzLeBxVo8RvRP-Dkk-9Oo', 'formattedAddress': '97000, Centro, 97000 Mérida, Yuc., Mexico', 'displayName': {'text': 'La Abadía Café', 'languageCode': 'es'}}, {'name': 'places/ChIJq_SMYH5xVo8RbFkJmqDs11w', 'formattedAddress': 'C. 59 515, Parque Santa Lucia, Centro, 97000 Mérida, Yuc., Mexico', 'displayName': {'text': 'Kibum cafetería', 'languageCode': 'es'}}, {'name': 'places/ChIJXebH9WFxVo8Re7m15sMckzQ', 'formattedAddress': 'Calle 62 499 por 61 y 59, Calle 61, Centro, 97000 Mérida, Yuc., Mexico', 'displayName': {'text': 'The Italian Coffee', 'languageCode': 'en'}}, {'name': 'places/ChIJGX-iDgBzVo8RFhODVn14S_0', 'formattedAddress': 'C. 61 516, Centro, 97000 Centro, Yuc., Mexico', 'displayName': {'text': 'Churrería Porfirio Centro Mérida', 'languageCode': 'en'}}, {'name': 'places/ChIJByTBsGFxVo8R4XZp_PMXGYA', 'formattedAddress': 'C. 62 468 x 55-y 57, Parque Santa Lucia, Centro, 97000 Mérida, Yuc., Mexico', 'displayName': {'text': 'El Hoyo Casa de Té', 'languageCode': 'es'}}, {'name': 'places/ChIJr_NQ42BxVo8RrVOFAjJANc0', 'formattedAddress': 'C. 60 53, entre y 55, Parque Santa Lucia, Centro, 97000 Mérida, Yuc., Mexico', 'displayName': {'text': 'Bengala Kaffeehaus', 'languageCode': 'en'}}, {'name': 'places/ChIJIeu_NABxVo8RKJc1VJRthW8', 'formattedAddress': '97000, Centro, 97000 Mérida, Yuc., Mexico', 'displayName': {'text': 'NAICHA', 'languageCode': 'es'}}, {'name': 'places/ChIJjxl68WFxVo8R-nw49w1RVkU', 'formattedAddress': 'Calle 62 # 489 x 59, Edificio Condesa, Local V, Centro, 97000 Mérida, Yuc., Mexico', 'displayName': {'text': 'Condesa Barra De Café', 'languageCode': 'es'}}, {'name': 'places/ChIJN8IoZE9xVo8R_Few4k0u2j8', 'formattedAddress': 'Calle 54 x 57 Esquina, Parque Santa Lucia, Centro, 97000 Mérida, Yuc., Mexico', 'displayName': {'text': 'Café Somel', 'languageCode': 'es'}}, {'name': 'places/ChIJUwv31fdxVo8RgsUjmfRCTrM', 'formattedAddress': 'C. 63 501, Centro, 97000 Mérida, Yuc., Mexico', 'displayName': {'text': 'Café Central Mid', 'languageCode': 'es'}}, {'name': 'places/ChIJEzat_nFzVo8R2tIf5NhW3NI', 'formattedAddress': 'C. 61 514, entre 64 y 62, Centro, 97000 Mérida, Yuc., Mexico', 'displayName': {'text': 'Bubbaplop!', 'languageCode': 'es'}}, {'name': 'places/ChIJudxZSi9xVo8R9jDUxq9jJFc', 'formattedAddress': 'Centro, 97000 Mérida, Yuc., Mexico', 'displayName': {'text': 'Santa Clara Ice Cream and Coffee Shop', 'languageCode': 'en'}}, {'name': 'places/ChIJX_VoY-xxVo8RsFLjBVq0ukw', 'formattedAddress': 'C. 62, Parque Santa Lucia, Centro, 97000 Mérida, Yuc., Mexico', 'displayName': {'text': 'Marquesitas Yucaterca', 'languageCode': 'es'}}, {'name': 'places/ChIJ1UsQPQBxVo8Rvu7u6s8NCPo', 'formattedAddress': 'C. 60, Parque Santa Lucia, Centro, 97000 Mérida, Yuc., Mexico', 'displayName': {'text': 'Marquesitas “Una tradición yucateca”', 'languageCode': 'es'}}, {'name': 'places/ChIJ93I5TABxVo8RvOfaTqzHvns', 'formattedAddress': 'C. 61 489, Centro, 97000 Centro Yuc., Mexico', 'displayName': {'text': 'Moli Tea', 'languageCode': 'zh'}}, {'name': 'places/ChIJq6A1XGFxVo8R6wIH5Z5ypyM', 'formattedAddress': 'En Plaza Internacional, C. 58 495-Local 6, entre 59 y 57, Parque Santa Lucia, Centro, 97000 Mérida, Yuc., Mexico', 'displayName': {'text': 'Pop Tea Centro Historico', 'languageCode': 'en'}}]}\n"
     ]
    }
   ],
   "source": [
    "print(data)"
   ]
  },
  {
   "cell_type": "code",
   "execution_count": 8,
   "id": "906efa90",
   "metadata": {},
   "outputs": [
    {
     "data": {
      "application/vnd.microsoft.datawrangler.viewer.v0+json": {
       "columns": [
        {
         "name": "index",
         "rawType": "int64",
         "type": "integer"
        },
        {
         "name": "name",
         "rawType": "object",
         "type": "string"
        },
        {
         "name": "formattedAddress",
         "rawType": "object",
         "type": "string"
        },
        {
         "name": "displayName",
         "rawType": "object",
         "type": "unknown"
        }
       ],
       "ref": "19d6a43c-4891-4309-a0a3-d79ebf0fa0af",
       "rows": [
        [
         "0",
         "places/ChIJAw8S1kVxVo8RDWBuSt2VV_Y",
         "C. 58 444, Parque Santa Lucia, Centro, 97000 Mérida, Yuc., Mexico",
         "{'text': 'Tinoc Café', 'languageCode': 'en'}"
        ],
        [
         "1",
         "places/ChIJx2AFEfBxVo8Ro3AiOHdbKww",
         "Calle 62. 479 x 55 y 57 Centro, Second floor, Santa Lucía, Centro, 97000 Mérida, Yuc., Mexico",
         "{'text': 'Sempere libros y café', 'languageCode': 'es'}"
        ],
        [
         "2",
         "places/ChIJdQW0C2FxVo8RdDeZhP_88pU",
         "C. 60 491-x 55 y 57, Parque Santa Lucia, Centro, 97000 Mérida, Yuc., Mexico",
         "{'text': 'Márago Coffee', 'languageCode': 'en'}"
        ],
        [
         "3",
         "places/ChIJZUg8Id9zVo8Rxq9mXIr-Yac",
         "Calle 59 #538 por 66 y 68, Barrio de Santiago, Centro, 97000 Mérida, Yuc., Mexico",
         "{'text': 'Manifesto Casa Tostadora Calabrese', 'languageCode': 'es'}"
        ],
        [
         "4",
         "places/ChIJuePzLeBxVo8RvRP-Dkk-9Oo",
         "97000, Centro, 97000 Mérida, Yuc., Mexico",
         "{'text': 'La Abadía Café', 'languageCode': 'es'}"
        ],
        [
         "5",
         "places/ChIJq_SMYH5xVo8RbFkJmqDs11w",
         "C. 59 515, Parque Santa Lucia, Centro, 97000 Mérida, Yuc., Mexico",
         "{'text': 'Kibum cafetería', 'languageCode': 'es'}"
        ],
        [
         "6",
         "places/ChIJXebH9WFxVo8Re7m15sMckzQ",
         "Calle 62 499 por 61 y 59, Calle 61, Centro, 97000 Mérida, Yuc., Mexico",
         "{'text': 'The Italian Coffee', 'languageCode': 'en'}"
        ],
        [
         "7",
         "places/ChIJGX-iDgBzVo8RFhODVn14S_0",
         "C. 61 516, Centro, 97000 Centro, Yuc., Mexico",
         "{'text': 'Churrería Porfirio Centro Mérida', 'languageCode': 'en'}"
        ],
        [
         "8",
         "places/ChIJByTBsGFxVo8R4XZp_PMXGYA",
         "C. 62 468 x 55-y 57, Parque Santa Lucia, Centro, 97000 Mérida, Yuc., Mexico",
         "{'text': 'El Hoyo Casa de Té', 'languageCode': 'es'}"
        ],
        [
         "9",
         "places/ChIJr_NQ42BxVo8RrVOFAjJANc0",
         "C. 60 53, entre y 55, Parque Santa Lucia, Centro, 97000 Mérida, Yuc., Mexico",
         "{'text': 'Bengala Kaffeehaus', 'languageCode': 'en'}"
        ],
        [
         "10",
         "places/ChIJIeu_NABxVo8RKJc1VJRthW8",
         "97000, Centro, 97000 Mérida, Yuc., Mexico",
         "{'text': 'NAICHA', 'languageCode': 'es'}"
        ],
        [
         "11",
         "places/ChIJjxl68WFxVo8R-nw49w1RVkU",
         "Calle 62 # 489 x 59, Edificio Condesa, Local V, Centro, 97000 Mérida, Yuc., Mexico",
         "{'text': 'Condesa Barra De Café', 'languageCode': 'es'}"
        ],
        [
         "12",
         "places/ChIJN8IoZE9xVo8R_Few4k0u2j8",
         "Calle 54 x 57 Esquina, Parque Santa Lucia, Centro, 97000 Mérida, Yuc., Mexico",
         "{'text': 'Café Somel', 'languageCode': 'es'}"
        ],
        [
         "13",
         "places/ChIJUwv31fdxVo8RgsUjmfRCTrM",
         "C. 63 501, Centro, 97000 Mérida, Yuc., Mexico",
         "{'text': 'Café Central Mid', 'languageCode': 'es'}"
        ],
        [
         "14",
         "places/ChIJEzat_nFzVo8R2tIf5NhW3NI",
         "C. 61 514, entre 64 y 62, Centro, 97000 Mérida, Yuc., Mexico",
         "{'text': 'Bubbaplop!', 'languageCode': 'es'}"
        ],
        [
         "15",
         "places/ChIJudxZSi9xVo8R9jDUxq9jJFc",
         "Centro, 97000 Mérida, Yuc., Mexico",
         "{'text': 'Santa Clara Ice Cream and Coffee Shop', 'languageCode': 'en'}"
        ],
        [
         "16",
         "places/ChIJX_VoY-xxVo8RsFLjBVq0ukw",
         "C. 62, Parque Santa Lucia, Centro, 97000 Mérida, Yuc., Mexico",
         "{'text': 'Marquesitas Yucaterca', 'languageCode': 'es'}"
        ],
        [
         "17",
         "places/ChIJ1UsQPQBxVo8Rvu7u6s8NCPo",
         "C. 60, Parque Santa Lucia, Centro, 97000 Mérida, Yuc., Mexico",
         "{'text': 'Marquesitas “Una tradición yucateca”', 'languageCode': 'es'}"
        ],
        [
         "18",
         "places/ChIJ93I5TABxVo8RvOfaTqzHvns",
         "C. 61 489, Centro, 97000 Centro Yuc., Mexico",
         "{'text': 'Moli Tea', 'languageCode': 'zh'}"
        ],
        [
         "19",
         "places/ChIJq6A1XGFxVo8R6wIH5Z5ypyM",
         "En Plaza Internacional, C. 58 495-Local 6, entre 59 y 57, Parque Santa Lucia, Centro, 97000 Mérida, Yuc., Mexico",
         "{'text': 'Pop Tea Centro Historico', 'languageCode': 'en'}"
        ]
       ],
       "shape": {
        "columns": 3,
        "rows": 20
       }
      },
      "text/html": [
       "<div>\n",
       "<style scoped>\n",
       "    .dataframe tbody tr th:only-of-type {\n",
       "        vertical-align: middle;\n",
       "    }\n",
       "\n",
       "    .dataframe tbody tr th {\n",
       "        vertical-align: top;\n",
       "    }\n",
       "\n",
       "    .dataframe thead th {\n",
       "        text-align: right;\n",
       "    }\n",
       "</style>\n",
       "<table border=\"1\" class=\"dataframe\">\n",
       "  <thead>\n",
       "    <tr style=\"text-align: right;\">\n",
       "      <th></th>\n",
       "      <th>name</th>\n",
       "      <th>formattedAddress</th>\n",
       "      <th>displayName</th>\n",
       "    </tr>\n",
       "  </thead>\n",
       "  <tbody>\n",
       "    <tr>\n",
       "      <th>0</th>\n",
       "      <td>places/ChIJAw8S1kVxVo8RDWBuSt2VV_Y</td>\n",
       "      <td>C. 58 444, Parque Santa Lucia, Centro, 97000 M...</td>\n",
       "      <td>{'text': 'Tinoc Café', 'languageCode': 'en'}</td>\n",
       "    </tr>\n",
       "    <tr>\n",
       "      <th>1</th>\n",
       "      <td>places/ChIJx2AFEfBxVo8Ro3AiOHdbKww</td>\n",
       "      <td>Calle 62. 479 x 55 y 57 Centro, Second floor, ...</td>\n",
       "      <td>{'text': 'Sempere libros y café', 'languageCod...</td>\n",
       "    </tr>\n",
       "    <tr>\n",
       "      <th>2</th>\n",
       "      <td>places/ChIJdQW0C2FxVo8RdDeZhP_88pU</td>\n",
       "      <td>C. 60 491-x 55 y 57, Parque Santa Lucia, Centr...</td>\n",
       "      <td>{'text': 'Márago Coffee', 'languageCode': 'en'}</td>\n",
       "    </tr>\n",
       "    <tr>\n",
       "      <th>3</th>\n",
       "      <td>places/ChIJZUg8Id9zVo8Rxq9mXIr-Yac</td>\n",
       "      <td>Calle 59 #538 por 66 y 68, Barrio de Santiago,...</td>\n",
       "      <td>{'text': 'Manifesto Casa Tostadora Calabrese',...</td>\n",
       "    </tr>\n",
       "    <tr>\n",
       "      <th>4</th>\n",
       "      <td>places/ChIJuePzLeBxVo8RvRP-Dkk-9Oo</td>\n",
       "      <td>97000, Centro, 97000 Mérida, Yuc., Mexico</td>\n",
       "      <td>{'text': 'La Abadía Café', 'languageCode': 'es'}</td>\n",
       "    </tr>\n",
       "    <tr>\n",
       "      <th>5</th>\n",
       "      <td>places/ChIJq_SMYH5xVo8RbFkJmqDs11w</td>\n",
       "      <td>C. 59 515, Parque Santa Lucia, Centro, 97000 M...</td>\n",
       "      <td>{'text': 'Kibum cafetería', 'languageCode': 'es'}</td>\n",
       "    </tr>\n",
       "    <tr>\n",
       "      <th>6</th>\n",
       "      <td>places/ChIJXebH9WFxVo8Re7m15sMckzQ</td>\n",
       "      <td>Calle 62 499 por 61 y 59, Calle 61, Centro, 97...</td>\n",
       "      <td>{'text': 'The Italian Coffee', 'languageCode':...</td>\n",
       "    </tr>\n",
       "    <tr>\n",
       "      <th>7</th>\n",
       "      <td>places/ChIJGX-iDgBzVo8RFhODVn14S_0</td>\n",
       "      <td>C. 61 516, Centro, 97000 Centro, Yuc., Mexico</td>\n",
       "      <td>{'text': 'Churrería Porfirio Centro Mérida', '...</td>\n",
       "    </tr>\n",
       "    <tr>\n",
       "      <th>8</th>\n",
       "      <td>places/ChIJByTBsGFxVo8R4XZp_PMXGYA</td>\n",
       "      <td>C. 62 468 x 55-y 57, Parque Santa Lucia, Centr...</td>\n",
       "      <td>{'text': 'El Hoyo Casa de Té', 'languageCode':...</td>\n",
       "    </tr>\n",
       "    <tr>\n",
       "      <th>9</th>\n",
       "      <td>places/ChIJr_NQ42BxVo8RrVOFAjJANc0</td>\n",
       "      <td>C. 60 53, entre y 55, Parque Santa Lucia, Cent...</td>\n",
       "      <td>{'text': 'Bengala Kaffeehaus', 'languageCode':...</td>\n",
       "    </tr>\n",
       "    <tr>\n",
       "      <th>10</th>\n",
       "      <td>places/ChIJIeu_NABxVo8RKJc1VJRthW8</td>\n",
       "      <td>97000, Centro, 97000 Mérida, Yuc., Mexico</td>\n",
       "      <td>{'text': 'NAICHA', 'languageCode': 'es'}</td>\n",
       "    </tr>\n",
       "    <tr>\n",
       "      <th>11</th>\n",
       "      <td>places/ChIJjxl68WFxVo8R-nw49w1RVkU</td>\n",
       "      <td>Calle 62 # 489 x 59, Edificio Condesa, Local V...</td>\n",
       "      <td>{'text': 'Condesa Barra De Café', 'languageCod...</td>\n",
       "    </tr>\n",
       "    <tr>\n",
       "      <th>12</th>\n",
       "      <td>places/ChIJN8IoZE9xVo8R_Few4k0u2j8</td>\n",
       "      <td>Calle 54 x 57 Esquina, Parque Santa Lucia, Cen...</td>\n",
       "      <td>{'text': 'Café Somel', 'languageCode': 'es'}</td>\n",
       "    </tr>\n",
       "    <tr>\n",
       "      <th>13</th>\n",
       "      <td>places/ChIJUwv31fdxVo8RgsUjmfRCTrM</td>\n",
       "      <td>C. 63 501, Centro, 97000 Mérida, Yuc., Mexico</td>\n",
       "      <td>{'text': 'Café Central Mid', 'languageCode': '...</td>\n",
       "    </tr>\n",
       "    <tr>\n",
       "      <th>14</th>\n",
       "      <td>places/ChIJEzat_nFzVo8R2tIf5NhW3NI</td>\n",
       "      <td>C. 61 514, entre 64 y 62, Centro, 97000 Mérida...</td>\n",
       "      <td>{'text': 'Bubbaplop!', 'languageCode': 'es'}</td>\n",
       "    </tr>\n",
       "    <tr>\n",
       "      <th>15</th>\n",
       "      <td>places/ChIJudxZSi9xVo8R9jDUxq9jJFc</td>\n",
       "      <td>Centro, 97000 Mérida, Yuc., Mexico</td>\n",
       "      <td>{'text': 'Santa Clara Ice Cream and Coffee Sho...</td>\n",
       "    </tr>\n",
       "    <tr>\n",
       "      <th>16</th>\n",
       "      <td>places/ChIJX_VoY-xxVo8RsFLjBVq0ukw</td>\n",
       "      <td>C. 62, Parque Santa Lucia, Centro, 97000 Mérid...</td>\n",
       "      <td>{'text': 'Marquesitas Yucaterca', 'languageCod...</td>\n",
       "    </tr>\n",
       "    <tr>\n",
       "      <th>17</th>\n",
       "      <td>places/ChIJ1UsQPQBxVo8Rvu7u6s8NCPo</td>\n",
       "      <td>C. 60, Parque Santa Lucia, Centro, 97000 Mérid...</td>\n",
       "      <td>{'text': 'Marquesitas “Una tradición yucateca”...</td>\n",
       "    </tr>\n",
       "    <tr>\n",
       "      <th>18</th>\n",
       "      <td>places/ChIJ93I5TABxVo8RvOfaTqzHvns</td>\n",
       "      <td>C. 61 489, Centro, 97000 Centro Yuc., Mexico</td>\n",
       "      <td>{'text': 'Moli Tea', 'languageCode': 'zh'}</td>\n",
       "    </tr>\n",
       "    <tr>\n",
       "      <th>19</th>\n",
       "      <td>places/ChIJq6A1XGFxVo8R6wIH5Z5ypyM</td>\n",
       "      <td>En Plaza Internacional, C. 58 495-Local 6, ent...</td>\n",
       "      <td>{'text': 'Pop Tea Centro Historico', 'language...</td>\n",
       "    </tr>\n",
       "  </tbody>\n",
       "</table>\n",
       "</div>"
      ],
      "text/plain": [
       "                                  name  \\\n",
       "0   places/ChIJAw8S1kVxVo8RDWBuSt2VV_Y   \n",
       "1   places/ChIJx2AFEfBxVo8Ro3AiOHdbKww   \n",
       "2   places/ChIJdQW0C2FxVo8RdDeZhP_88pU   \n",
       "3   places/ChIJZUg8Id9zVo8Rxq9mXIr-Yac   \n",
       "4   places/ChIJuePzLeBxVo8RvRP-Dkk-9Oo   \n",
       "5   places/ChIJq_SMYH5xVo8RbFkJmqDs11w   \n",
       "6   places/ChIJXebH9WFxVo8Re7m15sMckzQ   \n",
       "7   places/ChIJGX-iDgBzVo8RFhODVn14S_0   \n",
       "8   places/ChIJByTBsGFxVo8R4XZp_PMXGYA   \n",
       "9   places/ChIJr_NQ42BxVo8RrVOFAjJANc0   \n",
       "10  places/ChIJIeu_NABxVo8RKJc1VJRthW8   \n",
       "11  places/ChIJjxl68WFxVo8R-nw49w1RVkU   \n",
       "12  places/ChIJN8IoZE9xVo8R_Few4k0u2j8   \n",
       "13  places/ChIJUwv31fdxVo8RgsUjmfRCTrM   \n",
       "14  places/ChIJEzat_nFzVo8R2tIf5NhW3NI   \n",
       "15  places/ChIJudxZSi9xVo8R9jDUxq9jJFc   \n",
       "16  places/ChIJX_VoY-xxVo8RsFLjBVq0ukw   \n",
       "17  places/ChIJ1UsQPQBxVo8Rvu7u6s8NCPo   \n",
       "18  places/ChIJ93I5TABxVo8RvOfaTqzHvns   \n",
       "19  places/ChIJq6A1XGFxVo8R6wIH5Z5ypyM   \n",
       "\n",
       "                                     formattedAddress  \\\n",
       "0   C. 58 444, Parque Santa Lucia, Centro, 97000 M...   \n",
       "1   Calle 62. 479 x 55 y 57 Centro, Second floor, ...   \n",
       "2   C. 60 491-x 55 y 57, Parque Santa Lucia, Centr...   \n",
       "3   Calle 59 #538 por 66 y 68, Barrio de Santiago,...   \n",
       "4           97000, Centro, 97000 Mérida, Yuc., Mexico   \n",
       "5   C. 59 515, Parque Santa Lucia, Centro, 97000 M...   \n",
       "6   Calle 62 499 por 61 y 59, Calle 61, Centro, 97...   \n",
       "7       C. 61 516, Centro, 97000 Centro, Yuc., Mexico   \n",
       "8   C. 62 468 x 55-y 57, Parque Santa Lucia, Centr...   \n",
       "9   C. 60 53, entre y 55, Parque Santa Lucia, Cent...   \n",
       "10          97000, Centro, 97000 Mérida, Yuc., Mexico   \n",
       "11  Calle 62 # 489 x 59, Edificio Condesa, Local V...   \n",
       "12  Calle 54 x 57 Esquina, Parque Santa Lucia, Cen...   \n",
       "13      C. 63 501, Centro, 97000 Mérida, Yuc., Mexico   \n",
       "14  C. 61 514, entre 64 y 62, Centro, 97000 Mérida...   \n",
       "15                 Centro, 97000 Mérida, Yuc., Mexico   \n",
       "16  C. 62, Parque Santa Lucia, Centro, 97000 Mérid...   \n",
       "17  C. 60, Parque Santa Lucia, Centro, 97000 Mérid...   \n",
       "18       C. 61 489, Centro, 97000 Centro Yuc., Mexico   \n",
       "19  En Plaza Internacional, C. 58 495-Local 6, ent...   \n",
       "\n",
       "                                          displayName  \n",
       "0        {'text': 'Tinoc Café', 'languageCode': 'en'}  \n",
       "1   {'text': 'Sempere libros y café', 'languageCod...  \n",
       "2     {'text': 'Márago Coffee', 'languageCode': 'en'}  \n",
       "3   {'text': 'Manifesto Casa Tostadora Calabrese',...  \n",
       "4    {'text': 'La Abadía Café', 'languageCode': 'es'}  \n",
       "5   {'text': 'Kibum cafetería', 'languageCode': 'es'}  \n",
       "6   {'text': 'The Italian Coffee', 'languageCode':...  \n",
       "7   {'text': 'Churrería Porfirio Centro Mérida', '...  \n",
       "8   {'text': 'El Hoyo Casa de Té', 'languageCode':...  \n",
       "9   {'text': 'Bengala Kaffeehaus', 'languageCode':...  \n",
       "10           {'text': 'NAICHA', 'languageCode': 'es'}  \n",
       "11  {'text': 'Condesa Barra De Café', 'languageCod...  \n",
       "12       {'text': 'Café Somel', 'languageCode': 'es'}  \n",
       "13  {'text': 'Café Central Mid', 'languageCode': '...  \n",
       "14       {'text': 'Bubbaplop!', 'languageCode': 'es'}  \n",
       "15  {'text': 'Santa Clara Ice Cream and Coffee Sho...  \n",
       "16  {'text': 'Marquesitas Yucaterca', 'languageCod...  \n",
       "17  {'text': 'Marquesitas “Una tradición yucateca”...  \n",
       "18         {'text': 'Moli Tea', 'languageCode': 'zh'}  \n",
       "19  {'text': 'Pop Tea Centro Historico', 'language...  "
      ]
     },
     "execution_count": 8,
     "metadata": {},
     "output_type": "execute_result"
    }
   ],
   "source": [
    "df = pd.DataFrame(data['places'])\n",
    "df"
   ]
  }
 ],
 "metadata": {
  "kernelspec": {
   "display_name": "Python 3 (ipykernel)",
   "language": "python",
   "name": "python3"
  },
  "language_info": {
   "codemirror_mode": {
    "name": "ipython",
    "version": 3
   },
   "file_extension": ".py",
   "mimetype": "text/x-python",
   "name": "python",
   "nbconvert_exporter": "python",
   "pygments_lexer": "ipython3",
   "version": "3.13.8"
  }
 },
 "nbformat": 4,
 "nbformat_minor": 5
}
