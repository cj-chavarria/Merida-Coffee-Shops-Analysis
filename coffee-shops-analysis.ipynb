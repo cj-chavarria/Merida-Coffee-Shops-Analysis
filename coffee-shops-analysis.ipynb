{
 "cells": [
  {
   "cell_type": "code",
   "execution_count": 69,
   "id": "f62cc3f2",
   "metadata": {},
   "outputs": [],
   "source": [
    "import pandas as pd\n",
    "import numpy as np\n",
    "import matplotlib.pyplot as plt\n",
    "import seaborn as sb\n",
    "import plotly as pt\n",
    "import ast"
   ]
  },
  {
   "cell_type": "code",
   "execution_count": 70,
   "id": "0d7ea9b8",
   "metadata": {},
   "outputs": [],
   "source": [
    "coffee_shops = pd.read_csv('data/details_data_raw.csv', index_col=0)"
   ]
  },
  {
   "cell_type": "markdown",
   "id": "2a1cdbc7",
   "metadata": {},
   "source": [
    "#### Data Exploration"
   ]
  },
  {
   "cell_type": "code",
   "execution_count": 71,
   "id": "90651f52",
   "metadata": {},
   "outputs": [
    {
     "data": {
      "application/vnd.microsoft.datawrangler.viewer.v0+json": {
       "columns": [
        {
         "name": "index",
         "rawType": "int64",
         "type": "integer"
        },
        {
         "name": "formattedAddress",
         "rawType": "object",
         "type": "string"
        },
        {
         "name": "location",
         "rawType": "object",
         "type": "string"
        },
        {
         "name": "rating",
         "rawType": "float64",
         "type": "float"
        },
        {
         "name": "businessStatus",
         "rawType": "object",
         "type": "string"
        },
        {
         "name": "userRatingCount",
         "rawType": "float64",
         "type": "float"
        },
        {
         "name": "displayName",
         "rawType": "object",
         "type": "string"
        },
        {
         "name": "primaryTypeDisplayName",
         "rawType": "object",
         "type": "string"
        },
        {
         "name": "priceRange",
         "rawType": "object",
         "type": "unknown"
        },
        {
         "name": "websiteUri",
         "rawType": "object",
         "type": "unknown"
        }
       ],
       "ref": "c8330fc4-8859-4f79-9760-6639265d8263",
       "rows": [
        [
         "0",
         "C. 27 117, San Lorenzo, Umán, 97390 Umán, Yuc., Mexico",
         "{'latitude': 20.894740499999997, 'longitude': -89.7314854}",
         "5.0",
         "OPERATIONAL",
         "2.0",
         "{'text': 'Frappe shop suc san lorenzo', 'languageCode': 'es'}",
         "{'text': 'Cafe', 'languageCode': 'en-US'}",
         null,
         null
        ],
        [
         "1",
         "C. 27 131, San Lorenzo, Umán, 97390 Umán, Yuc., Mexico",
         "{'latitude': 20.8945503, 'longitude': -89.732288}",
         "3.0",
         "OPERATIONAL",
         "5.0",
         "{'text': 'Panucheria Doña Yolí', 'languageCode': 'es'}",
         "{'text': 'Coffee Shop', 'languageCode': 'en-US'}",
         null,
         null
        ],
        [
         "2",
         "C. 20, Umán, 97390 Umán, Yuc., Mexico",
         "{'latitude': 20.8915676, 'longitude': -89.73026759999999}",
         "5.0",
         "OPERATIONAL",
         "1.0",
         "{'text': 'Taquería mi Angel', 'languageCode': 'es'}",
         "{'text': 'Coffee Shop', 'languageCode': 'en-US'}",
         null,
         null
        ],
        [
         "3",
         "Campeche-Mérida 11592, 97392 Mérida, Yuc., Mexico",
         "{'latitude': 20.8941657, 'longitude': -89.69346639999999}",
         null,
         "OPERATIONAL",
         null,
         "{'text': 'Barra andatti Gourmet Santa Cruz', 'languageCode': 'es'}",
         "{'text': 'Coffee Shop', 'languageCode': 'en-US'}",
         null,
         null
        ],
        [
         "4",
         "C. 40a 823c, Piedra de Agua, 97392 Umán, Yuc., Mexico",
         "{'latitude': 20.9021989, 'longitude': -89.6958089}",
         null,
         "OPERATIONAL",
         null,
         "{'text': 'Antojeria', 'languageCode': 'es'}",
         "{'text': 'Coffee Shop', 'languageCode': 'en-US'}",
         null,
         null
        ]
       ],
       "shape": {
        "columns": 9,
        "rows": 5
       }
      },
      "text/html": [
       "<div>\n",
       "<style scoped>\n",
       "    .dataframe tbody tr th:only-of-type {\n",
       "        vertical-align: middle;\n",
       "    }\n",
       "\n",
       "    .dataframe tbody tr th {\n",
       "        vertical-align: top;\n",
       "    }\n",
       "\n",
       "    .dataframe thead th {\n",
       "        text-align: right;\n",
       "    }\n",
       "</style>\n",
       "<table border=\"1\" class=\"dataframe\">\n",
       "  <thead>\n",
       "    <tr style=\"text-align: right;\">\n",
       "      <th></th>\n",
       "      <th>formattedAddress</th>\n",
       "      <th>location</th>\n",
       "      <th>rating</th>\n",
       "      <th>businessStatus</th>\n",
       "      <th>userRatingCount</th>\n",
       "      <th>displayName</th>\n",
       "      <th>primaryTypeDisplayName</th>\n",
       "      <th>priceRange</th>\n",
       "      <th>websiteUri</th>\n",
       "    </tr>\n",
       "  </thead>\n",
       "  <tbody>\n",
       "    <tr>\n",
       "      <th>0</th>\n",
       "      <td>C. 27 117, San Lorenzo, Umán, 97390 Umán, Yuc....</td>\n",
       "      <td>{'latitude': 20.894740499999997, 'longitude': ...</td>\n",
       "      <td>5.0</td>\n",
       "      <td>OPERATIONAL</td>\n",
       "      <td>2.0</td>\n",
       "      <td>{'text': 'Frappe shop suc san lorenzo', 'langu...</td>\n",
       "      <td>{'text': 'Cafe', 'languageCode': 'en-US'}</td>\n",
       "      <td>NaN</td>\n",
       "      <td>NaN</td>\n",
       "    </tr>\n",
       "    <tr>\n",
       "      <th>1</th>\n",
       "      <td>C. 27 131, San Lorenzo, Umán, 97390 Umán, Yuc....</td>\n",
       "      <td>{'latitude': 20.8945503, 'longitude': -89.732288}</td>\n",
       "      <td>3.0</td>\n",
       "      <td>OPERATIONAL</td>\n",
       "      <td>5.0</td>\n",
       "      <td>{'text': 'Panucheria Doña Yolí', 'languageCode...</td>\n",
       "      <td>{'text': 'Coffee Shop', 'languageCode': 'en-US'}</td>\n",
       "      <td>NaN</td>\n",
       "      <td>NaN</td>\n",
       "    </tr>\n",
       "    <tr>\n",
       "      <th>2</th>\n",
       "      <td>C. 20, Umán, 97390 Umán, Yuc., Mexico</td>\n",
       "      <td>{'latitude': 20.8915676, 'longitude': -89.7302...</td>\n",
       "      <td>5.0</td>\n",
       "      <td>OPERATIONAL</td>\n",
       "      <td>1.0</td>\n",
       "      <td>{'text': 'Taquería mi Angel', 'languageCode': ...</td>\n",
       "      <td>{'text': 'Coffee Shop', 'languageCode': 'en-US'}</td>\n",
       "      <td>NaN</td>\n",
       "      <td>NaN</td>\n",
       "    </tr>\n",
       "    <tr>\n",
       "      <th>3</th>\n",
       "      <td>Campeche-Mérida 11592, 97392 Mérida, Yuc., Mexico</td>\n",
       "      <td>{'latitude': 20.8941657, 'longitude': -89.6934...</td>\n",
       "      <td>NaN</td>\n",
       "      <td>OPERATIONAL</td>\n",
       "      <td>NaN</td>\n",
       "      <td>{'text': 'Barra andatti Gourmet Santa Cruz', '...</td>\n",
       "      <td>{'text': 'Coffee Shop', 'languageCode': 'en-US'}</td>\n",
       "      <td>NaN</td>\n",
       "      <td>NaN</td>\n",
       "    </tr>\n",
       "    <tr>\n",
       "      <th>4</th>\n",
       "      <td>C. 40a 823c, Piedra de Agua, 97392 Umán, Yuc.,...</td>\n",
       "      <td>{'latitude': 20.9021989, 'longitude': -89.6958...</td>\n",
       "      <td>NaN</td>\n",
       "      <td>OPERATIONAL</td>\n",
       "      <td>NaN</td>\n",
       "      <td>{'text': 'Antojeria', 'languageCode': 'es'}</td>\n",
       "      <td>{'text': 'Coffee Shop', 'languageCode': 'en-US'}</td>\n",
       "      <td>NaN</td>\n",
       "      <td>NaN</td>\n",
       "    </tr>\n",
       "  </tbody>\n",
       "</table>\n",
       "</div>"
      ],
      "text/plain": [
       "                                    formattedAddress  \\\n",
       "0  C. 27 117, San Lorenzo, Umán, 97390 Umán, Yuc....   \n",
       "1  C. 27 131, San Lorenzo, Umán, 97390 Umán, Yuc....   \n",
       "2              C. 20, Umán, 97390 Umán, Yuc., Mexico   \n",
       "3  Campeche-Mérida 11592, 97392 Mérida, Yuc., Mexico   \n",
       "4  C. 40a 823c, Piedra de Agua, 97392 Umán, Yuc.,...   \n",
       "\n",
       "                                            location  rating businessStatus  \\\n",
       "0  {'latitude': 20.894740499999997, 'longitude': ...     5.0    OPERATIONAL   \n",
       "1  {'latitude': 20.8945503, 'longitude': -89.732288}     3.0    OPERATIONAL   \n",
       "2  {'latitude': 20.8915676, 'longitude': -89.7302...     5.0    OPERATIONAL   \n",
       "3  {'latitude': 20.8941657, 'longitude': -89.6934...     NaN    OPERATIONAL   \n",
       "4  {'latitude': 20.9021989, 'longitude': -89.6958...     NaN    OPERATIONAL   \n",
       "\n",
       "   userRatingCount                                        displayName  \\\n",
       "0              2.0  {'text': 'Frappe shop suc san lorenzo', 'langu...   \n",
       "1              5.0  {'text': 'Panucheria Doña Yolí', 'languageCode...   \n",
       "2              1.0  {'text': 'Taquería mi Angel', 'languageCode': ...   \n",
       "3              NaN  {'text': 'Barra andatti Gourmet Santa Cruz', '...   \n",
       "4              NaN        {'text': 'Antojeria', 'languageCode': 'es'}   \n",
       "\n",
       "                             primaryTypeDisplayName priceRange websiteUri  \n",
       "0         {'text': 'Cafe', 'languageCode': 'en-US'}        NaN        NaN  \n",
       "1  {'text': 'Coffee Shop', 'languageCode': 'en-US'}        NaN        NaN  \n",
       "2  {'text': 'Coffee Shop', 'languageCode': 'en-US'}        NaN        NaN  \n",
       "3  {'text': 'Coffee Shop', 'languageCode': 'en-US'}        NaN        NaN  \n",
       "4  {'text': 'Coffee Shop', 'languageCode': 'en-US'}        NaN        NaN  "
      ]
     },
     "execution_count": 71,
     "metadata": {},
     "output_type": "execute_result"
    }
   ],
   "source": [
    "coffee_shops.head()"
   ]
  },
  {
   "cell_type": "code",
   "execution_count": 72,
   "id": "beef7636",
   "metadata": {},
   "outputs": [
    {
     "data": {
      "application/vnd.microsoft.datawrangler.viewer.v0+json": {
       "columns": [
        {
         "name": "index",
         "rawType": "int64",
         "type": "integer"
        },
        {
         "name": "formattedAddress",
         "rawType": "object",
         "type": "string"
        },
        {
         "name": "location",
         "rawType": "object",
         "type": "string"
        },
        {
         "name": "rating",
         "rawType": "float64",
         "type": "float"
        },
        {
         "name": "businessStatus",
         "rawType": "object",
         "type": "string"
        },
        {
         "name": "userRatingCount",
         "rawType": "float64",
         "type": "float"
        },
        {
         "name": "displayName",
         "rawType": "object",
         "type": "string"
        },
        {
         "name": "primaryTypeDisplayName",
         "rawType": "object",
         "type": "string"
        },
        {
         "name": "priceRange",
         "rawType": "object",
         "type": "unknown"
        },
        {
         "name": "websiteUri",
         "rawType": "object",
         "type": "unknown"
        }
       ],
       "ref": "71fc173a-923b-416f-9b11-ddd2cb2a2bee",
       "rows": [
        [
         "743",
         "97302 Calle 100-2 #140h Fraccionamiento las americas ll, Fraccionamiento Las Américas, ll, 97302 Mérida, Yuc., Mexico",
         "{'latitude': 21.080935099999998, 'longitude': -89.65669129999999}",
         null,
         "OPERATIONAL",
         null,
         "{'text': 'Espacio 11:11', 'languageCode': 'es'}",
         "{'text': 'Cafe', 'languageCode': 'en-US'}",
         null,
         null
        ],
        [
         "744",
         "C. 49-B 926, entre 112 y 108 A, Fraccionamiento Las Américas, Etapa II, 97302 Mérida, Yuc., Mexico",
         "{'latitude': 21.0818943, 'longitude': -89.6616746}",
         "5.0",
         "OPERATIONAL",
         "10.0",
         "{'text': 'Frapplo', 'languageCode': 'es'}",
         "{'text': 'Coffee Shop', 'languageCode': 'en-US'}",
         "{'startPrice': {'currencyCode': 'MXN', 'units': '1'}, 'endPrice': {'currencyCode': 'MXN', 'units': '100'}}",
         "https://www.instagram.com/frapplo_/"
        ],
        [
         "745",
         "C. 100-1 137, Fraccionamiento Las Américas 2, 97302 Mérida, Yuc., Mexico",
         "{'latitude': 21.081186499999998, 'longitude': -89.65639829999999}",
         "5.0",
         "OPERATIONAL",
         "2.0",
         "{'text': 'Mejorar el futuro!', 'languageCode': 'en'}",
         "{'text': 'Cafe', 'languageCode': 'en-US'}",
         null,
         null
        ],
        [
         "746",
         "Carr. Mérida - Progreso, 97302 Xcanatún, Yuc., Mexico",
         "{'latitude': 21.0814901, 'longitude': -89.63528540000001}",
         "4.3",
         "OPERATIONAL",
         "183.0",
         "{'text': 'Starbucks Carretera Progreso', 'languageCode': 'en'}",
         "{'text': 'Coffee Shop', 'languageCode': 'en-US'}",
         "{'startPrice': {'currencyCode': 'MXN', 'units': '100'}, 'endPrice': {'currencyCode': 'MXN', 'units': '200'}}",
         null
        ],
        [
         "747",
         "C. 21 entre 4, 97302 Chablekal, Yuc., Mexico",
         "{'latitude': 21.091645099999997, 'longitude': -89.5660724}",
         "5.0",
         "OPERATIONAL",
         "1.0",
         "{'text': 'DRAGÓN SUSHI🐉', 'languageCode': 'es'}",
         "{'text': 'Coffee Shop', 'languageCode': 'en-US'}",
         null,
         null
        ]
       ],
       "shape": {
        "columns": 9,
        "rows": 5
       }
      },
      "text/html": [
       "<div>\n",
       "<style scoped>\n",
       "    .dataframe tbody tr th:only-of-type {\n",
       "        vertical-align: middle;\n",
       "    }\n",
       "\n",
       "    .dataframe tbody tr th {\n",
       "        vertical-align: top;\n",
       "    }\n",
       "\n",
       "    .dataframe thead th {\n",
       "        text-align: right;\n",
       "    }\n",
       "</style>\n",
       "<table border=\"1\" class=\"dataframe\">\n",
       "  <thead>\n",
       "    <tr style=\"text-align: right;\">\n",
       "      <th></th>\n",
       "      <th>formattedAddress</th>\n",
       "      <th>location</th>\n",
       "      <th>rating</th>\n",
       "      <th>businessStatus</th>\n",
       "      <th>userRatingCount</th>\n",
       "      <th>displayName</th>\n",
       "      <th>primaryTypeDisplayName</th>\n",
       "      <th>priceRange</th>\n",
       "      <th>websiteUri</th>\n",
       "    </tr>\n",
       "  </thead>\n",
       "  <tbody>\n",
       "    <tr>\n",
       "      <th>743</th>\n",
       "      <td>97302 Calle 100-2 #140h Fraccionamiento las am...</td>\n",
       "      <td>{'latitude': 21.080935099999998, 'longitude': ...</td>\n",
       "      <td>NaN</td>\n",
       "      <td>OPERATIONAL</td>\n",
       "      <td>NaN</td>\n",
       "      <td>{'text': 'Espacio 11:11', 'languageCode': 'es'}</td>\n",
       "      <td>{'text': 'Cafe', 'languageCode': 'en-US'}</td>\n",
       "      <td>NaN</td>\n",
       "      <td>NaN</td>\n",
       "    </tr>\n",
       "    <tr>\n",
       "      <th>744</th>\n",
       "      <td>C. 49-B 926, entre 112 y 108 A, Fraccionamient...</td>\n",
       "      <td>{'latitude': 21.0818943, 'longitude': -89.6616...</td>\n",
       "      <td>5.0</td>\n",
       "      <td>OPERATIONAL</td>\n",
       "      <td>10.0</td>\n",
       "      <td>{'text': 'Frapplo', 'languageCode': 'es'}</td>\n",
       "      <td>{'text': 'Coffee Shop', 'languageCode': 'en-US'}</td>\n",
       "      <td>{'startPrice': {'currencyCode': 'MXN', 'units'...</td>\n",
       "      <td>https://www.instagram.com/frapplo_/</td>\n",
       "    </tr>\n",
       "    <tr>\n",
       "      <th>745</th>\n",
       "      <td>C. 100-1 137, Fraccionamiento Las Américas 2, ...</td>\n",
       "      <td>{'latitude': 21.081186499999998, 'longitude': ...</td>\n",
       "      <td>5.0</td>\n",
       "      <td>OPERATIONAL</td>\n",
       "      <td>2.0</td>\n",
       "      <td>{'text': 'Mejorar el futuro!', 'languageCode':...</td>\n",
       "      <td>{'text': 'Cafe', 'languageCode': 'en-US'}</td>\n",
       "      <td>NaN</td>\n",
       "      <td>NaN</td>\n",
       "    </tr>\n",
       "    <tr>\n",
       "      <th>746</th>\n",
       "      <td>Carr. Mérida - Progreso, 97302 Xcanatún, Yuc.,...</td>\n",
       "      <td>{'latitude': 21.0814901, 'longitude': -89.6352...</td>\n",
       "      <td>4.3</td>\n",
       "      <td>OPERATIONAL</td>\n",
       "      <td>183.0</td>\n",
       "      <td>{'text': 'Starbucks Carretera Progreso', 'lang...</td>\n",
       "      <td>{'text': 'Coffee Shop', 'languageCode': 'en-US'}</td>\n",
       "      <td>{'startPrice': {'currencyCode': 'MXN', 'units'...</td>\n",
       "      <td>NaN</td>\n",
       "    </tr>\n",
       "    <tr>\n",
       "      <th>747</th>\n",
       "      <td>C. 21 entre 4, 97302 Chablekal, Yuc., Mexico</td>\n",
       "      <td>{'latitude': 21.091645099999997, 'longitude': ...</td>\n",
       "      <td>5.0</td>\n",
       "      <td>OPERATIONAL</td>\n",
       "      <td>1.0</td>\n",
       "      <td>{'text': 'DRAGÓN SUSHI🐉', 'languageCode': 'es'}</td>\n",
       "      <td>{'text': 'Coffee Shop', 'languageCode': 'en-US'}</td>\n",
       "      <td>NaN</td>\n",
       "      <td>NaN</td>\n",
       "    </tr>\n",
       "  </tbody>\n",
       "</table>\n",
       "</div>"
      ],
      "text/plain": [
       "                                      formattedAddress  \\\n",
       "743  97302 Calle 100-2 #140h Fraccionamiento las am...   \n",
       "744  C. 49-B 926, entre 112 y 108 A, Fraccionamient...   \n",
       "745  C. 100-1 137, Fraccionamiento Las Américas 2, ...   \n",
       "746  Carr. Mérida - Progreso, 97302 Xcanatún, Yuc.,...   \n",
       "747       C. 21 entre 4, 97302 Chablekal, Yuc., Mexico   \n",
       "\n",
       "                                              location  rating businessStatus  \\\n",
       "743  {'latitude': 21.080935099999998, 'longitude': ...     NaN    OPERATIONAL   \n",
       "744  {'latitude': 21.0818943, 'longitude': -89.6616...     5.0    OPERATIONAL   \n",
       "745  {'latitude': 21.081186499999998, 'longitude': ...     5.0    OPERATIONAL   \n",
       "746  {'latitude': 21.0814901, 'longitude': -89.6352...     4.3    OPERATIONAL   \n",
       "747  {'latitude': 21.091645099999997, 'longitude': ...     5.0    OPERATIONAL   \n",
       "\n",
       "     userRatingCount                                        displayName  \\\n",
       "743              NaN    {'text': 'Espacio 11:11', 'languageCode': 'es'}   \n",
       "744             10.0          {'text': 'Frapplo', 'languageCode': 'es'}   \n",
       "745              2.0  {'text': 'Mejorar el futuro!', 'languageCode':...   \n",
       "746            183.0  {'text': 'Starbucks Carretera Progreso', 'lang...   \n",
       "747              1.0    {'text': 'DRAGÓN SUSHI🐉', 'languageCode': 'es'}   \n",
       "\n",
       "                               primaryTypeDisplayName  \\\n",
       "743         {'text': 'Cafe', 'languageCode': 'en-US'}   \n",
       "744  {'text': 'Coffee Shop', 'languageCode': 'en-US'}   \n",
       "745         {'text': 'Cafe', 'languageCode': 'en-US'}   \n",
       "746  {'text': 'Coffee Shop', 'languageCode': 'en-US'}   \n",
       "747  {'text': 'Coffee Shop', 'languageCode': 'en-US'}   \n",
       "\n",
       "                                            priceRange  \\\n",
       "743                                                NaN   \n",
       "744  {'startPrice': {'currencyCode': 'MXN', 'units'...   \n",
       "745                                                NaN   \n",
       "746  {'startPrice': {'currencyCode': 'MXN', 'units'...   \n",
       "747                                                NaN   \n",
       "\n",
       "                              websiteUri  \n",
       "743                                  NaN  \n",
       "744  https://www.instagram.com/frapplo_/  \n",
       "745                                  NaN  \n",
       "746                                  NaN  \n",
       "747                                  NaN  "
      ]
     },
     "execution_count": 72,
     "metadata": {},
     "output_type": "execute_result"
    }
   ],
   "source": [
    "coffee_shops.tail()"
   ]
  },
  {
   "cell_type": "code",
   "execution_count": 73,
   "id": "813e2944",
   "metadata": {},
   "outputs": [
    {
     "data": {
      "text/plain": [
       "(748, 9)"
      ]
     },
     "execution_count": 73,
     "metadata": {},
     "output_type": "execute_result"
    }
   ],
   "source": [
    "coffee_shops.shape"
   ]
  },
  {
   "cell_type": "code",
   "execution_count": 74,
   "id": "fca9fc77",
   "metadata": {},
   "outputs": [
    {
     "name": "stdout",
     "output_type": "stream",
     "text": [
      "<class 'pandas.core.frame.DataFrame'>\n",
      "Index: 748 entries, 0 to 747\n",
      "Data columns (total 9 columns):\n",
      " #   Column                  Non-Null Count  Dtype  \n",
      "---  ------                  --------------  -----  \n",
      " 0   formattedAddress        748 non-null    object \n",
      " 1   location                748 non-null    object \n",
      " 2   rating                  675 non-null    float64\n",
      " 3   businessStatus          748 non-null    object \n",
      " 4   userRatingCount         675 non-null    float64\n",
      " 5   displayName             748 non-null    object \n",
      " 6   primaryTypeDisplayName  748 non-null    object \n",
      " 7   priceRange              388 non-null    object \n",
      " 8   websiteUri              273 non-null    object \n",
      "dtypes: float64(2), object(7)\n",
      "memory usage: 58.4+ KB\n"
     ]
    }
   ],
   "source": [
    "coffee_shops.info()"
   ]
  },
  {
   "cell_type": "markdown",
   "id": "31bd3350",
   "metadata": {},
   "source": [
    "#### Data Cleaning"
   ]
  },
  {
   "cell_type": "code",
   "execution_count": 75,
   "id": "41f039e1",
   "metadata": {},
   "outputs": [
    {
     "data": {
      "text/plain": [
       "np.int64(0)"
      ]
     },
     "execution_count": 75,
     "metadata": {},
     "output_type": "execute_result"
    }
   ],
   "source": [
    "coffee_shops.duplicated().sum()"
   ]
  },
  {
   "cell_type": "code",
   "execution_count": 76,
   "id": "b0d94643",
   "metadata": {},
   "outputs": [
    {
     "data": {
      "application/vnd.microsoft.datawrangler.viewer.v0+json": {
       "columns": [
        {
         "name": "index",
         "rawType": "object",
         "type": "string"
        },
        {
         "name": "0",
         "rawType": "int64",
         "type": "integer"
        }
       ],
       "ref": "28b87050-6777-4fea-bb99-d21a1ec46c5f",
       "rows": [
        [
         "formattedAddress",
         "0"
        ],
        [
         "location",
         "0"
        ],
        [
         "rating",
         "73"
        ],
        [
         "businessStatus",
         "0"
        ],
        [
         "userRatingCount",
         "73"
        ],
        [
         "displayName",
         "0"
        ],
        [
         "primaryTypeDisplayName",
         "0"
        ],
        [
         "priceRange",
         "360"
        ],
        [
         "websiteUri",
         "475"
        ]
       ],
       "shape": {
        "columns": 1,
        "rows": 9
       }
      },
      "text/plain": [
       "formattedAddress            0\n",
       "location                    0\n",
       "rating                     73\n",
       "businessStatus              0\n",
       "userRatingCount            73\n",
       "displayName                 0\n",
       "primaryTypeDisplayName      0\n",
       "priceRange                360\n",
       "websiteUri                475\n",
       "dtype: int64"
      ]
     },
     "execution_count": 76,
     "metadata": {},
     "output_type": "execute_result"
    }
   ],
   "source": [
    "coffee_shops.isnull().sum()"
   ]
  },
  {
   "cell_type": "code",
   "execution_count": 77,
   "id": "7e9dda99",
   "metadata": {},
   "outputs": [],
   "source": [
    "coffee_shops.dropna(subset='userRatingCount', inplace=True, ignore_index=True)"
   ]
  }
 ],
 "metadata": {
  "kernelspec": {
   "display_name": "coffee-analysis-venv",
   "language": "python",
   "name": "python3"
  },
  "language_info": {
   "codemirror_mode": {
    "name": "ipython",
    "version": 3
   },
   "file_extension": ".py",
   "mimetype": "text/x-python",
   "name": "python",
   "nbconvert_exporter": "python",
   "pygments_lexer": "ipython3",
   "version": "3.13.9"
  }
 },
 "nbformat": 4,
 "nbformat_minor": 5
}
