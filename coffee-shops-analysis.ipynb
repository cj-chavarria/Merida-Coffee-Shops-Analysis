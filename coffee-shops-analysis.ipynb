{
 "cells": [
  {
   "cell_type": "code",
   "execution_count": 87,
   "id": "f62cc3f2",
   "metadata": {},
   "outputs": [],
   "source": [
    "import pandas as pd\n",
    "import numpy as np\n",
    "import matplotlib.pyplot as plt\n",
    "import seaborn as sns\n",
    "import plotly.express as px\n",
    "import ast\n",
    "import re\n",
    "import folium"
   ]
  },
  {
   "cell_type": "code",
   "execution_count": 88,
   "id": "0d7ea9b8",
   "metadata": {},
   "outputs": [],
   "source": [
    "coffee_shops = pd.read_csv('data/details_data_raw.csv', index_col=0)"
   ]
  },
  {
   "cell_type": "markdown",
   "id": "2a1cdbc7",
   "metadata": {},
   "source": [
    "#### Data Exploration"
   ]
  },
  {
   "cell_type": "code",
   "execution_count": 89,
   "id": "90651f52",
   "metadata": {},
   "outputs": [
    {
     "data": {
      "text/html": [
       "<div>\n",
       "<style scoped>\n",
       "    .dataframe tbody tr th:only-of-type {\n",
       "        vertical-align: middle;\n",
       "    }\n",
       "\n",
       "    .dataframe tbody tr th {\n",
       "        vertical-align: top;\n",
       "    }\n",
       "\n",
       "    .dataframe thead th {\n",
       "        text-align: right;\n",
       "    }\n",
       "</style>\n",
       "<table border=\"1\" class=\"dataframe\">\n",
       "  <thead>\n",
       "    <tr style=\"text-align: right;\">\n",
       "      <th></th>\n",
       "      <th>formattedAddress</th>\n",
       "      <th>location</th>\n",
       "      <th>rating</th>\n",
       "      <th>businessStatus</th>\n",
       "      <th>userRatingCount</th>\n",
       "      <th>displayName</th>\n",
       "      <th>primaryTypeDisplayName</th>\n",
       "      <th>priceRange</th>\n",
       "      <th>websiteUri</th>\n",
       "    </tr>\n",
       "  </thead>\n",
       "  <tbody>\n",
       "    <tr>\n",
       "      <th>0</th>\n",
       "      <td>C. 27 117, San Lorenzo, Umán, 97390 Umán, Yuc....</td>\n",
       "      <td>{'latitude': 20.894740499999997, 'longitude': ...</td>\n",
       "      <td>5.0</td>\n",
       "      <td>OPERATIONAL</td>\n",
       "      <td>2.0</td>\n",
       "      <td>{'text': 'Frappe shop suc san lorenzo', 'langu...</td>\n",
       "      <td>{'text': 'Cafe', 'languageCode': 'en-US'}</td>\n",
       "      <td>NaN</td>\n",
       "      <td>NaN</td>\n",
       "    </tr>\n",
       "    <tr>\n",
       "      <th>1</th>\n",
       "      <td>C. 27 131, San Lorenzo, Umán, 97390 Umán, Yuc....</td>\n",
       "      <td>{'latitude': 20.8945503, 'longitude': -89.732288}</td>\n",
       "      <td>3.0</td>\n",
       "      <td>OPERATIONAL</td>\n",
       "      <td>5.0</td>\n",
       "      <td>{'text': 'Panucheria Doña Yolí', 'languageCode...</td>\n",
       "      <td>{'text': 'Coffee Shop', 'languageCode': 'en-US'}</td>\n",
       "      <td>NaN</td>\n",
       "      <td>NaN</td>\n",
       "    </tr>\n",
       "    <tr>\n",
       "      <th>2</th>\n",
       "      <td>C. 20, Umán, 97390 Umán, Yuc., Mexico</td>\n",
       "      <td>{'latitude': 20.8915676, 'longitude': -89.7302...</td>\n",
       "      <td>5.0</td>\n",
       "      <td>OPERATIONAL</td>\n",
       "      <td>1.0</td>\n",
       "      <td>{'text': 'Taquería mi Angel', 'languageCode': ...</td>\n",
       "      <td>{'text': 'Coffee Shop', 'languageCode': 'en-US'}</td>\n",
       "      <td>NaN</td>\n",
       "      <td>NaN</td>\n",
       "    </tr>\n",
       "    <tr>\n",
       "      <th>3</th>\n",
       "      <td>Campeche-Mérida 11592, 97392 Mérida, Yuc., Mexico</td>\n",
       "      <td>{'latitude': 20.8941657, 'longitude': -89.6934...</td>\n",
       "      <td>NaN</td>\n",
       "      <td>OPERATIONAL</td>\n",
       "      <td>NaN</td>\n",
       "      <td>{'text': 'Barra andatti Gourmet Santa Cruz', '...</td>\n",
       "      <td>{'text': 'Coffee Shop', 'languageCode': 'en-US'}</td>\n",
       "      <td>NaN</td>\n",
       "      <td>NaN</td>\n",
       "    </tr>\n",
       "    <tr>\n",
       "      <th>4</th>\n",
       "      <td>C. 40a 823c, Piedra de Agua, 97392 Umán, Yuc.,...</td>\n",
       "      <td>{'latitude': 20.9021989, 'longitude': -89.6958...</td>\n",
       "      <td>NaN</td>\n",
       "      <td>OPERATIONAL</td>\n",
       "      <td>NaN</td>\n",
       "      <td>{'text': 'Antojeria', 'languageCode': 'es'}</td>\n",
       "      <td>{'text': 'Coffee Shop', 'languageCode': 'en-US'}</td>\n",
       "      <td>NaN</td>\n",
       "      <td>NaN</td>\n",
       "    </tr>\n",
       "  </tbody>\n",
       "</table>\n",
       "</div>"
      ],
      "text/plain": [
       "                                    formattedAddress  \\\n",
       "0  C. 27 117, San Lorenzo, Umán, 97390 Umán, Yuc....   \n",
       "1  C. 27 131, San Lorenzo, Umán, 97390 Umán, Yuc....   \n",
       "2              C. 20, Umán, 97390 Umán, Yuc., Mexico   \n",
       "3  Campeche-Mérida 11592, 97392 Mérida, Yuc., Mexico   \n",
       "4  C. 40a 823c, Piedra de Agua, 97392 Umán, Yuc.,...   \n",
       "\n",
       "                                            location  rating businessStatus  \\\n",
       "0  {'latitude': 20.894740499999997, 'longitude': ...     5.0    OPERATIONAL   \n",
       "1  {'latitude': 20.8945503, 'longitude': -89.732288}     3.0    OPERATIONAL   \n",
       "2  {'latitude': 20.8915676, 'longitude': -89.7302...     5.0    OPERATIONAL   \n",
       "3  {'latitude': 20.8941657, 'longitude': -89.6934...     NaN    OPERATIONAL   \n",
       "4  {'latitude': 20.9021989, 'longitude': -89.6958...     NaN    OPERATIONAL   \n",
       "\n",
       "   userRatingCount                                        displayName  \\\n",
       "0              2.0  {'text': 'Frappe shop suc san lorenzo', 'langu...   \n",
       "1              5.0  {'text': 'Panucheria Doña Yolí', 'languageCode...   \n",
       "2              1.0  {'text': 'Taquería mi Angel', 'languageCode': ...   \n",
       "3              NaN  {'text': 'Barra andatti Gourmet Santa Cruz', '...   \n",
       "4              NaN        {'text': 'Antojeria', 'languageCode': 'es'}   \n",
       "\n",
       "                             primaryTypeDisplayName priceRange websiteUri  \n",
       "0         {'text': 'Cafe', 'languageCode': 'en-US'}        NaN        NaN  \n",
       "1  {'text': 'Coffee Shop', 'languageCode': 'en-US'}        NaN        NaN  \n",
       "2  {'text': 'Coffee Shop', 'languageCode': 'en-US'}        NaN        NaN  \n",
       "3  {'text': 'Coffee Shop', 'languageCode': 'en-US'}        NaN        NaN  \n",
       "4  {'text': 'Coffee Shop', 'languageCode': 'en-US'}        NaN        NaN  "
      ]
     },
     "execution_count": 89,
     "metadata": {},
     "output_type": "execute_result"
    }
   ],
   "source": [
    "coffee_shops.head()"
   ]
  },
  {
   "cell_type": "code",
   "execution_count": 90,
   "id": "beef7636",
   "metadata": {},
   "outputs": [
    {
     "data": {
      "text/html": [
       "<div>\n",
       "<style scoped>\n",
       "    .dataframe tbody tr th:only-of-type {\n",
       "        vertical-align: middle;\n",
       "    }\n",
       "\n",
       "    .dataframe tbody tr th {\n",
       "        vertical-align: top;\n",
       "    }\n",
       "\n",
       "    .dataframe thead th {\n",
       "        text-align: right;\n",
       "    }\n",
       "</style>\n",
       "<table border=\"1\" class=\"dataframe\">\n",
       "  <thead>\n",
       "    <tr style=\"text-align: right;\">\n",
       "      <th></th>\n",
       "      <th>formattedAddress</th>\n",
       "      <th>location</th>\n",
       "      <th>rating</th>\n",
       "      <th>businessStatus</th>\n",
       "      <th>userRatingCount</th>\n",
       "      <th>displayName</th>\n",
       "      <th>primaryTypeDisplayName</th>\n",
       "      <th>priceRange</th>\n",
       "      <th>websiteUri</th>\n",
       "    </tr>\n",
       "  </thead>\n",
       "  <tbody>\n",
       "    <tr>\n",
       "      <th>743</th>\n",
       "      <td>97302 Calle 100-2 #140h Fraccionamiento las am...</td>\n",
       "      <td>{'latitude': 21.080935099999998, 'longitude': ...</td>\n",
       "      <td>NaN</td>\n",
       "      <td>OPERATIONAL</td>\n",
       "      <td>NaN</td>\n",
       "      <td>{'text': 'Espacio 11:11', 'languageCode': 'es'}</td>\n",
       "      <td>{'text': 'Cafe', 'languageCode': 'en-US'}</td>\n",
       "      <td>NaN</td>\n",
       "      <td>NaN</td>\n",
       "    </tr>\n",
       "    <tr>\n",
       "      <th>744</th>\n",
       "      <td>C. 49-B 926, entre 112 y 108 A, Fraccionamient...</td>\n",
       "      <td>{'latitude': 21.0818943, 'longitude': -89.6616...</td>\n",
       "      <td>5.0</td>\n",
       "      <td>OPERATIONAL</td>\n",
       "      <td>10.0</td>\n",
       "      <td>{'text': 'Frapplo', 'languageCode': 'es'}</td>\n",
       "      <td>{'text': 'Coffee Shop', 'languageCode': 'en-US'}</td>\n",
       "      <td>{'startPrice': {'currencyCode': 'MXN', 'units'...</td>\n",
       "      <td>https://www.instagram.com/frapplo_/</td>\n",
       "    </tr>\n",
       "    <tr>\n",
       "      <th>745</th>\n",
       "      <td>C. 100-1 137, Fraccionamiento Las Américas 2, ...</td>\n",
       "      <td>{'latitude': 21.081186499999998, 'longitude': ...</td>\n",
       "      <td>5.0</td>\n",
       "      <td>OPERATIONAL</td>\n",
       "      <td>2.0</td>\n",
       "      <td>{'text': 'Mejorar el futuro!', 'languageCode':...</td>\n",
       "      <td>{'text': 'Cafe', 'languageCode': 'en-US'}</td>\n",
       "      <td>NaN</td>\n",
       "      <td>NaN</td>\n",
       "    </tr>\n",
       "    <tr>\n",
       "      <th>746</th>\n",
       "      <td>Carr. Mérida - Progreso, 97302 Xcanatún, Yuc.,...</td>\n",
       "      <td>{'latitude': 21.0814901, 'longitude': -89.6352...</td>\n",
       "      <td>4.3</td>\n",
       "      <td>OPERATIONAL</td>\n",
       "      <td>183.0</td>\n",
       "      <td>{'text': 'Starbucks Carretera Progreso', 'lang...</td>\n",
       "      <td>{'text': 'Coffee Shop', 'languageCode': 'en-US'}</td>\n",
       "      <td>{'startPrice': {'currencyCode': 'MXN', 'units'...</td>\n",
       "      <td>NaN</td>\n",
       "    </tr>\n",
       "    <tr>\n",
       "      <th>747</th>\n",
       "      <td>C. 21 entre 4, 97302 Chablekal, Yuc., Mexico</td>\n",
       "      <td>{'latitude': 21.091645099999997, 'longitude': ...</td>\n",
       "      <td>5.0</td>\n",
       "      <td>OPERATIONAL</td>\n",
       "      <td>1.0</td>\n",
       "      <td>{'text': 'DRAGÓN SUSHI🐉', 'languageCode': 'es'}</td>\n",
       "      <td>{'text': 'Coffee Shop', 'languageCode': 'en-US'}</td>\n",
       "      <td>NaN</td>\n",
       "      <td>NaN</td>\n",
       "    </tr>\n",
       "  </tbody>\n",
       "</table>\n",
       "</div>"
      ],
      "text/plain": [
       "                                      formattedAddress  \\\n",
       "743  97302 Calle 100-2 #140h Fraccionamiento las am...   \n",
       "744  C. 49-B 926, entre 112 y 108 A, Fraccionamient...   \n",
       "745  C. 100-1 137, Fraccionamiento Las Américas 2, ...   \n",
       "746  Carr. Mérida - Progreso, 97302 Xcanatún, Yuc.,...   \n",
       "747       C. 21 entre 4, 97302 Chablekal, Yuc., Mexico   \n",
       "\n",
       "                                              location  rating businessStatus  \\\n",
       "743  {'latitude': 21.080935099999998, 'longitude': ...     NaN    OPERATIONAL   \n",
       "744  {'latitude': 21.0818943, 'longitude': -89.6616...     5.0    OPERATIONAL   \n",
       "745  {'latitude': 21.081186499999998, 'longitude': ...     5.0    OPERATIONAL   \n",
       "746  {'latitude': 21.0814901, 'longitude': -89.6352...     4.3    OPERATIONAL   \n",
       "747  {'latitude': 21.091645099999997, 'longitude': ...     5.0    OPERATIONAL   \n",
       "\n",
       "     userRatingCount                                        displayName  \\\n",
       "743              NaN    {'text': 'Espacio 11:11', 'languageCode': 'es'}   \n",
       "744             10.0          {'text': 'Frapplo', 'languageCode': 'es'}   \n",
       "745              2.0  {'text': 'Mejorar el futuro!', 'languageCode':...   \n",
       "746            183.0  {'text': 'Starbucks Carretera Progreso', 'lang...   \n",
       "747              1.0    {'text': 'DRAGÓN SUSHI🐉', 'languageCode': 'es'}   \n",
       "\n",
       "                               primaryTypeDisplayName  \\\n",
       "743         {'text': 'Cafe', 'languageCode': 'en-US'}   \n",
       "744  {'text': 'Coffee Shop', 'languageCode': 'en-US'}   \n",
       "745         {'text': 'Cafe', 'languageCode': 'en-US'}   \n",
       "746  {'text': 'Coffee Shop', 'languageCode': 'en-US'}   \n",
       "747  {'text': 'Coffee Shop', 'languageCode': 'en-US'}   \n",
       "\n",
       "                                            priceRange  \\\n",
       "743                                                NaN   \n",
       "744  {'startPrice': {'currencyCode': 'MXN', 'units'...   \n",
       "745                                                NaN   \n",
       "746  {'startPrice': {'currencyCode': 'MXN', 'units'...   \n",
       "747                                                NaN   \n",
       "\n",
       "                              websiteUri  \n",
       "743                                  NaN  \n",
       "744  https://www.instagram.com/frapplo_/  \n",
       "745                                  NaN  \n",
       "746                                  NaN  \n",
       "747                                  NaN  "
      ]
     },
     "execution_count": 90,
     "metadata": {},
     "output_type": "execute_result"
    }
   ],
   "source": [
    "coffee_shops.tail()"
   ]
  },
  {
   "cell_type": "code",
   "execution_count": 91,
   "id": "813e2944",
   "metadata": {},
   "outputs": [
    {
     "data": {
      "text/plain": [
       "(748, 9)"
      ]
     },
     "execution_count": 91,
     "metadata": {},
     "output_type": "execute_result"
    }
   ],
   "source": [
    "coffee_shops.shape"
   ]
  },
  {
   "cell_type": "code",
   "execution_count": 92,
   "id": "fca9fc77",
   "metadata": {},
   "outputs": [
    {
     "name": "stdout",
     "output_type": "stream",
     "text": [
      "<class 'pandas.core.frame.DataFrame'>\n",
      "Index: 748 entries, 0 to 747\n",
      "Data columns (total 9 columns):\n",
      " #   Column                  Non-Null Count  Dtype  \n",
      "---  ------                  --------------  -----  \n",
      " 0   formattedAddress        748 non-null    object \n",
      " 1   location                748 non-null    object \n",
      " 2   rating                  675 non-null    float64\n",
      " 3   businessStatus          748 non-null    object \n",
      " 4   userRatingCount         675 non-null    float64\n",
      " 5   displayName             748 non-null    object \n",
      " 6   primaryTypeDisplayName  748 non-null    object \n",
      " 7   priceRange              388 non-null    object \n",
      " 8   websiteUri              273 non-null    object \n",
      "dtypes: float64(2), object(7)\n",
      "memory usage: 58.4+ KB\n"
     ]
    }
   ],
   "source": [
    "coffee_shops.info()"
   ]
  },
  {
   "cell_type": "markdown",
   "id": "31bd3350",
   "metadata": {},
   "source": [
    "#### Data Cleaning"
   ]
  },
  {
   "cell_type": "code",
   "execution_count": 93,
   "id": "41f039e1",
   "metadata": {},
   "outputs": [
    {
     "data": {
      "text/plain": [
       "np.int64(0)"
      ]
     },
     "execution_count": 93,
     "metadata": {},
     "output_type": "execute_result"
    }
   ],
   "source": [
    "coffee_shops.duplicated().sum()"
   ]
  },
  {
   "cell_type": "code",
   "execution_count": 94,
   "id": "3ea686e4",
   "metadata": {},
   "outputs": [
    {
     "data": {
      "text/plain": [
       "formattedAddress            6\n",
       "location                    2\n",
       "rating                    646\n",
       "businessStatus            747\n",
       "userRatingCount           433\n",
       "displayName                13\n",
       "primaryTypeDisplayName    725\n",
       "priceRange                381\n",
       "websiteUri                 13\n",
       "dtype: int64"
      ]
     },
     "execution_count": 94,
     "metadata": {},
     "output_type": "execute_result"
    }
   ],
   "source": [
    "coffee_shops.apply(lambda col: col.dropna().duplicated().sum())"
   ]
  },
  {
   "cell_type": "code",
   "execution_count": 95,
   "id": "db38e0e7",
   "metadata": {},
   "outputs": [],
   "source": [
    "coffee_shops.drop_duplicates(subset='location', inplace=True)"
   ]
  },
  {
   "cell_type": "code",
   "execution_count": 96,
   "id": "b0d94643",
   "metadata": {},
   "outputs": [
    {
     "data": {
      "text/plain": [
       "formattedAddress            0\n",
       "location                    0\n",
       "rating                     72\n",
       "businessStatus              0\n",
       "userRatingCount            72\n",
       "displayName                 0\n",
       "primaryTypeDisplayName      0\n",
       "priceRange                358\n",
       "websiteUri                473\n",
       "dtype: int64"
      ]
     },
     "execution_count": 96,
     "metadata": {},
     "output_type": "execute_result"
    }
   ],
   "source": [
    "coffee_shops.isnull().sum()"
   ]
  },
  {
   "cell_type": "code",
   "execution_count": 97,
   "id": "7e9dda99",
   "metadata": {},
   "outputs": [],
   "source": [
    "coffee_shops.dropna(subset='userRatingCount', inplace=True)"
   ]
  },
  {
   "cell_type": "code",
   "execution_count": 98,
   "id": "2b6b23c3",
   "metadata": {},
   "outputs": [],
   "source": [
    "coffee_shops.drop(coffee_shops[coffee_shops['formattedAddress'].str.contains('kanasín', case=False)].index, inplace=True)\n",
    "coffee_shops.drop(coffee_shops[coffee_shops['primaryTypeDisplayName'].str.contains('mexican', case=False)].index, inplace=True)\n",
    "coffee_shops.drop(coffee_shops[coffee_shops['displayName'].str.contains('sushi|pasta', case=False)].index, inplace=True)\n",
    "coffee_shops.reset_index(drop=True, inplace=True)"
   ]
  },
  {
   "cell_type": "code",
   "execution_count": 99,
   "id": "ededc6a2",
   "metadata": {},
   "outputs": [],
   "source": [
    "coffee_shops['location'] = coffee_shops['location'].apply(lambda s: ast.literal_eval(s) if type(s)==str else s)\n",
    "coffee_shops['priceRange'] = coffee_shops['priceRange'].apply(lambda s: ast.literal_eval(s) if type(s)==str else s)"
   ]
  },
  {
   "cell_type": "code",
   "execution_count": 100,
   "id": "a32d1dc3",
   "metadata": {},
   "outputs": [],
   "source": [
    "coffee_shops['displayName'] = coffee_shops['displayName'].apply(lambda s: ast.literal_eval(s)['text'] if type(s)==str else s)\n",
    "coffee_shops['primaryTypeDisplayName'] = coffee_shops['primaryTypeDisplayName'].apply(lambda s: ast.literal_eval(s)['text'] if type(s)==str else s)"
   ]
  },
  {
   "cell_type": "code",
   "execution_count": 101,
   "id": "134c78f1",
   "metadata": {},
   "outputs": [],
   "source": [
    "coffee_shops['postalCode'] = coffee_shops['formattedAddress'].apply(lambda s: int(re.search(r'\\b97\\d{3}\\b', s).group(0)))"
   ]
  },
  {
   "cell_type": "code",
   "execution_count": 102,
   "id": "4062ce50",
   "metadata": {},
   "outputs": [],
   "source": [
    "avgPrice = []\n",
    "\n",
    "for price in coffee_shops['priceRange']:\n",
    "    if type(price) == dict:\n",
    "        avg = 0\n",
    "        if 'startPrice' not in price:\n",
    "            avg = int(price['endPrice']['units']) / 2\n",
    "        elif 'endPrice' not in price:\n",
    "            avg = int(price['startPrice']['units']) / 2\n",
    "        else:\n",
    "            avg = (int(price['startPrice']['units']) + int(price['endPrice']['units'])) / 2\n",
    "        \n",
    "        avgPrice.append(avg)\n",
    "        \n",
    "    else:\n",
    "        avgPrice.append(np.nan)\n",
    "\n",
    "coffee_shops['avgPrice'] = avgPrice"
   ]
  },
  {
   "cell_type": "code",
   "execution_count": 103,
   "id": "cfccd75d",
   "metadata": {},
   "outputs": [
    {
     "data": {
      "text/html": [
       "<div>\n",
       "<style scoped>\n",
       "    .dataframe tbody tr th:only-of-type {\n",
       "        vertical-align: middle;\n",
       "    }\n",
       "\n",
       "    .dataframe tbody tr th {\n",
       "        vertical-align: top;\n",
       "    }\n",
       "\n",
       "    .dataframe thead th {\n",
       "        text-align: right;\n",
       "    }\n",
       "</style>\n",
       "<table border=\"1\" class=\"dataframe\">\n",
       "  <thead>\n",
       "    <tr style=\"text-align: right;\">\n",
       "      <th></th>\n",
       "      <th>formattedAddress</th>\n",
       "      <th>location</th>\n",
       "      <th>rating</th>\n",
       "      <th>businessStatus</th>\n",
       "      <th>userRatingCount</th>\n",
       "      <th>displayName</th>\n",
       "      <th>primaryTypeDisplayName</th>\n",
       "      <th>priceRange</th>\n",
       "      <th>websiteUri</th>\n",
       "      <th>postalCode</th>\n",
       "      <th>avgPrice</th>\n",
       "    </tr>\n",
       "  </thead>\n",
       "  <tbody>\n",
       "    <tr>\n",
       "      <th>0</th>\n",
       "      <td>C. 27 117, San Lorenzo, Umán, 97390 Umán, Yuc....</td>\n",
       "      <td>{'latitude': 20.894740499999997, 'longitude': ...</td>\n",
       "      <td>5.0</td>\n",
       "      <td>OPERATIONAL</td>\n",
       "      <td>2.0</td>\n",
       "      <td>Frappe shop suc san lorenzo</td>\n",
       "      <td>Cafe</td>\n",
       "      <td>NaN</td>\n",
       "      <td>NaN</td>\n",
       "      <td>97390</td>\n",
       "      <td>NaN</td>\n",
       "    </tr>\n",
       "    <tr>\n",
       "      <th>1</th>\n",
       "      <td>C. 27 131, San Lorenzo, Umán, 97390 Umán, Yuc....</td>\n",
       "      <td>{'latitude': 20.8945503, 'longitude': -89.732288}</td>\n",
       "      <td>3.0</td>\n",
       "      <td>OPERATIONAL</td>\n",
       "      <td>5.0</td>\n",
       "      <td>Panucheria Doña Yolí</td>\n",
       "      <td>Coffee Shop</td>\n",
       "      <td>NaN</td>\n",
       "      <td>NaN</td>\n",
       "      <td>97390</td>\n",
       "      <td>NaN</td>\n",
       "    </tr>\n",
       "    <tr>\n",
       "      <th>2</th>\n",
       "      <td>C. 20, Umán, 97390 Umán, Yuc., Mexico</td>\n",
       "      <td>{'latitude': 20.8915676, 'longitude': -89.7302...</td>\n",
       "      <td>5.0</td>\n",
       "      <td>OPERATIONAL</td>\n",
       "      <td>1.0</td>\n",
       "      <td>Taquería mi Angel</td>\n",
       "      <td>Coffee Shop</td>\n",
       "      <td>NaN</td>\n",
       "      <td>NaN</td>\n",
       "      <td>97390</td>\n",
       "      <td>NaN</td>\n",
       "    </tr>\n",
       "    <tr>\n",
       "      <th>3</th>\n",
       "      <td>97300 San Marcos Sustentable, 97300 Mérida, Yu...</td>\n",
       "      <td>{'latitude': 20.900779, 'longitude': -89.6664215}</td>\n",
       "      <td>5.0</td>\n",
       "      <td>OPERATIONAL</td>\n",
       "      <td>5.0</td>\n",
       "      <td>NIÑOS SANTOS CAFÉ GOURMET</td>\n",
       "      <td>Coffee Shop</td>\n",
       "      <td>NaN</td>\n",
       "      <td>NaN</td>\n",
       "      <td>97300</td>\n",
       "      <td>NaN</td>\n",
       "    </tr>\n",
       "    <tr>\n",
       "      <th>4</th>\n",
       "      <td>97295 Merida, Yucatan, Mexico</td>\n",
       "      <td>{'latitude': 20.898615600000003, 'longitude': ...</td>\n",
       "      <td>4.5</td>\n",
       "      <td>OPERATIONAL</td>\n",
       "      <td>14.0</td>\n",
       "      <td>Moheno's Café</td>\n",
       "      <td>Cafe</td>\n",
       "      <td>NaN</td>\n",
       "      <td>NaN</td>\n",
       "      <td>97295</td>\n",
       "      <td>NaN</td>\n",
       "    </tr>\n",
       "    <tr>\n",
       "      <th>...</th>\n",
       "      <td>...</td>\n",
       "      <td>...</td>\n",
       "      <td>...</td>\n",
       "      <td>...</td>\n",
       "      <td>...</td>\n",
       "      <td>...</td>\n",
       "      <td>...</td>\n",
       "      <td>...</td>\n",
       "      <td>...</td>\n",
       "      <td>...</td>\n",
       "      <td>...</td>\n",
       "    </tr>\n",
       "    <tr>\n",
       "      <th>617</th>\n",
       "      <td>Vega Del Mayab, 97347 Mérida, Yuc., Mexico</td>\n",
       "      <td>{'latitude': 21.0682236, 'longitude': -89.5534...</td>\n",
       "      <td>4.8</td>\n",
       "      <td>OPERATIONAL</td>\n",
       "      <td>72.0</td>\n",
       "      <td>Chef Aslam Escobar, Castello banquetes, Cazuel...</td>\n",
       "      <td>Caterer</td>\n",
       "      <td>NaN</td>\n",
       "      <td>http://www.facebook.com/cazuelasmerida</td>\n",
       "      <td>97347</td>\n",
       "      <td>NaN</td>\n",
       "    </tr>\n",
       "    <tr>\n",
       "      <th>618</th>\n",
       "      <td>C. 45D, 97302 Mérida, Yuc., Mexico</td>\n",
       "      <td>{'latitude': 21.089629799999997, 'longitude': ...</td>\n",
       "      <td>5.0</td>\n",
       "      <td>OPERATIONAL</td>\n",
       "      <td>7.0</td>\n",
       "      <td>La Sexta Foods</td>\n",
       "      <td>Restaurant</td>\n",
       "      <td>{'startPrice': {'currencyCode': 'MXN', 'units'...</td>\n",
       "      <td>NaN</td>\n",
       "      <td>97302</td>\n",
       "      <td>50.5</td>\n",
       "    </tr>\n",
       "    <tr>\n",
       "      <th>619</th>\n",
       "      <td>C. 49-B 926, entre 112 y 108 A, Fraccionamient...</td>\n",
       "      <td>{'latitude': 21.0818943, 'longitude': -89.6616...</td>\n",
       "      <td>5.0</td>\n",
       "      <td>OPERATIONAL</td>\n",
       "      <td>10.0</td>\n",
       "      <td>Frapplo</td>\n",
       "      <td>Coffee Shop</td>\n",
       "      <td>{'startPrice': {'currencyCode': 'MXN', 'units'...</td>\n",
       "      <td>https://www.instagram.com/frapplo_/</td>\n",
       "      <td>97302</td>\n",
       "      <td>50.5</td>\n",
       "    </tr>\n",
       "    <tr>\n",
       "      <th>620</th>\n",
       "      <td>C. 100-1 137, Fraccionamiento Las Américas 2, ...</td>\n",
       "      <td>{'latitude': 21.081186499999998, 'longitude': ...</td>\n",
       "      <td>5.0</td>\n",
       "      <td>OPERATIONAL</td>\n",
       "      <td>2.0</td>\n",
       "      <td>Mejorar el futuro!</td>\n",
       "      <td>Cafe</td>\n",
       "      <td>NaN</td>\n",
       "      <td>NaN</td>\n",
       "      <td>97302</td>\n",
       "      <td>NaN</td>\n",
       "    </tr>\n",
       "    <tr>\n",
       "      <th>621</th>\n",
       "      <td>Carr. Mérida - Progreso, 97302 Xcanatún, Yuc.,...</td>\n",
       "      <td>{'latitude': 21.0814901, 'longitude': -89.6352...</td>\n",
       "      <td>4.3</td>\n",
       "      <td>OPERATIONAL</td>\n",
       "      <td>183.0</td>\n",
       "      <td>Starbucks Carretera Progreso</td>\n",
       "      <td>Coffee Shop</td>\n",
       "      <td>{'startPrice': {'currencyCode': 'MXN', 'units'...</td>\n",
       "      <td>NaN</td>\n",
       "      <td>97302</td>\n",
       "      <td>150.0</td>\n",
       "    </tr>\n",
       "  </tbody>\n",
       "</table>\n",
       "<p>622 rows × 11 columns</p>\n",
       "</div>"
      ],
      "text/plain": [
       "                                      formattedAddress  \\\n",
       "0    C. 27 117, San Lorenzo, Umán, 97390 Umán, Yuc....   \n",
       "1    C. 27 131, San Lorenzo, Umán, 97390 Umán, Yuc....   \n",
       "2                C. 20, Umán, 97390 Umán, Yuc., Mexico   \n",
       "3    97300 San Marcos Sustentable, 97300 Mérida, Yu...   \n",
       "4                        97295 Merida, Yucatan, Mexico   \n",
       "..                                                 ...   \n",
       "617         Vega Del Mayab, 97347 Mérida, Yuc., Mexico   \n",
       "618                 C. 45D, 97302 Mérida, Yuc., Mexico   \n",
       "619  C. 49-B 926, entre 112 y 108 A, Fraccionamient...   \n",
       "620  C. 100-1 137, Fraccionamiento Las Américas 2, ...   \n",
       "621  Carr. Mérida - Progreso, 97302 Xcanatún, Yuc.,...   \n",
       "\n",
       "                                              location  rating businessStatus  \\\n",
       "0    {'latitude': 20.894740499999997, 'longitude': ...     5.0    OPERATIONAL   \n",
       "1    {'latitude': 20.8945503, 'longitude': -89.732288}     3.0    OPERATIONAL   \n",
       "2    {'latitude': 20.8915676, 'longitude': -89.7302...     5.0    OPERATIONAL   \n",
       "3    {'latitude': 20.900779, 'longitude': -89.6664215}     5.0    OPERATIONAL   \n",
       "4    {'latitude': 20.898615600000003, 'longitude': ...     4.5    OPERATIONAL   \n",
       "..                                                 ...     ...            ...   \n",
       "617  {'latitude': 21.0682236, 'longitude': -89.5534...     4.8    OPERATIONAL   \n",
       "618  {'latitude': 21.089629799999997, 'longitude': ...     5.0    OPERATIONAL   \n",
       "619  {'latitude': 21.0818943, 'longitude': -89.6616...     5.0    OPERATIONAL   \n",
       "620  {'latitude': 21.081186499999998, 'longitude': ...     5.0    OPERATIONAL   \n",
       "621  {'latitude': 21.0814901, 'longitude': -89.6352...     4.3    OPERATIONAL   \n",
       "\n",
       "     userRatingCount                                        displayName  \\\n",
       "0                2.0                        Frappe shop suc san lorenzo   \n",
       "1                5.0                               Panucheria Doña Yolí   \n",
       "2                1.0                                  Taquería mi Angel   \n",
       "3                5.0                          NIÑOS SANTOS CAFÉ GOURMET   \n",
       "4               14.0                                      Moheno's Café   \n",
       "..               ...                                                ...   \n",
       "617             72.0  Chef Aslam Escobar, Castello banquetes, Cazuel...   \n",
       "618              7.0                                     La Sexta Foods   \n",
       "619             10.0                                            Frapplo   \n",
       "620              2.0                                 Mejorar el futuro!   \n",
       "621            183.0                       Starbucks Carretera Progreso   \n",
       "\n",
       "    primaryTypeDisplayName                                         priceRange  \\\n",
       "0                     Cafe                                                NaN   \n",
       "1              Coffee Shop                                                NaN   \n",
       "2              Coffee Shop                                                NaN   \n",
       "3              Coffee Shop                                                NaN   \n",
       "4                     Cafe                                                NaN   \n",
       "..                     ...                                                ...   \n",
       "617                Caterer                                                NaN   \n",
       "618             Restaurant  {'startPrice': {'currencyCode': 'MXN', 'units'...   \n",
       "619            Coffee Shop  {'startPrice': {'currencyCode': 'MXN', 'units'...   \n",
       "620                   Cafe                                                NaN   \n",
       "621            Coffee Shop  {'startPrice': {'currencyCode': 'MXN', 'units'...   \n",
       "\n",
       "                                 websiteUri  postalCode  avgPrice  \n",
       "0                                       NaN       97390       NaN  \n",
       "1                                       NaN       97390       NaN  \n",
       "2                                       NaN       97390       NaN  \n",
       "3                                       NaN       97300       NaN  \n",
       "4                                       NaN       97295       NaN  \n",
       "..                                      ...         ...       ...  \n",
       "617  http://www.facebook.com/cazuelasmerida       97347       NaN  \n",
       "618                                     NaN       97302      50.5  \n",
       "619     https://www.instagram.com/frapplo_/       97302      50.5  \n",
       "620                                     NaN       97302       NaN  \n",
       "621                                     NaN       97302     150.0  \n",
       "\n",
       "[622 rows x 11 columns]"
      ]
     },
     "execution_count": 103,
     "metadata": {},
     "output_type": "execute_result"
    }
   ],
   "source": [
    "coffee_shops"
   ]
  },
  {
   "cell_type": "markdown",
   "id": "75683b44",
   "metadata": {},
   "source": [
    "#### Exploratory Data Analysis                                      \n"
   ]
  },
  {
   "cell_type": "code",
   "execution_count": 104,
   "id": "acfd2d68",
   "metadata": {},
   "outputs": [
    {
     "data": {
      "application/vnd.plotly.v1+json": {
       "config": {
        "plotlyServerURL": "https://plot.ly"
       },
       "data": [
        {
         "coloraxis": "coloraxis",
         "hovertemplate": "lat=%{lat}<br>lon=%{lon}<extra></extra>",
         "lat": {
          "bdata": "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",
          "dtype": "f8"
         },
         "lon": {
          "bdata": "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",
          "dtype": "f8"
         },
         "name": "",
         "subplot": "map",
         "type": "densitymap"
        }
       ],
       "layout": {
        "coloraxis": {
         "colorscale": [
          [
           0,
           "#0d0887"
          ],
          [
           0.1111111111111111,
           "#46039f"
          ],
          [
           0.2222222222222222,
           "#7201a8"
          ],
          [
           0.3333333333333333,
           "#9c179e"
          ],
          [
           0.4444444444444444,
           "#bd3786"
          ],
          [
           0.5555555555555556,
           "#d8576b"
          ],
          [
           0.6666666666666666,
           "#ed7953"
          ],
          [
           0.7777777777777778,
           "#fb9f3a"
          ],
          [
           0.8888888888888888,
           "#fdca26"
          ],
          [
           1,
           "#f0f921"
          ]
         ],
         "showscale": false
        },
        "height": 1000,
        "legend": {
         "tracegroupgap": 0
        },
        "map": {
         "center": {
          "lat": 20.992825805144697,
          "lon": -89.62910140964631
         },
         "domain": {
          "x": [
           0,
           1
          ],
          "y": [
           0,
           1
          ]
         },
         "zoom": 11
        },
        "mapbox": {
         "center": {
          "lat": 20.992825805144697,
          "lon": -89.62910140964631
         },
         "zoom": 11
        },
        "margin": {
         "b": 0,
         "l": 0,
         "r": 0,
         "t": 0
        },
        "template": {
         "data": {
          "bar": [
           {
            "error_x": {
             "color": "#2a3f5f"
            },
            "error_y": {
             "color": "#2a3f5f"
            },
            "marker": {
             "line": {
              "color": "#E5ECF6",
              "width": 0.5
             },
             "pattern": {
              "fillmode": "overlay",
              "size": 10,
              "solidity": 0.2
             }
            },
            "type": "bar"
           }
          ],
          "barpolar": [
           {
            "marker": {
             "line": {
              "color": "#E5ECF6",
              "width": 0.5
             },
             "pattern": {
              "fillmode": "overlay",
              "size": 10,
              "solidity": 0.2
             }
            },
            "type": "barpolar"
           }
          ],
          "carpet": [
           {
            "aaxis": {
             "endlinecolor": "#2a3f5f",
             "gridcolor": "white",
             "linecolor": "white",
             "minorgridcolor": "white",
             "startlinecolor": "#2a3f5f"
            },
            "baxis": {
             "endlinecolor": "#2a3f5f",
             "gridcolor": "white",
             "linecolor": "white",
             "minorgridcolor": "white",
             "startlinecolor": "#2a3f5f"
            },
            "type": "carpet"
           }
          ],
          "choropleth": [
           {
            "colorbar": {
             "outlinewidth": 0,
             "ticks": ""
            },
            "type": "choropleth"
           }
          ],
          "contour": [
           {
            "colorbar": {
             "outlinewidth": 0,
             "ticks": ""
            },
            "colorscale": [
             [
              0,
              "#0d0887"
             ],
             [
              0.1111111111111111,
              "#46039f"
             ],
             [
              0.2222222222222222,
              "#7201a8"
             ],
             [
              0.3333333333333333,
              "#9c179e"
             ],
             [
              0.4444444444444444,
              "#bd3786"
             ],
             [
              0.5555555555555556,
              "#d8576b"
             ],
             [
              0.6666666666666666,
              "#ed7953"
             ],
             [
              0.7777777777777778,
              "#fb9f3a"
             ],
             [
              0.8888888888888888,
              "#fdca26"
             ],
             [
              1,
              "#f0f921"
             ]
            ],
            "type": "contour"
           }
          ],
          "contourcarpet": [
           {
            "colorbar": {
             "outlinewidth": 0,
             "ticks": ""
            },
            "type": "contourcarpet"
           }
          ],
          "heatmap": [
           {
            "colorbar": {
             "outlinewidth": 0,
             "ticks": ""
            },
            "colorscale": [
             [
              0,
              "#0d0887"
             ],
             [
              0.1111111111111111,
              "#46039f"
             ],
             [
              0.2222222222222222,
              "#7201a8"
             ],
             [
              0.3333333333333333,
              "#9c179e"
             ],
             [
              0.4444444444444444,
              "#bd3786"
             ],
             [
              0.5555555555555556,
              "#d8576b"
             ],
             [
              0.6666666666666666,
              "#ed7953"
             ],
             [
              0.7777777777777778,
              "#fb9f3a"
             ],
             [
              0.8888888888888888,
              "#fdca26"
             ],
             [
              1,
              "#f0f921"
             ]
            ],
            "type": "heatmap"
           }
          ],
          "histogram": [
           {
            "marker": {
             "pattern": {
              "fillmode": "overlay",
              "size": 10,
              "solidity": 0.2
             }
            },
            "type": "histogram"
           }
          ],
          "histogram2d": [
           {
            "colorbar": {
             "outlinewidth": 0,
             "ticks": ""
            },
            "colorscale": [
             [
              0,
              "#0d0887"
             ],
             [
              0.1111111111111111,
              "#46039f"
             ],
             [
              0.2222222222222222,
              "#7201a8"
             ],
             [
              0.3333333333333333,
              "#9c179e"
             ],
             [
              0.4444444444444444,
              "#bd3786"
             ],
             [
              0.5555555555555556,
              "#d8576b"
             ],
             [
              0.6666666666666666,
              "#ed7953"
             ],
             [
              0.7777777777777778,
              "#fb9f3a"
             ],
             [
              0.8888888888888888,
              "#fdca26"
             ],
             [
              1,
              "#f0f921"
             ]
            ],
            "type": "histogram2d"
           }
          ],
          "histogram2dcontour": [
           {
            "colorbar": {
             "outlinewidth": 0,
             "ticks": ""
            },
            "colorscale": [
             [
              0,
              "#0d0887"
             ],
             [
              0.1111111111111111,
              "#46039f"
             ],
             [
              0.2222222222222222,
              "#7201a8"
             ],
             [
              0.3333333333333333,
              "#9c179e"
             ],
             [
              0.4444444444444444,
              "#bd3786"
             ],
             [
              0.5555555555555556,
              "#d8576b"
             ],
             [
              0.6666666666666666,
              "#ed7953"
             ],
             [
              0.7777777777777778,
              "#fb9f3a"
             ],
             [
              0.8888888888888888,
              "#fdca26"
             ],
             [
              1,
              "#f0f921"
             ]
            ],
            "type": "histogram2dcontour"
           }
          ],
          "mesh3d": [
           {
            "colorbar": {
             "outlinewidth": 0,
             "ticks": ""
            },
            "type": "mesh3d"
           }
          ],
          "parcoords": [
           {
            "line": {
             "colorbar": {
              "outlinewidth": 0,
              "ticks": ""
             }
            },
            "type": "parcoords"
           }
          ],
          "pie": [
           {
            "automargin": true,
            "type": "pie"
           }
          ],
          "scatter": [
           {
            "fillpattern": {
             "fillmode": "overlay",
             "size": 10,
             "solidity": 0.2
            },
            "type": "scatter"
           }
          ],
          "scatter3d": [
           {
            "line": {
             "colorbar": {
              "outlinewidth": 0,
              "ticks": ""
             }
            },
            "marker": {
             "colorbar": {
              "outlinewidth": 0,
              "ticks": ""
             }
            },
            "type": "scatter3d"
           }
          ],
          "scattercarpet": [
           {
            "marker": {
             "colorbar": {
              "outlinewidth": 0,
              "ticks": ""
             }
            },
            "type": "scattercarpet"
           }
          ],
          "scattergeo": [
           {
            "marker": {
             "colorbar": {
              "outlinewidth": 0,
              "ticks": ""
             }
            },
            "type": "scattergeo"
           }
          ],
          "scattergl": [
           {
            "marker": {
             "colorbar": {
              "outlinewidth": 0,
              "ticks": ""
             }
            },
            "type": "scattergl"
           }
          ],
          "scattermap": [
           {
            "marker": {
             "colorbar": {
              "outlinewidth": 0,
              "ticks": ""
             }
            },
            "type": "scattermap"
           }
          ],
          "scattermapbox": [
           {
            "marker": {
             "colorbar": {
              "outlinewidth": 0,
              "ticks": ""
             }
            },
            "type": "scattermapbox"
           }
          ],
          "scatterpolar": [
           {
            "marker": {
             "colorbar": {
              "outlinewidth": 0,
              "ticks": ""
             }
            },
            "type": "scatterpolar"
           }
          ],
          "scatterpolargl": [
           {
            "marker": {
             "colorbar": {
              "outlinewidth": 0,
              "ticks": ""
             }
            },
            "type": "scatterpolargl"
           }
          ],
          "scatterternary": [
           {
            "marker": {
             "colorbar": {
              "outlinewidth": 0,
              "ticks": ""
             }
            },
            "type": "scatterternary"
           }
          ],
          "surface": [
           {
            "colorbar": {
             "outlinewidth": 0,
             "ticks": ""
            },
            "colorscale": [
             [
              0,
              "#0d0887"
             ],
             [
              0.1111111111111111,
              "#46039f"
             ],
             [
              0.2222222222222222,
              "#7201a8"
             ],
             [
              0.3333333333333333,
              "#9c179e"
             ],
             [
              0.4444444444444444,
              "#bd3786"
             ],
             [
              0.5555555555555556,
              "#d8576b"
             ],
             [
              0.6666666666666666,
              "#ed7953"
             ],
             [
              0.7777777777777778,
              "#fb9f3a"
             ],
             [
              0.8888888888888888,
              "#fdca26"
             ],
             [
              1,
              "#f0f921"
             ]
            ],
            "type": "surface"
           }
          ],
          "table": [
           {
            "cells": {
             "fill": {
              "color": "#EBF0F8"
             },
             "line": {
              "color": "white"
             }
            },
            "header": {
             "fill": {
              "color": "#C8D4E3"
             },
             "line": {
              "color": "white"
             }
            },
            "type": "table"
           }
          ]
         },
         "layout": {
          "annotationdefaults": {
           "arrowcolor": "#2a3f5f",
           "arrowhead": 0,
           "arrowwidth": 1
          },
          "autotypenumbers": "strict",
          "coloraxis": {
           "colorbar": {
            "outlinewidth": 0,
            "ticks": ""
           }
          },
          "colorscale": {
           "diverging": [
            [
             0,
             "#8e0152"
            ],
            [
             0.1,
             "#c51b7d"
            ],
            [
             0.2,
             "#de77ae"
            ],
            [
             0.3,
             "#f1b6da"
            ],
            [
             0.4,
             "#fde0ef"
            ],
            [
             0.5,
             "#f7f7f7"
            ],
            [
             0.6,
             "#e6f5d0"
            ],
            [
             0.7,
             "#b8e186"
            ],
            [
             0.8,
             "#7fbc41"
            ],
            [
             0.9,
             "#4d9221"
            ],
            [
             1,
             "#276419"
            ]
           ],
           "sequential": [
            [
             0,
             "#0d0887"
            ],
            [
             0.1111111111111111,
             "#46039f"
            ],
            [
             0.2222222222222222,
             "#7201a8"
            ],
            [
             0.3333333333333333,
             "#9c179e"
            ],
            [
             0.4444444444444444,
             "#bd3786"
            ],
            [
             0.5555555555555556,
             "#d8576b"
            ],
            [
             0.6666666666666666,
             "#ed7953"
            ],
            [
             0.7777777777777778,
             "#fb9f3a"
            ],
            [
             0.8888888888888888,
             "#fdca26"
            ],
            [
             1,
             "#f0f921"
            ]
           ],
           "sequentialminus": [
            [
             0,
             "#0d0887"
            ],
            [
             0.1111111111111111,
             "#46039f"
            ],
            [
             0.2222222222222222,
             "#7201a8"
            ],
            [
             0.3333333333333333,
             "#9c179e"
            ],
            [
             0.4444444444444444,
             "#bd3786"
            ],
            [
             0.5555555555555556,
             "#d8576b"
            ],
            [
             0.6666666666666666,
             "#ed7953"
            ],
            [
             0.7777777777777778,
             "#fb9f3a"
            ],
            [
             0.8888888888888888,
             "#fdca26"
            ],
            [
             1,
             "#f0f921"
            ]
           ]
          },
          "colorway": [
           "#636efa",
           "#EF553B",
           "#00cc96",
           "#ab63fa",
           "#FFA15A",
           "#19d3f3",
           "#FF6692",
           "#B6E880",
           "#FF97FF",
           "#FECB52"
          ],
          "font": {
           "color": "#2a3f5f"
          },
          "geo": {
           "bgcolor": "white",
           "lakecolor": "white",
           "landcolor": "#E5ECF6",
           "showlakes": true,
           "showland": true,
           "subunitcolor": "white"
          },
          "hoverlabel": {
           "align": "left"
          },
          "hovermode": "closest",
          "mapbox": {
           "style": "light"
          },
          "paper_bgcolor": "white",
          "plot_bgcolor": "#E5ECF6",
          "polar": {
           "angularaxis": {
            "gridcolor": "white",
            "linecolor": "white",
            "ticks": ""
           },
           "bgcolor": "#E5ECF6",
           "radialaxis": {
            "gridcolor": "white",
            "linecolor": "white",
            "ticks": ""
           }
          },
          "scene": {
           "xaxis": {
            "backgroundcolor": "#E5ECF6",
            "gridcolor": "white",
            "gridwidth": 2,
            "linecolor": "white",
            "showbackground": true,
            "ticks": "",
            "zerolinecolor": "white"
           },
           "yaxis": {
            "backgroundcolor": "#E5ECF6",
            "gridcolor": "white",
            "gridwidth": 2,
            "linecolor": "white",
            "showbackground": true,
            "ticks": "",
            "zerolinecolor": "white"
           },
           "zaxis": {
            "backgroundcolor": "#E5ECF6",
            "gridcolor": "white",
            "gridwidth": 2,
            "linecolor": "white",
            "showbackground": true,
            "ticks": "",
            "zerolinecolor": "white"
           }
          },
          "shapedefaults": {
           "line": {
            "color": "#2a3f5f"
           }
          },
          "ternary": {
           "aaxis": {
            "gridcolor": "white",
            "linecolor": "white",
            "ticks": ""
           },
           "baxis": {
            "gridcolor": "white",
            "linecolor": "white",
            "ticks": ""
           },
           "bgcolor": "#E5ECF6",
           "caxis": {
            "gridcolor": "white",
            "linecolor": "white",
            "ticks": ""
           }
          },
          "title": {
           "x": 0.05
          },
          "xaxis": {
           "automargin": true,
           "gridcolor": "white",
           "linecolor": "white",
           "ticks": "",
           "title": {
            "standoff": 15
           },
           "zerolinecolor": "white",
           "zerolinewidth": 2
          },
          "yaxis": {
           "automargin": true,
           "gridcolor": "white",
           "linecolor": "white",
           "ticks": "",
           "title": {
            "standoff": 15
           },
           "zerolinecolor": "white",
           "zerolinewidth": 2
          }
         }
        },
        "width": 1000
       }
      }
     },
     "metadata": {},
     "output_type": "display_data"
    }
   ],
   "source": [
    "lat = [pos['latitude'] for pos in coffee_shops['location']]\n",
    "lon = [pos['longitude'] for pos in coffee_shops['location']]\n",
    "\n",
    "fig = px.density_map(lat=lat, lon=lon, zoom=11, width=1000, height=1000)\n",
    "fig.update_layout(margin={\"r\":0,\"t\":0,\"l\":0,\"b\":0}, coloraxis_showscale=False)\n",
    "\n",
    "fig.show()"
   ]
  },
  {
   "cell_type": "code",
   "execution_count": 105,
   "id": "d682231f",
   "metadata": {},
   "outputs": [
    {
     "data": {
      "text/html": [
       "<div style=\"width:100%;\"><div style=\"position:relative;width:100%;height:0;padding-bottom:60%;\"><span style=\"color:#565656\">Make this Notebook Trusted to load map: File -> Trust Notebook</span><iframe srcdoc=\"&lt;!DOCTYPE html&gt;\n",
       "&lt;html&gt;\n",
       "&lt;head&gt;\n",
       "    \n",
       "    &lt;meta http-equiv=&quot;content-type&quot; content=&quot;text/html; charset=UTF-8&quot; /&gt;\n",
       "    &lt;script src=&quot;https://cdn.jsdelivr.net/npm/leaflet@1.9.3/dist/leaflet.js&quot;&gt;&lt;/script&gt;\n",
       "    &lt;script src=&quot;https://code.jquery.com/jquery-3.7.1.min.js&quot;&gt;&lt;/script&gt;\n",
       "    &lt;script src=&quot;https://cdn.jsdelivr.net/npm/bootstrap@5.2.2/dist/js/bootstrap.bundle.min.js&quot;&gt;&lt;/script&gt;\n",
       "    &lt;script src=&quot;https://cdnjs.cloudflare.com/ajax/libs/Leaflet.awesome-markers/2.0.2/leaflet.awesome-markers.js&quot;&gt;&lt;/script&gt;\n",
       "    &lt;link rel=&quot;stylesheet&quot; href=&quot;https://cdn.jsdelivr.net/npm/leaflet@1.9.3/dist/leaflet.css&quot;/&gt;\n",
       "    &lt;link rel=&quot;stylesheet&quot; href=&quot;https://cdn.jsdelivr.net/npm/bootstrap@5.2.2/dist/css/bootstrap.min.css&quot;/&gt;\n",
       "    &lt;link rel=&quot;stylesheet&quot; href=&quot;https://netdna.bootstrapcdn.com/bootstrap/3.0.0/css/bootstrap-glyphicons.css&quot;/&gt;\n",
       "    &lt;link rel=&quot;stylesheet&quot; href=&quot;https://cdn.jsdelivr.net/npm/@fortawesome/fontawesome-free@6.2.0/css/all.min.css&quot;/&gt;\n",
       "    &lt;link rel=&quot;stylesheet&quot; href=&quot;https://cdnjs.cloudflare.com/ajax/libs/Leaflet.awesome-markers/2.0.2/leaflet.awesome-markers.css&quot;/&gt;\n",
       "    &lt;link rel=&quot;stylesheet&quot; href=&quot;https://cdn.jsdelivr.net/gh/python-visualization/folium/folium/templates/leaflet.awesome.rotate.min.css&quot;/&gt;\n",
       "    \n",
       "            &lt;meta name=&quot;viewport&quot; content=&quot;width=device-width,\n",
       "                initial-scale=1.0, maximum-scale=1.0, user-scalable=no&quot; /&gt;\n",
       "            &lt;style&gt;\n",
       "                #map_27217ea373bcf9cf250c361dec29a325 {\n",
       "                    position: relative;\n",
       "                    width: 100.0%;\n",
       "                    height: 100.0%;\n",
       "                    left: 0.0%;\n",
       "                    top: 0.0%;\n",
       "                }\n",
       "                .leaflet-container { font-size: 1rem; }\n",
       "            &lt;/style&gt;\n",
       "\n",
       "            &lt;style&gt;html, body {\n",
       "                width: 100%;\n",
       "                height: 100%;\n",
       "                margin: 0;\n",
       "                padding: 0;\n",
       "            }\n",
       "            &lt;/style&gt;\n",
       "\n",
       "            &lt;style&gt;#map {\n",
       "                position:absolute;\n",
       "                top:0;\n",
       "                bottom:0;\n",
       "                right:0;\n",
       "                left:0;\n",
       "                }\n",
       "            &lt;/style&gt;\n",
       "\n",
       "            &lt;script&gt;\n",
       "                L_NO_TOUCH = false;\n",
       "                L_DISABLE_3D = false;\n",
       "            &lt;/script&gt;\n",
       "\n",
       "        \n",
       "&lt;/head&gt;\n",
       "&lt;body&gt;\n",
       "    \n",
       "    \n",
       "            &lt;div class=&quot;folium-map&quot; id=&quot;map_27217ea373bcf9cf250c361dec29a325&quot; &gt;&lt;/div&gt;\n",
       "        \n",
       "&lt;/body&gt;\n",
       "&lt;script&gt;\n",
       "    \n",
       "    \n",
       "            var map_27217ea373bcf9cf250c361dec29a325 = L.map(\n",
       "                &quot;map_27217ea373bcf9cf250c361dec29a325&quot;,\n",
       "                {\n",
       "                    center: [20.96824772136504, -89.62413058864624],\n",
       "                    crs: L.CRS.EPSG3857,\n",
       "                    ...{\n",
       "  &quot;zoom&quot;: 12,\n",
       "  &quot;zoomControl&quot;: true,\n",
       "  &quot;preferCanvas&quot;: false,\n",
       "}\n",
       "\n",
       "                }\n",
       "            );\n",
       "\n",
       "            \n",
       "\n",
       "        \n",
       "    \n",
       "            var tile_layer_6e642d50515cd17743e0f112a1da8cd7 = L.tileLayer(\n",
       "                &quot;https://tile.openstreetmap.org/{z}/{x}/{y}.png&quot;,\n",
       "                {\n",
       "  &quot;minZoom&quot;: 0,\n",
       "  &quot;maxZoom&quot;: 19,\n",
       "  &quot;maxNativeZoom&quot;: 19,\n",
       "  &quot;noWrap&quot;: false,\n",
       "  &quot;attribution&quot;: &quot;\\u0026copy; \\u003ca href=\\&quot;https://www.openstreetmap.org/copyright\\&quot;\\u003eOpenStreetMap\\u003c/a\\u003e contributors&quot;,\n",
       "  &quot;subdomains&quot;: &quot;abc&quot;,\n",
       "  &quot;detectRetina&quot;: false,\n",
       "  &quot;tms&quot;: false,\n",
       "  &quot;opacity&quot;: 1,\n",
       "}\n",
       "\n",
       "            );\n",
       "        \n",
       "    \n",
       "            tile_layer_6e642d50515cd17743e0f112a1da8cd7.addTo(map_27217ea373bcf9cf250c361dec29a325);\n",
       "        \n",
       "&lt;/script&gt;\n",
       "&lt;/html&gt;\" style=\"position:absolute;width:100%;height:100%;left:0;top:0;border:none !important;\" allowfullscreen webkitallowfullscreen mozallowfullscreen></iframe></div></div>"
      ],
      "text/plain": [
       "<folium.folium.Map at 0x1ced71329c0>"
      ]
     },
     "execution_count": 105,
     "metadata": {},
     "output_type": "execute_result"
    }
   ],
   "source": [
    "m = folium.Map(location=(20.96824772136504, -89.62413058864624), zoom_start=12)\n",
    "\n",
    "m"
   ]
  },
  {
   "cell_type": "code",
   "execution_count": 106,
   "id": "7c9433d5",
   "metadata": {},
   "outputs": [
    {
     "data": {
      "image/png": "[encoded data removed]",
      "text/plain": [
       "<Figure size 1500x700 with 1 Axes>"
      ]
     },
     "metadata": {},
     "output_type": "display_data"
    }
   ],
   "source": [
    "sns.set_theme(context='poster', font='serif', font_scale=0.8)\n",
    "\n",
    "plt.figure(figsize=(15,7), facecolor='oldlace')\n",
    "sns.scatterplot(x=coffee_shops['userRatingCount'], y=coffee_shops['rating'], c='tab:brown', marker='.')\n",
    "plt.xlabel('\\nNumber of Reviews')\n",
    "plt.ylabel('Average Rating\\n')\n",
    "plt.title('Identifying Market Leaders:\\nQuality (Rating) vs. Popularity (Reviews)\\n')\n",
    "\n",
    "plt.show()"
   ]
  },
  {
   "cell_type": "code",
   "execution_count": 107,
   "id": "78285ca3",
   "metadata": {},
   "outputs": [
    {
     "data": {
      "text/html": [
       "<div>\n",
       "<style scoped>\n",
       "    .dataframe tbody tr th:only-of-type {\n",
       "        vertical-align: middle;\n",
       "    }\n",
       "\n",
       "    .dataframe tbody tr th {\n",
       "        vertical-align: top;\n",
       "    }\n",
       "\n",
       "    .dataframe thead th {\n",
       "        text-align: right;\n",
       "    }\n",
       "</style>\n",
       "<table border=\"1\" class=\"dataframe\">\n",
       "  <thead>\n",
       "    <tr style=\"text-align: right;\">\n",
       "      <th></th>\n",
       "      <th>Name</th>\n",
       "      <th>Rating</th>\n",
       "      <th>Reviews</th>\n",
       "      <th>Address</th>\n",
       "    </tr>\n",
       "  </thead>\n",
       "  <tbody>\n",
       "    <tr>\n",
       "      <th>1</th>\n",
       "      <td>Cucu Bistro Norte</td>\n",
       "      <td>4.8</td>\n",
       "      <td>1027.0</td>\n",
       "      <td>Av Jose Diaz Bolio 78, Col. México, México, 97...</td>\n",
       "    </tr>\n",
       "    <tr>\n",
       "      <th>2</th>\n",
       "      <td>Alma Piedra</td>\n",
       "      <td>4.7</td>\n",
       "      <td>1582.0</td>\n",
       "      <td>C. 50 entre 43 y 45 #422, Centro, 97000 Mérida...</td>\n",
       "    </tr>\n",
       "    <tr>\n",
       "      <th>3</th>\n",
       "      <td>Flores Café</td>\n",
       "      <td>4.7</td>\n",
       "      <td>1015.0</td>\n",
       "      <td>C. 16 198M, García Ginerés, 97070 Mérida, Yuc....</td>\n",
       "    </tr>\n",
       "    <tr>\n",
       "      <th>4</th>\n",
       "      <td>La Poperia</td>\n",
       "      <td>4.7</td>\n",
       "      <td>1647.0</td>\n",
       "      <td>C. 23 Local, Calle 10 40-A y 40 B, Los Pinos, ...</td>\n",
       "    </tr>\n",
       "    <tr>\n",
       "      <th>5</th>\n",
       "      <td>Placer &amp; Delirio</td>\n",
       "      <td>4.6</td>\n",
       "      <td>1008.0</td>\n",
       "      <td>C. 59 572, entre 72 Y 74, Barrio de Santiago, ...</td>\n",
       "    </tr>\n",
       "    <tr>\n",
       "      <th>6</th>\n",
       "      <td>Manifesto Casa Tostadora Calabrese</td>\n",
       "      <td>4.6</td>\n",
       "      <td>1314.0</td>\n",
       "      <td>Calle 59 #538 por 66 y 68, Barrio de Santiago,...</td>\n",
       "    </tr>\n",
       "    <tr>\n",
       "      <th>7</th>\n",
       "      <td>Kadus Bistro</td>\n",
       "      <td>4.6</td>\n",
       "      <td>1869.0</td>\n",
       "      <td>C. 60 326 Col, Alcalá Martín, 97050 Mérida, Yu...</td>\n",
       "    </tr>\n",
       "    <tr>\n",
       "      <th>8</th>\n",
       "      <td>Café Montejo</td>\n",
       "      <td>4.5</td>\n",
       "      <td>2112.0</td>\n",
       "      <td>C. 59 584, entre 72 y 74, Barrio de Santiago, ...</td>\n",
       "    </tr>\n",
       "    <tr>\n",
       "      <th>9</th>\n",
       "      <td>Márago Coffee - Paseo de Montejo</td>\n",
       "      <td>4.5</td>\n",
       "      <td>1770.0</td>\n",
       "      <td>P.º de Montejo 481-Int 101, entre 39 y 41, Zon...</td>\n",
       "    </tr>\n",
       "    <tr>\n",
       "      <th>10</th>\n",
       "      <td>Starbucks</td>\n",
       "      <td>4.5</td>\n",
       "      <td>3086.0</td>\n",
       "      <td>C. 31 102, Itzimná, 97128 Mérida, Yuc., Mexico</td>\n",
       "    </tr>\n",
       "  </tbody>\n",
       "</table>\n",
       "</div>"
      ],
      "text/plain": [
       "                                  Name  Rating  Reviews  \\\n",
       "1                    Cucu Bistro Norte     4.8   1027.0   \n",
       "2                          Alma Piedra     4.7   1582.0   \n",
       "3                          Flores Café     4.7   1015.0   \n",
       "4                           La Poperia     4.7   1647.0   \n",
       "5                     Placer & Delirio     4.6   1008.0   \n",
       "6   Manifesto Casa Tostadora Calabrese     4.6   1314.0   \n",
       "7                         Kadus Bistro     4.6   1869.0   \n",
       "8                         Café Montejo     4.5   2112.0   \n",
       "9     Márago Coffee - Paseo de Montejo     4.5   1770.0   \n",
       "10                           Starbucks     4.5   3086.0   \n",
       "\n",
       "                                              Address  \n",
       "1   Av Jose Diaz Bolio 78, Col. México, México, 97...  \n",
       "2   C. 50 entre 43 y 45 #422, Centro, 97000 Mérida...  \n",
       "3   C. 16 198M, García Ginerés, 97070 Mérida, Yuc....  \n",
       "4   C. 23 Local, Calle 10 40-A y 40 B, Los Pinos, ...  \n",
       "5   C. 59 572, entre 72 Y 74, Barrio de Santiago, ...  \n",
       "6   Calle 59 #538 por 66 y 68, Barrio de Santiago,...  \n",
       "7   C. 60 326 Col, Alcalá Martín, 97050 Mérida, Yu...  \n",
       "8   C. 59 584, entre 72 y 74, Barrio de Santiago, ...  \n",
       "9   P.º de Montejo 481-Int 101, entre 39 y 41, Zon...  \n",
       "10     C. 31 102, Itzimná, 97128 Mérida, Yuc., Mexico  "
      ]
     },
     "execution_count": 107,
     "metadata": {},
     "output_type": "execute_result"
    }
   ],
   "source": [
    "best_coffee_shops = coffee_shops[(coffee_shops['rating'] >= 4.5) & (coffee_shops['userRatingCount'] >= 1000)].sort_values(by='rating', ascending=False)[['displayName', 'rating', 'userRatingCount', 'formattedAddress']].iloc[:10]\n",
    "best_coffee_shops.rename(columns={'displayName':'Name', 'rating':'Rating', 'userRatingCount':'Reviews', 'formattedAddress':'Address'}).set_index(pd.RangeIndex(1, 11))"
   ]
  },
  {
   "cell_type": "code",
   "execution_count": 108,
   "id": "9a6fbf84",
   "metadata": {},
   "outputs": [
    {
     "data": {
      "image/png": "[encoded data removed]",
      "text/plain": [
       "<Figure size 1200x1000 with 1 Axes>"
      ]
     },
     "metadata": {},
     "output_type": "display_data"
    }
   ],
   "source": [
    "avgRating_vs_avgPrice = coffee_shops.groupby('avgPrice')['rating'].mean()\n",
    "\n",
    "plt.figure(figsize=(12,10), facecolor='oldlace')\n",
    "ax = sns.barplot(x=avgRating_vs_avgPrice.index, y=avgRating_vs_avgPrice.values, color='tab:brown')\n",
    "plt.xlabel('Average Price (MXN)')\n",
    "plt.ylabel('Rating')\n",
    "plt.title('Price Performance:\\nAverage Rating by Average Price Level (MXN)\\n')\n",
    "\n",
    "\n",
    "for container in ax.containers:\n",
    "    ax.bar_label(container, fmt='%.2f')"
   ]
  }
 ],
 "metadata": {
  "kernelspec": {
   "display_name": "coffee-analysis-venv",
   "language": "python",
   "name": "python3"
  },
  "language_info": {
   "codemirror_mode": {
    "name": "ipython",
    "version": 3
   },
   "file_extension": ".py",
   "mimetype": "text/x-python",
   "name": "python",
   "nbconvert_exporter": "python",
   "pygments_lexer": "ipython3",
   "version": "3.13.9"
  }
 },
 "nbformat": 4,
 "nbformat_minor": 5
}
